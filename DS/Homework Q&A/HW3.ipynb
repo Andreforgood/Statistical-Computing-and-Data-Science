{
 "cells": [
  {
   "cell_type": "code",
   "execution_count": null,
   "id": "df67e19c",
   "metadata": {},
   "outputs": [],
   "source": []
  },
  {
   "cell_type": "markdown",
   "id": "608dd61b",
   "metadata": {},
   "source": [
    "1. **Array Creation**: Create a 1D NumPy array containing the numbers from 0 to 9. Then reshape it into a 2D array with 2 rows and 5 columns."
   ]
  },
  {
   "cell_type": "code",
   "execution_count": 14,
   "id": "f4da26a4",
   "metadata": {},
   "outputs": [
    {
     "name": "stdout",
     "output_type": "stream",
     "text": [
      "[0 1 2 3 4 5 6 7 8 9]\n",
      "[[0 1 2 3 4]\n",
      " [5 6 7 8 9]]\n"
     ]
    }
   ],
   "source": [
    "import numpy as np\n",
    "one_d = np.array([0,1,2,3,4,5,6,7,8,9])\n",
    "print(one_d)\n",
    "two_d = one_d.reshape((2,5))\n",
    "print(two_d)"
   ]
  },
  {
   "cell_type": "code",
   "execution_count": 2,
   "id": "1db8c88b",
   "metadata": {},
   "outputs": [
    {
     "data": {
      "text/plain": [
       "array([[0, 1, 2, 3, 4],\n",
       "       [5, 6, 7, 8, 9]])"
      ]
     },
     "execution_count": 2,
     "metadata": {},
     "output_type": "execute_result"
    }
   ],
   "source": [
    "import numpy as np\n",
    "\n",
    "# Create a 1D NumPy array containing numbers from 0 to 9\n",
    "array_1d = np.arange(10)\n",
    "\n",
    "# Reshape it into a 2D array with 2 rows and 5 columns\n",
    "array_2d = array_1d.reshape(2, 5)\n",
    "\n",
    "array_2d\n"
   ]
  },
  {
   "cell_type": "markdown",
   "id": "e2a50600",
   "metadata": {},
   "source": [
    "2. **Array Operations**: Given two NumPy arrays `a = np.array([1, 2, 3])` and `b = np.array([4, 5, 6])`, perform the following operations:\n",
    "   - Add the two arrays.\n",
    "   - Multiply the two arrays element-wise.\n",
    "   - Find the dot product of the two arrays."
   ]
  },
  {
   "cell_type": "code",
   "execution_count": 3,
   "id": "6f53cb15",
   "metadata": {},
   "outputs": [
    {
     "data": {
      "text/plain": [
       "(array([5, 7, 9]), array([ 4, 10, 18]), 32)"
      ]
     },
     "execution_count": 3,
     "metadata": {},
     "output_type": "execute_result"
    }
   ],
   "source": [
    "a = np.array([1, 2, 3])\n",
    "b = np.array([4, 5, 6])\n",
    "\n",
    "# 1. Add the two arrays\n",
    "addition = a + b\n",
    "\n",
    "# 2. Multiply the two arrays element-wise\n",
    "elementwise_multiplication = a * b\n",
    "\n",
    "# 3. Find the dot product of the two arrays\n",
    "dot_product = np.dot(a, b)\n",
    "\n",
    "addition, elementwise_multiplication, dot_product\n"
   ]
  },
  {
   "cell_type": "markdown",
   "id": "ccad0d1c",
   "metadata": {},
   "source": [
    "\n",
    "3. **Statistical Functions**: Create a NumPy array of 100 random numbers between 0 and 1. Calculate the mean, median, and standard deviation of the array."
   ]
  },
  {
   "cell_type": "code",
   "execution_count": 6,
   "id": "b5c0c5a6",
   "metadata": {},
   "outputs": [
    {
     "name": "stdout",
     "output_type": "stream",
     "text": [
      "[0.37959614 0.86112176 0.67895564 0.93802119 0.77479677 0.26439765\n",
      " 0.78488118 0.16202867 0.50464092 0.08335267 0.23934959 0.62631186\n",
      " 0.4390085  0.052486   0.87671591 0.21307172 0.37285582 0.36783789\n",
      " 0.08871647 0.57689853 0.47447069 0.47351942 0.5081831  0.26810705\n",
      " 0.2835592  0.78128595 0.08887484 0.13893163 0.00983362 0.31806977\n",
      " 0.82170753 0.83286749 0.02629985 0.86256097 0.67232522 0.21858889\n",
      " 0.01071869 0.25503607 0.55227366 0.89511843 0.53498381 0.89813568\n",
      " 0.20912791 0.55739423 0.37174524 0.58423901 0.6524169  0.11870669\n",
      " 0.92240669 0.36817685 0.98928788 0.96744738 0.12026853 0.52870615\n",
      " 0.90462728 0.11101519 0.04489608 0.27478942 0.29144686 0.90607496\n",
      " 0.51754797 0.42131502 0.28391851 0.3687399  0.59091034 0.53558695\n",
      " 0.58442416 0.92960084 0.73578399 0.46582462 0.73888028 0.63966488\n",
      " 0.76286701 0.29896225 0.35411567 0.77698722 0.6153649  0.70136795\n",
      " 0.75345607 0.72186141 0.18647497 0.76695183 0.75654023 0.43420496\n",
      " 0.15562462 0.17094639 0.51831598 0.35313456 0.14786463 0.18670003\n",
      " 0.78021451 0.07407619 0.71969744 0.3764723  0.65550331 0.02950986\n",
      " 0.41015815 0.16889349 0.47113774 0.97227676]\n"
     ]
    },
    {
     "data": {
      "text/plain": [
       "(0.48265147598353797, 0.4739950543408527, 0.2805630053040475)"
      ]
     },
     "execution_count": 6,
     "metadata": {},
     "output_type": "execute_result"
    }
   ],
   "source": [
    "random_array = np.random.rand(100) #Generates random numbers from a uniform distribution over the interval [0, 1).\n",
    "print(random_array)\n",
    "\n",
    "# Calculating the mean, median, and standard deviation\n",
    "mean_value = np.mean(random_array)\n",
    "median_value = np.median(random_array)\n",
    "std_deviation = np.std(random_array)\n",
    "\n",
    "mean_value, median_value, std_deviation\n"
   ]
  },
  {
   "cell_type": "markdown",
   "id": "9e10efc0",
   "metadata": {},
   "source": [
    "4. **Boolean Indexing**: Create a NumPy array of integers from 1 to 20. Use boolean indexing to extract all even numbers from the array."
   ]
  },
  {
   "cell_type": "code",
   "execution_count": 10,
   "id": "2f04113d",
   "metadata": {},
   "outputs": [
    {
     "data": {
      "text/plain": [
       "array([ 2,  4,  6,  8, 10, 12, 14, 16, 18, 20])"
      ]
     },
     "execution_count": 10,
     "metadata": {},
     "output_type": "execute_result"
    }
   ],
   "source": [
    "my_array = np.arange(1,21)\n",
    "#my_even_array = [x for x in my_array if x%2 ==0]\n",
    "my_even_array = my_array[my_array % 2 == 0]\n",
    "my_even_array"
   ]
  },
  {
   "cell_type": "markdown",
   "id": "d72e48d5",
   "metadata": {},
   "source": [
    "5. **Matrix Operations**: Create two 2D NumPy arrays (3x3) and perform matrix multiplication. Verify the result using the `np.dot()` function.\n"
   ]
  },
  {
   "cell_type": "code",
   "execution_count": 11,
   "id": "2649e887",
   "metadata": {},
   "outputs": [
    {
     "data": {
      "text/plain": [
       "(array([[ 30,  24,  18],\n",
       "        [ 84,  69,  54],\n",
       "        [138, 114,  90]]),\n",
       " array([[ 30,  24,  18],\n",
       "        [ 84,  69,  54],\n",
       "        [138, 114,  90]]))"
      ]
     },
     "execution_count": 11,
     "metadata": {},
     "output_type": "execute_result"
    }
   ],
   "source": [
    "matrix1 = np.array([[1, 2, 3],\n",
    "                    [4, 5, 6],\n",
    "                    [7, 8, 9]])\n",
    "\n",
    "matrix2 = np.array([[9, 8, 7],\n",
    "                    [6, 5, 4],\n",
    "                    [3, 2, 1]])\n",
    "\n",
    "# Performing matrix multiplication\n",
    "matrix_multiplication = np.matmul(matrix1, matrix2)\n",
    "\n",
    "# Verifying the result using np.dot()\n",
    "dot_product_result = np.dot(matrix1, matrix2)\n",
    "\n",
    "matrix_multiplication, dot_product_result\n"
   ]
  },
  {
   "cell_type": "markdown",
   "id": "c56df97b",
   "metadata": {},
   "source": [
    "### pandas Problems"
   ]
  },
  {
   "cell_type": "markdown",
   "id": "0b517e69",
   "metadata": {},
   "source": [
    "6. **DataFrame Creation**: Create a pandas DataFrame from a dictionary containing the following data:\n",
    "   ```python\n",
    "   data = {\n",
    "       'Name': ['Alice', 'Bob', 'Charlie'],\n",
    "       'Age': [25, 30, 35],\n",
    "       'City': ['New York', 'Los Angeles', 'Chicago']\n",
    "   }\n",
    "   ```\n",
    "   Display the DataFrame.\n"
   ]
  },
  {
   "cell_type": "code",
   "execution_count": 19,
   "id": "2cc21bb7",
   "metadata": {},
   "outputs": [
    {
     "data": {
      "text/html": [
       "<div>\n",
       "<style scoped>\n",
       "    .dataframe tbody tr th:only-of-type {\n",
       "        vertical-align: middle;\n",
       "    }\n",
       "\n",
       "    .dataframe tbody tr th {\n",
       "        vertical-align: top;\n",
       "    }\n",
       "\n",
       "    .dataframe thead th {\n",
       "        text-align: right;\n",
       "    }\n",
       "</style>\n",
       "<table border=\"1\" class=\"dataframe\">\n",
       "  <thead>\n",
       "    <tr style=\"text-align: right;\">\n",
       "      <th></th>\n",
       "      <th>Name</th>\n",
       "      <th>Age</th>\n",
       "      <th>City</th>\n",
       "    </tr>\n",
       "  </thead>\n",
       "  <tbody>\n",
       "    <tr>\n",
       "      <th>0</th>\n",
       "      <td>Alice</td>\n",
       "      <td>25</td>\n",
       "      <td>New York</td>\n",
       "    </tr>\n",
       "    <tr>\n",
       "      <th>1</th>\n",
       "      <td>Bob</td>\n",
       "      <td>30</td>\n",
       "      <td>Los Angeles</td>\n",
       "    </tr>\n",
       "    <tr>\n",
       "      <th>2</th>\n",
       "      <td>Charlie</td>\n",
       "      <td>35</td>\n",
       "      <td>Chicago</td>\n",
       "    </tr>\n",
       "  </tbody>\n",
       "</table>\n",
       "</div>"
      ],
      "text/plain": [
       "      Name  Age         City\n",
       "0    Alice   25     New York\n",
       "1      Bob   30  Los Angeles\n",
       "2  Charlie   35      Chicago"
      ]
     },
     "execution_count": 19,
     "metadata": {},
     "output_type": "execute_result"
    }
   ],
   "source": [
    "import pandas as pd\n",
    "data = {\n",
    "    'Name': ['Alice', 'Bob', 'Charlie'],\n",
    "    'Age': [25, 30, 35],\n",
    "    'City': ['New York', 'Los Angeles', 'Chicago']\n",
    "}\n",
    "\n",
    "my_df = pd.DataFrame(data)\n",
    "my_df\n"
   ]
  },
  {
   "cell_type": "markdown",
   "id": "32848902",
   "metadata": {},
   "source": [
    "7. **DataFrame Indexing**: Using the DataFrame created in the previous problem, select the 'Name' and 'City' columns and display the result."
   ]
  },
  {
   "cell_type": "code",
   "execution_count": 26,
   "id": "58c4611c",
   "metadata": {},
   "outputs": [
    {
     "data": {
      "text/html": [
       "<div>\n",
       "<style scoped>\n",
       "    .dataframe tbody tr th:only-of-type {\n",
       "        vertical-align: middle;\n",
       "    }\n",
       "\n",
       "    .dataframe tbody tr th {\n",
       "        vertical-align: top;\n",
       "    }\n",
       "\n",
       "    .dataframe thead th {\n",
       "        text-align: right;\n",
       "    }\n",
       "</style>\n",
       "<table border=\"1\" class=\"dataframe\">\n",
       "  <thead>\n",
       "    <tr style=\"text-align: right;\">\n",
       "      <th></th>\n",
       "      <th>Name</th>\n",
       "      <th>City</th>\n",
       "    </tr>\n",
       "  </thead>\n",
       "  <tbody>\n",
       "    <tr>\n",
       "      <th>0</th>\n",
       "      <td>Alice</td>\n",
       "      <td>New York</td>\n",
       "    </tr>\n",
       "    <tr>\n",
       "      <th>1</th>\n",
       "      <td>Bob</td>\n",
       "      <td>Los Angeles</td>\n",
       "    </tr>\n",
       "    <tr>\n",
       "      <th>2</th>\n",
       "      <td>Charlie</td>\n",
       "      <td>Chicago</td>\n",
       "    </tr>\n",
       "  </tbody>\n",
       "</table>\n",
       "</div>"
      ],
      "text/plain": [
       "      Name         City\n",
       "0    Alice     New York\n",
       "1      Bob  Los Angeles\n",
       "2  Charlie      Chicago"
      ]
     },
     "execution_count": 26,
     "metadata": {},
     "output_type": "execute_result"
    }
   ],
   "source": [
    "selected = my_df[['Name', 'City']]\n",
    "selected"
   ]
  },
  {
   "cell_type": "markdown",
   "id": "e6fe64bb",
   "metadata": {},
   "source": [
    "8. **Filtering Data**: Given the following DataFrame:\n",
    "   ```python\n",
    "   import pandas as pd\n",
    "\n",
    "   data = {\n",
    "       'Product': ['A', 'B', 'C', 'D'],\n",
    "       'Price': [100, 150, 200, 250],\n",
    "       'Stock': [30, 20, 0, 15]\n",
    "   }\n",
    "   df = pd.DataFrame(data)\n",
    "   ```\n",
    "   Filter the DataFrame to show only products that are in stock (Stock > 0)."
   ]
  },
  {
   "cell_type": "code",
   "execution_count": 27,
   "id": "18533da2",
   "metadata": {},
   "outputs": [
    {
     "data": {
      "text/html": [
       "<div>\n",
       "<style scoped>\n",
       "    .dataframe tbody tr th:only-of-type {\n",
       "        vertical-align: middle;\n",
       "    }\n",
       "\n",
       "    .dataframe tbody tr th {\n",
       "        vertical-align: top;\n",
       "    }\n",
       "\n",
       "    .dataframe thead th {\n",
       "        text-align: right;\n",
       "    }\n",
       "</style>\n",
       "<table border=\"1\" class=\"dataframe\">\n",
       "  <thead>\n",
       "    <tr style=\"text-align: right;\">\n",
       "      <th></th>\n",
       "      <th>Product</th>\n",
       "      <th>Price</th>\n",
       "      <th>Stock</th>\n",
       "    </tr>\n",
       "  </thead>\n",
       "  <tbody>\n",
       "    <tr>\n",
       "      <th>0</th>\n",
       "      <td>A</td>\n",
       "      <td>100</td>\n",
       "      <td>30</td>\n",
       "    </tr>\n",
       "    <tr>\n",
       "      <th>1</th>\n",
       "      <td>B</td>\n",
       "      <td>150</td>\n",
       "      <td>20</td>\n",
       "    </tr>\n",
       "    <tr>\n",
       "      <th>2</th>\n",
       "      <td>C</td>\n",
       "      <td>200</td>\n",
       "      <td>0</td>\n",
       "    </tr>\n",
       "    <tr>\n",
       "      <th>3</th>\n",
       "      <td>D</td>\n",
       "      <td>250</td>\n",
       "      <td>15</td>\n",
       "    </tr>\n",
       "  </tbody>\n",
       "</table>\n",
       "</div>"
      ],
      "text/plain": [
       "  Product  Price  Stock\n",
       "0       A    100     30\n",
       "1       B    150     20\n",
       "2       C    200      0\n",
       "3       D    250     15"
      ]
     },
     "execution_count": 27,
     "metadata": {},
     "output_type": "execute_result"
    }
   ],
   "source": [
    "data = {\n",
    "    'Product': ['A', 'B', 'C', 'D'],\n",
    "    'Price': [100, 150, 200, 250],\n",
    "    'Stock': [30, 20, 0, 15]\n",
    "}\n",
    "\n",
    "df = pd.DataFrame(data)\n",
    "df"
   ]
  },
  {
   "cell_type": "code",
   "execution_count": 28,
   "id": "be47896d",
   "metadata": {},
   "outputs": [
    {
     "data": {
      "text/html": [
       "<div>\n",
       "<style scoped>\n",
       "    .dataframe tbody tr th:only-of-type {\n",
       "        vertical-align: middle;\n",
       "    }\n",
       "\n",
       "    .dataframe tbody tr th {\n",
       "        vertical-align: top;\n",
       "    }\n",
       "\n",
       "    .dataframe thead th {\n",
       "        text-align: right;\n",
       "    }\n",
       "</style>\n",
       "<table border=\"1\" class=\"dataframe\">\n",
       "  <thead>\n",
       "    <tr style=\"text-align: right;\">\n",
       "      <th></th>\n",
       "      <th>Product</th>\n",
       "      <th>Price</th>\n",
       "      <th>Stock</th>\n",
       "    </tr>\n",
       "  </thead>\n",
       "  <tbody>\n",
       "    <tr>\n",
       "      <th>0</th>\n",
       "      <td>A</td>\n",
       "      <td>100</td>\n",
       "      <td>30</td>\n",
       "    </tr>\n",
       "    <tr>\n",
       "      <th>1</th>\n",
       "      <td>B</td>\n",
       "      <td>150</td>\n",
       "      <td>20</td>\n",
       "    </tr>\n",
       "    <tr>\n",
       "      <th>3</th>\n",
       "      <td>D</td>\n",
       "      <td>250</td>\n",
       "      <td>15</td>\n",
       "    </tr>\n",
       "  </tbody>\n",
       "</table>\n",
       "</div>"
      ],
      "text/plain": [
       "  Product  Price  Stock\n",
       "0       A    100     30\n",
       "1       B    150     20\n",
       "3       D    250     15"
      ]
     },
     "execution_count": 28,
     "metadata": {},
     "output_type": "execute_result"
    }
   ],
   "source": [
    "# Filtering the DataFrame to show only products that are in stock (Stock > 0)\n",
    "df_in_stock = df[df['Stock'] > 0]\n",
    "df_in_stock"
   ]
  },
  {
   "cell_type": "markdown",
   "id": "3cd351e9",
   "metadata": {},
   "source": [
    "9. **Group By**: Create a DataFrame with the following data:\n",
    "   ```python\n",
    "   data = {\n",
    "       'Team': ['A', 'A', 'B', 'B', 'C', 'C'],\n",
    "       'Points': [10, 20, 15, 25, 30, 10]\n",
    "   }\n",
    "   ```\n",
    "   Group the DataFrame by 'Team' and calculate the total points for each team."
   ]
  },
  {
   "cell_type": "code",
   "execution_count": 37,
   "id": "0e771282",
   "metadata": {},
   "outputs": [
    {
     "data": {
      "text/html": [
       "<div>\n",
       "<style scoped>\n",
       "    .dataframe tbody tr th:only-of-type {\n",
       "        vertical-align: middle;\n",
       "    }\n",
       "\n",
       "    .dataframe tbody tr th {\n",
       "        vertical-align: top;\n",
       "    }\n",
       "\n",
       "    .dataframe thead th {\n",
       "        text-align: right;\n",
       "    }\n",
       "</style>\n",
       "<table border=\"1\" class=\"dataframe\">\n",
       "  <thead>\n",
       "    <tr style=\"text-align: right;\">\n",
       "      <th></th>\n",
       "      <th>Team</th>\n",
       "      <th>Points</th>\n",
       "    </tr>\n",
       "  </thead>\n",
       "  <tbody>\n",
       "    <tr>\n",
       "      <th>0</th>\n",
       "      <td>A</td>\n",
       "      <td>30</td>\n",
       "    </tr>\n",
       "    <tr>\n",
       "      <th>1</th>\n",
       "      <td>B</td>\n",
       "      <td>40</td>\n",
       "    </tr>\n",
       "    <tr>\n",
       "      <th>2</th>\n",
       "      <td>C</td>\n",
       "      <td>40</td>\n",
       "    </tr>\n",
       "  </tbody>\n",
       "</table>\n",
       "</div>"
      ],
      "text/plain": [
       "  Team  Points\n",
       "0    A      30\n",
       "1    B      40\n",
       "2    C      40"
      ]
     },
     "execution_count": 37,
     "metadata": {},
     "output_type": "execute_result"
    }
   ],
   "source": [
    "data = {\n",
    "    'Team': ['A', 'A', 'B', 'B', 'C', 'C'],\n",
    "    'Points': [10, 20, 15, 25, 30, 10]\n",
    "}\n",
    "df = pd.DataFrame(data)\n",
    "\n",
    "# Grouping the DataFrame by 'Team' and calculating the total points for each team\n",
    "team_points = df.groupby('Team').sum().reset_index()\n",
    "\n",
    "team_points"
   ]
  },
  {
   "cell_type": "markdown",
   "id": "be92f2a9",
   "metadata": {},
   "source": [
    "10. **CSV File Handling**: Write a pandas DataFrame to a CSV file named `students.csv` with the following data:\n",
    "    ```python\n",
    "    data = {\n",
    "        'Student': ['John', 'Jane', 'Doe'],\n",
    "        'Score': [85, 90, 78]\n",
    "    }\n",
    "    ```\n",
    "    Then read the CSV file back into a DataFrame and display it.\n"
   ]
  },
  {
   "cell_type": "code",
   "execution_count": 49,
   "id": "3090d3b3",
   "metadata": {},
   "outputs": [
    {
     "name": "stdout",
     "output_type": "stream",
     "text": [
      "  Student  Score\n",
      "0    John     85\n",
      "1    Jane     90\n",
      "2     Doe     78\n"
     ]
    }
   ],
   "source": [
    "data = {\n",
    "    'Student': ['John', 'Jane', 'Doe'],\n",
    "    'Score': [85, 90, 78]\n",
    "}\n",
    "df_students = pd.DataFrame(data)\n",
    "print(df_students)\n",
    "# Writing the DataFrame to a CSV file named 'students.csv'\n",
    "csv_file_path = '/Users/dongwenou/Downloads/Intro to DS/HW3.csv'\n",
    "df_students.to_csv(csv_file_path, index=False)\n"
   ]
  },
  {
   "cell_type": "code",
   "execution_count": 48,
   "id": "2c42490a",
   "metadata": {},
   "outputs": [
    {
     "data": {
      "text/html": [
       "<div>\n",
       "<style scoped>\n",
       "    .dataframe tbody tr th:only-of-type {\n",
       "        vertical-align: middle;\n",
       "    }\n",
       "\n",
       "    .dataframe tbody tr th {\n",
       "        vertical-align: top;\n",
       "    }\n",
       "\n",
       "    .dataframe thead th {\n",
       "        text-align: right;\n",
       "    }\n",
       "</style>\n",
       "<table border=\"1\" class=\"dataframe\">\n",
       "  <thead>\n",
       "    <tr style=\"text-align: right;\">\n",
       "      <th></th>\n",
       "      <th>Student</th>\n",
       "      <th>Score</th>\n",
       "    </tr>\n",
       "  </thead>\n",
       "  <tbody>\n",
       "    <tr>\n",
       "      <th>0</th>\n",
       "      <td>John</td>\n",
       "      <td>85</td>\n",
       "    </tr>\n",
       "    <tr>\n",
       "      <th>1</th>\n",
       "      <td>Jane</td>\n",
       "      <td>90</td>\n",
       "    </tr>\n",
       "    <tr>\n",
       "      <th>2</th>\n",
       "      <td>Doe</td>\n",
       "      <td>78</td>\n",
       "    </tr>\n",
       "  </tbody>\n",
       "</table>\n",
       "</div>"
      ],
      "text/plain": [
       "  Student  Score\n",
       "0    John     85\n",
       "1    Jane     90\n",
       "2     Doe     78"
      ]
     },
     "execution_count": 48,
     "metadata": {},
     "output_type": "execute_result"
    }
   ],
   "source": [
    "# Reading the CSV file back into a DataFrame\n",
    "df_students_readback = pd.read_csv(csv_file_path)\n",
    "df_students_readback\n"
   ]
  }
 ],
 "metadata": {
  "kernelspec": {
   "display_name": "Python 3 (ipykernel)",
   "language": "python",
   "name": "python3"
  },
  "language_info": {
   "codemirror_mode": {
    "name": "ipython",
    "version": 3
   },
   "file_extension": ".py",
   "mimetype": "text/x-python",
   "name": "python",
   "nbconvert_exporter": "python",
   "pygments_lexer": "ipython3",
   "version": "3.12.4"
  }
 },
 "nbformat": 4,
 "nbformat_minor": 5
}
