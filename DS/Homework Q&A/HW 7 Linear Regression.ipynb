{
 "cells": [
  {
   "cell_type": "markdown",
   "id": "b7a7d930",
   "metadata": {},
   "source": [
    "1. (Case 1) $Y = 2.0 + 1.0X + \\epsilon, X\\sim uniform(-1,1),\\epsilon\\sim 0.2N(0,1)$\n",
    "\n",
    "(Case 2)$Y = 2.0 + 1.0X + \\epsilon, X\\sim 0.95N(1,0.5) + 0.05N(5,0.2),\\epsilon\\sim 0.2N(0,1)$\n",
    "\n",
    "(Case 3) $Y = 2.0 + 1.0X + \\epsilon, X\\sim uniform(-1,1),\\epsilon\\sim 0.2X^2*N(0,1)$\n",
    "\n",
    "- Write a class for the four methods above.\n",
    "\n",
    "- Do $K=1000$ simulations with sample size $n=500$ for each case, and get 95\\% confidence intervals of $\\beta_1=1.0$ by four methods above.  Calculte average length of the confidence intervals and coverage probability.\n",
    "\n",
    "- Show all results in a table.\n",
    "\n",
    "- Draw your conclusions.\n",
    "\n",
    "2. Write code to implement backward elimination method for model selecttion."
   ]
  },
  {
   "cell_type": "code",
   "execution_count": null,
   "id": "00ee1755",
   "metadata": {},
   "outputs": [],
   "source": []
  },
  {
   "cell_type": "code",
   "execution_count": 4,
   "id": "ff1a5316",
   "metadata": {},
   "outputs": [
    {
     "name": "stderr",
     "output_type": "stream",
     "text": [
      "100%|█████████████████████████████████████| 1000/1000 [00:00<00:00, 7401.76it/s]\n",
      "100%|█████████████████████████████████████| 1000/1000 [00:00<00:00, 7742.81it/s]\n",
      "100%|█████████████████████████████████████| 1000/1000 [00:00<00:00, 8275.87it/s]"
     ]
    },
    {
     "name": "stdout",
     "output_type": "stream",
     "text": [
      "        Avg Length  Coverage Probability\n",
      "Case 1    0.061031                 0.947\n",
      "Case 2    0.074125                 0.943\n",
      "Case 3    0.027234                 0.799\n"
     ]
    },
    {
     "name": "stderr",
     "output_type": "stream",
     "text": [
      "\n"
     ]
    }
   ],
   "source": [
    "#Question 1:\n",
    "import numpy as np\n",
    "import statsmodels.api as sm\n",
    "import pandas as pd\n",
    "from tqdm import tqdm\n",
    "\n",
    "class Simulation:\n",
    "    def __init__(self, n=500, beta_0=2.0, beta_1=1.0):\n",
    "        self.n = n\n",
    "        self.beta_0 = beta_0\n",
    "        self.beta_1 = beta_1\n",
    "\n",
    "    def generate_data_case1(self):\n",
    "        X = np.random.uniform(-1, 1, self.n)\n",
    "        epsilon = 0.2 * np.random.normal(0, 1, self.n)\n",
    "        Y = self.beta_0 + self.beta_1 * X + epsilon\n",
    "        return X, Y\n",
    "\n",
    "    def generate_data_case2(self):\n",
    "        X = 0.95 * np.random.normal(1,0.5,self.n) + 0.05 * np.random.normal(5,0.2,self.n)\n",
    "        epsilon = 0.2 * np.random.normal(0, 1, self.n)\n",
    "        Y = self.beta_0 + self.beta_1 * X + epsilon\n",
    "        return X, Y\n",
    "\n",
    "    def generate_data_case3(self):\n",
    "        X = np.random.uniform(-1, 1, self.n)\n",
    "        epsilon = 0.2 * (X ** 2) * np.random.normal(0, 1, self.n)\n",
    "        Y = self.beta_0 + self.beta_1 * X + epsilon\n",
    "        return X, Y\n",
    "\n",
    "    def fit_model(self, X, Y):\n",
    "        X = sm.add_constant(X)  # Adds intercept\n",
    "        model = sm.OLS(Y, X).fit()\n",
    "        return model\n",
    "\n",
    "    def simulate(self, case_func, K=1000, conf_level=0.95):\n",
    "        intervals = []\n",
    "        coverage_count = 0\n",
    "\n",
    "        for i in tqdm(range(K)):\n",
    "            X, Y = case_func()\n",
    "            model = self.fit_model(X, Y)\n",
    "            conf_int = model.conf_int(alpha=1-conf_level) #alpha是犯错概率\n",
    "            beta_1_ci = conf_int[1]  # Confidence interval for beta_1\n",
    "\n",
    "            intervals.append(beta_1_ci[1] - beta_1_ci[0]) #算长度\n",
    "\n",
    "            # Check if the true value (1.0) is within the confidence interval\n",
    "            if beta_1_ci[0] <= 1.0 <= beta_1_ci[1]:\n",
    "                coverage_count += 1\n",
    "\n",
    "        avg_length = np.mean(intervals)\n",
    "        coverage_prob = coverage_count / K\n",
    "\n",
    "        return avg_length, coverage_prob\n",
    "\n",
    "# 创建 Simulation 实例并进行模拟\n",
    "sim = Simulation()\n",
    "\n",
    "# 执行 1000 次模拟，计算平均长度和覆盖概率\n",
    "results = {}\n",
    "for case_name, case_func in zip(\n",
    "    [\"Case 1\", \"Case 2\", \"Case 3\"],\n",
    "    [sim.generate_data_case1, sim.generate_data_case2, sim.generate_data_case3]\n",
    "):\n",
    "    avg_length, coverage_prob = sim.simulate(case_func)\n",
    "    results[case_name] = [avg_length, coverage_prob]\n",
    "\n",
    "# 将结果展示为表格\n",
    "df_results = pd.DataFrame(results, index=[\"Avg Length\", \"Coverage Probability\"]).T\n",
    "print(df_results)\n"
   ]
  },
  {
   "cell_type": "markdown",
   "id": "6f6bdc1a",
   "metadata": {},
   "source": [
    "According to the outcomes above, we can see the first 2 case is similar, and the last one fails to achieve a high confidence level for $\\beta_1 = 1.0$"
   ]
  },
  {
   "cell_type": "code",
   "execution_count": 7,
   "id": "99ffa3d5",
   "metadata": {},
   "outputs": [
    {
     "data": {
      "text/plain": [
       "array([0.00000000e+000, 1.56377829e-250])"
      ]
     },
     "execution_count": 7,
     "metadata": {},
     "output_type": "execute_result"
    }
   ],
   "source": [
    "# Experiment\n",
    "X,Y = sim.generate_data_case1()\n",
    "mymodel = sim.fit_model(X,Y)\n",
    "mymodel.pvalues"
   ]
  },
  {
   "cell_type": "code",
   "execution_count": 9,
   "id": "31c2a071",
   "metadata": {},
   "outputs": [
    {
     "name": "stdout",
     "output_type": "stream",
     "text": [
      "            X\n",
      "0    0.533385\n",
      "1   -0.144128\n",
      "2   -0.791479\n",
      "3   -0.168831\n",
      "4   -0.499271\n",
      "..        ...\n",
      "495 -0.741125\n",
      "496  0.743406\n",
      "497 -0.785904\n",
      "498 -0.323968\n",
      "499  0.281331\n",
      "\n",
      "[500 rows x 1 columns]\n",
      "                            OLS Regression Results                            \n",
      "==============================================================================\n",
      "Dep. Variable:                      y   R-squared:                       0.889\n",
      "Model:                            OLS   Adj. R-squared:                  0.888\n",
      "Method:                 Least Squares   F-statistic:                     3975.\n",
      "Date:                Sat, 26 Oct 2024   Prob (F-statistic):          1.58e-239\n",
      "Time:                        17:30:02   Log-Likelihood:                 95.397\n",
      "No. Observations:                 500   AIC:                            -186.8\n",
      "Df Residuals:                     498   BIC:                            -178.4\n",
      "Df Model:                           1                                         \n",
      "Covariance Type:            nonrobust                                         \n",
      "==============================================================================\n",
      "                 coef    std err          t      P>|t|      [0.025      0.975]\n",
      "------------------------------------------------------------------------------\n",
      "const          2.0010      0.009    222.273      0.000       1.983       2.019\n",
      "X              0.9937      0.016     63.044      0.000       0.963       1.025\n",
      "==============================================================================\n",
      "Omnibus:                        2.449   Durbin-Watson:                   2.080\n",
      "Prob(Omnibus):                  0.294   Jarque-Bera (JB):                2.439\n",
      "Skew:                          -0.068   Prob(JB):                        0.295\n",
      "Kurtosis:                       3.314   Cond. No.                         1.77\n",
      "==============================================================================\n",
      "\n",
      "Notes:\n",
      "[1] Standard Errors assume that the covariance matrix of the errors is correctly specified.\n"
     ]
    }
   ],
   "source": [
    "#Question 2:\n",
    "\n",
    "def backward_elimination(X, Y, significance_level=0.05): #注意这里传入的是不含有intercept的 X.\n",
    "    X = sm.add_constant(X)  # Adds intercept\n",
    "    model = sm.OLS(Y, X).fit()\n",
    "\n",
    "    while True:\n",
    "        p_values = model.pvalues\n",
    "        max_p = p_values.max()  # Find the max p-value\n",
    "        if max_p > significance_level:\n",
    "            # Drop the variable with the highest p-value，因为不显著影响回归\n",
    "            max_p_var = p_values.idxmax() # 返回最大值对应的索引\n",
    "            X = X.drop(max_p_var, axis=1)\n",
    "            model = sm.OLS(Y, X).fit() #重新fit\n",
    "        else:\n",
    "            break\n",
    "\n",
    "    return model\n",
    "\n",
    "# 对 Case 1 数据执行向后消除法\n",
    "X, Y = sim.generate_data_case1()\n",
    "X = pd.DataFrame(X, columns=[\"X\"])\n",
    "print(X)\n",
    "model = backward_elimination(X, Y)\n",
    "print(model.summary())\n"
   ]
  },
  {
   "cell_type": "code",
   "execution_count": 10,
   "id": "1c16a635",
   "metadata": {},
   "outputs": [
    {
     "name": "stdout",
     "output_type": "stream",
     "text": [
      "                            OLS Regression Results                            \n",
      "==============================================================================\n",
      "Dep. Variable:                      y   R-squared:                       0.839\n",
      "Model:                            OLS   Adj. R-squared:                  0.839\n",
      "Method:                 Least Squares   F-statistic:                     2603.\n",
      "Date:                Sat, 26 Oct 2024   Prob (F-statistic):          6.52e-200\n",
      "Time:                        17:31:14   Log-Likelihood:                 106.93\n",
      "No. Observations:                 500   AIC:                            -209.9\n",
      "Df Residuals:                     498   BIC:                            -201.4\n",
      "Df Model:                           1                                         \n",
      "Covariance Type:            nonrobust                                         \n",
      "==============================================================================\n",
      "                 coef    std err          t      P>|t|      [0.025      0.975]\n",
      "------------------------------------------------------------------------------\n",
      "const          2.0188      0.025     81.571      0.000       1.970       2.067\n",
      "x1             0.9763      0.019     51.020      0.000       0.939       1.014\n",
      "==============================================================================\n",
      "Omnibus:                        1.061   Durbin-Watson:                   2.088\n",
      "Prob(Omnibus):                  0.588   Jarque-Bera (JB):                0.877\n",
      "Skew:                           0.011   Prob(JB):                        0.645\n",
      "Kurtosis:                       3.204   Cond. No.                         5.67\n",
      "==============================================================================\n",
      "\n",
      "Notes:\n",
      "[1] Standard Errors assume that the covariance matrix of the errors is correctly specified.\n"
     ]
    }
   ],
   "source": [
    "# 对 Case 2 数据执行向后消除法\n",
    "X, Y = sim.generate_data_case2()\n",
    "#X = pd.DataFrame(X, columns=[\"X\"])\n",
    "model = backward_elimination(X, Y)\n",
    "print(model.summary())"
   ]
  },
  {
   "cell_type": "code",
   "execution_count": 11,
   "id": "c7e54c8c",
   "metadata": {},
   "outputs": [
    {
     "name": "stdout",
     "output_type": "stream",
     "text": [
      "                            OLS Regression Results                            \n",
      "==============================================================================\n",
      "Dep. Variable:                      y   R-squared:                       0.979\n",
      "Model:                            OLS   Adj. R-squared:                  0.979\n",
      "Method:                 Least Squares   F-statistic:                 2.359e+04\n",
      "Date:                Sat, 26 Oct 2024   Prob (F-statistic):               0.00\n",
      "Time:                        17:31:28   Log-Likelihood:                 550.28\n",
      "No. Observations:                 500   AIC:                            -1097.\n",
      "Df Residuals:                     498   BIC:                            -1088.\n",
      "Df Model:                           1                                         \n",
      "Covariance Type:            nonrobust                                         \n",
      "==============================================================================\n",
      "                 coef    std err          t      P>|t|      [0.025      0.975]\n",
      "------------------------------------------------------------------------------\n",
      "const          2.0009      0.004    554.336      0.000       1.994       2.008\n",
      "X              0.9962      0.006    153.601      0.000       0.983       1.009\n",
      "==============================================================================\n",
      "Omnibus:                       70.404   Durbin-Watson:                   2.081\n",
      "Prob(Omnibus):                  0.000   Jarque-Bera (JB):              705.908\n",
      "Skew:                          -0.041   Prob(JB):                    5.18e-154\n",
      "Kurtosis:                       8.820   Cond. No.                         1.80\n",
      "==============================================================================\n",
      "\n",
      "Notes:\n",
      "[1] Standard Errors assume that the covariance matrix of the errors is correctly specified.\n"
     ]
    }
   ],
   "source": [
    "# 对 Case 3 数据执行向后消除法\n",
    "X, Y = sim.generate_data_case3()\n",
    "X = pd.DataFrame(X, columns=[\"X\"])\n",
    "model = backward_elimination(X, Y)\n",
    "print(model.summary())"
   ]
  },
  {
   "cell_type": "markdown",
   "id": "6b7b58fe",
   "metadata": {},
   "source": [
    "From the above results, we can see it's better not to delete any variable from the original model."
   ]
  }
 ],
 "metadata": {
  "kernelspec": {
   "display_name": "Python 3 (ipykernel)",
   "language": "python",
   "name": "python3"
  },
  "language_info": {
   "codemirror_mode": {
    "name": "ipython",
    "version": 3
   },
   "file_extension": ".py",
   "mimetype": "text/x-python",
   "name": "python",
   "nbconvert_exporter": "python",
   "pygments_lexer": "ipython3",
   "version": "3.12.4"
  }
 },
 "nbformat": 4,
 "nbformat_minor": 5
}
