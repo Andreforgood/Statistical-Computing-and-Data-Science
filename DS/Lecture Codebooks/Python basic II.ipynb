{
 "cells": [
  {
   "cell_type": "markdown",
   "id": "2e291ac7",
   "metadata": {},
   "source": [
    "* [List](#List)\n",
    "* [tuple](#tuple)\n",
    "* [set](#set)\n",
    "* [dictionary](#dictionary)\n",
    "* [The empty collections](#The-empty-collections)"
   ]
  },
  {
   "cell_type": "markdown",
   "id": "2f258f3d-b11d-4b6a-9dfe-37b53f1ca39d",
   "metadata": {},
   "source": [
    "list的切片替换和insert功能"
   ]
  },
  {
   "cell_type": "markdown",
   "id": "73e645ab",
   "metadata": {},
   "source": [
    "## List"
   ]
  },
  {
   "cell_type": "markdown",
   "id": "b63e6684",
   "metadata": {},
   "source": [
    "## What is a list"
   ]
  },
  {
   "cell_type": "markdown",
   "id": "c2fbabd3",
   "metadata": {},
   "source": [
    "The list is a sequential data structure in Python. It can contain a group of elements, which can be of the same or different data types."
   ]
  },
  {
   "cell_type": "markdown",
   "id": "8e2835a8",
   "metadata": {},
   "source": [
    "We can create a list object using square brackets, i.e. [ ]. For example, to create a list of integers, enclose them in square brackets. Like this,"
   ]
  },
  {
   "cell_type": "code",
   "execution_count": 41,
   "id": "316e1b87",
   "metadata": {},
   "outputs": [
    {
     "name": "stdout",
     "output_type": "stream",
     "text": [
      "[11, 13, 26, 90, 5, 22]\n"
     ]
    }
   ],
   "source": [
    "listInteger = [11, 13, 26, 90, 5, 22]\n",
    "print(listInteger)"
   ]
  },
  {
   "cell_type": "code",
   "execution_count": 4,
   "id": "58d1d0c6",
   "metadata": {},
   "outputs": [
    {
     "data": {
      "text/plain": [
       "[1, 'w', [1, 3], 3, {4}, {'dic': 2}]"
      ]
     },
     "execution_count": 4,
     "metadata": {},
     "output_type": "execute_result"
    }
   ],
   "source": [
    "a = [1,\"w\",[1,3],(3),{4},{\"dic\":2}]\n",
    "a"
   ]
  },
  {
   "cell_type": "code",
   "execution_count": null,
   "id": "676092e5",
   "metadata": {},
   "outputs": [],
   "source": []
  },
  {
   "cell_type": "markdown",
   "id": "e2b0127d",
   "metadata": {},
   "source": [
    "If we don’t pass any values in the square brackets, it will create an empty list. For example,"
   ]
  },
  {
   "cell_type": "code",
   "execution_count": 8,
   "id": "b474035d",
   "metadata": {},
   "outputs": [
    {
     "name": "stdout",
     "output_type": "stream",
     "text": [
      "[]\n",
      "[]\n"
     ]
    }
   ],
   "source": [
    "listEmpty = []\n",
    "print(listEmpty)\n",
    "myList = list()\n",
    "print(myList)"
   ]
  },
  {
   "cell_type": "code",
   "execution_count": 45,
   "id": "cfb09573",
   "metadata": {},
   "outputs": [
    {
     "data": {
      "text/plain": [
       "[None]"
      ]
     },
     "execution_count": 45,
     "metadata": {},
     "output_type": "execute_result"
    }
   ],
   "source": [
    "[None]"
   ]
  },
  {
   "cell_type": "markdown",
   "id": "fa976356",
   "metadata": {},
   "source": [
    "## Why do we need a list in Python?"
   ]
  },
  {
   "cell_type": "markdown",
   "id": "3244d88b",
   "metadata": {},
   "source": [
    "A list helps to store a group of elements together. But many other sequential data structures do the same, like a set, tuple, etc. Then why do we need lists?"
   ]
  },
  {
   "cell_type": "markdown",
   "id": "1a1aba57",
   "metadata": {},
   "source": [
    "There are many unique properties of the list that make it different from other data types. It makes a list of one of the most used sequential data types in Python."
   ]
  },
  {
   "cell_type": "markdown",
   "id": "4ca6bfda",
   "metadata": {},
   "source": [
    "1. Lists are Dynamic.\n",
    "  - A list is dynamic; it means we can add multiple elements to it and update or delete elements. Also, we don’t need to predefine the size of the list. You can insert any number of items in the list, and it can dynamically increase its size internally."
   ]
  },
  {
   "cell_type": "code",
   "execution_count": 16,
   "id": "08006dca",
   "metadata": {},
   "outputs": [
    {
     "name": "stdout",
     "output_type": "stream",
     "text": [
      "[1, 2, 6, 2, 3, 5]\n"
     ]
    }
   ],
   "source": [
    "a = [1,2,6]\n",
    "b = [2,3,5]\n",
    "c = a+b\n",
    "print(c)"
   ]
  },
  {
   "cell_type": "markdown",
   "id": "eb8d6343",
   "metadata": {},
   "source": [
    "2. Lists are ordered.\n",
    "  - Elements in the list will remain in the order in which you add them, and it will not change the order of elements internally."
   ]
  },
  {
   "cell_type": "markdown",
   "id": "be50c43d",
   "metadata": {},
   "source": [
    "3. Lists are Heterogenous\n",
    "  - A list can contain elements of different data types. For example, in a single list object, you can keep integers, floats, strings, tuples, lists, and other things too."
   ]
  },
  {
   "cell_type": "code",
   "execution_count": 20,
   "id": "61b69e1f",
   "metadata": {},
   "outputs": [
    {
     "name": "stdout",
     "output_type": "stream",
     "text": [
      "[1, 2, 'xmu', [6, 7]]\n"
     ]
    }
   ],
   "source": [
    "a = [1,2,\"xmu\",[6,7]]\n",
    "print(a)"
   ]
  },
  {
   "cell_type": "markdown",
   "id": "f8edd881",
   "metadata": {},
   "source": [
    "4 Duplicates are allowed in a list\n",
    "  - A list in Python can contain duplicate elements."
   ]
  },
  {
   "cell_type": "code",
   "execution_count": 23,
   "id": "32365fd2",
   "metadata": {},
   "outputs": [
    {
     "name": "stdout",
     "output_type": "stream",
     "text": [
      "{1, 2, 5}\n",
      "[1, 1, 2, 2, 5]\n"
     ]
    }
   ],
   "source": [
    "a_set = {1,1,2,2,5}\n",
    "a_list = [1,1,2,2,5]\n",
    "print(a_set)\n",
    "print(a_list)"
   ]
  },
  {
   "cell_type": "markdown",
   "id": "3e96d17b",
   "metadata": {},
   "source": [
    "## Get the size of a list in Python"
   ]
  },
  {
   "cell_type": "code",
   "execution_count": 26,
   "id": "7dd89702",
   "metadata": {},
   "outputs": [
    {
     "data": {
      "text/plain": [
       "list"
      ]
     },
     "execution_count": 26,
     "metadata": {},
     "output_type": "execute_result"
    }
   ],
   "source": [
    "aList = [1,2,3,4,5,6]\n",
    "type(aList)"
   ]
  },
  {
   "cell_type": "code",
   "execution_count": 28,
   "id": "3e1a36cf",
   "metadata": {},
   "outputs": [
    {
     "name": "stdout",
     "output_type": "stream",
     "text": [
      "6\n"
     ]
    }
   ],
   "source": [
    "length_aList = len(aList)\n",
    "print(length_aList)"
   ]
  },
  {
   "cell_type": "markdown",
   "id": "0a9f822f",
   "metadata": {},
   "source": [
    "If a list is empty, then the size of the list will be 0. For example,"
   ]
  },
  {
   "cell_type": "code",
   "execution_count": 31,
   "id": "ded67e85",
   "metadata": {},
   "outputs": [
    {
     "name": "stdout",
     "output_type": "stream",
     "text": [
      "0\n"
     ]
    }
   ],
   "source": [
    "lst = []\n",
    "print(len(lst))"
   ]
  },
  {
   "cell_type": "markdown",
   "id": "6881f224",
   "metadata": {},
   "source": [
    "## Creat a list with same values"
   ]
  },
  {
   "cell_type": "markdown",
   "id": "0c042b85",
   "metadata": {},
   "source": [
    "Suppose we want to create a list of strings, which contains 10 same strings, e.g., \"xmu\""
   ]
  },
  {
   "cell_type": "code",
   "execution_count": 35,
   "id": "b02a8e7a",
   "metadata": {},
   "outputs": [],
   "source": [
    "lst = ['xmu', 'xmu', 'xmu', 'xmu', 'xmu', 'xmu', 'xmu', 'xmu', 'xmu', 'xmu']"
   ]
  },
  {
   "cell_type": "code",
   "execution_count": 37,
   "id": "58237df2",
   "metadata": {},
   "outputs": [
    {
     "data": {
      "text/plain": [
       "['xmu', 'xmu', 'xmu', 'xmu', 'xmu', 'xmu', 'xmu', 'xmu', 'xmu', 'xmu']"
      ]
     },
     "execution_count": 37,
     "metadata": {},
     "output_type": "execute_result"
    }
   ],
   "source": [
    "lst"
   ]
  },
  {
   "cell_type": "markdown",
   "id": "15944de1",
   "metadata": {},
   "source": [
    "create a list by [] and multiply by repeat count"
   ]
  },
  {
   "cell_type": "code",
   "execution_count": 18,
   "id": "1676f24a",
   "metadata": {},
   "outputs": [
    {
     "data": {
      "text/plain": [
       "['xmu', 'xmu', 'xmu', 'xmu', 'xmu', 'xmu', 'xmu', 'xmu', 'xmu', 'xmu']"
      ]
     },
     "execution_count": 18,
     "metadata": {},
     "output_type": "execute_result"
    }
   ],
   "source": [
    "[\"xmu\"]*10"
   ]
  },
  {
   "cell_type": "code",
   "execution_count": 19,
   "id": "62be4593",
   "metadata": {},
   "outputs": [
    {
     "data": {
      "text/plain": [
       "[1, 2, 1, 2, 1, 2]"
      ]
     },
     "execution_count": 19,
     "metadata": {},
     "output_type": "execute_result"
    }
   ],
   "source": [
    "[1,2]*3"
   ]
  },
  {
   "cell_type": "code",
   "execution_count": 20,
   "id": "4d87def6",
   "metadata": {},
   "outputs": [
    {
     "data": {
      "text/plain": [
       "[None, None]"
      ]
     },
     "execution_count": 20,
     "metadata": {},
     "output_type": "execute_result"
    }
   ],
   "source": [
    "[None]*2"
   ]
  },
  {
   "cell_type": "code",
   "execution_count": 21,
   "id": "e4e69df0",
   "metadata": {},
   "outputs": [
    {
     "data": {
      "text/plain": [
       "0"
      ]
     },
     "execution_count": 21,
     "metadata": {},
     "output_type": "execute_result"
    }
   ],
   "source": [
    "len([]*10)"
   ]
  },
  {
   "cell_type": "markdown",
   "id": "b8c84176",
   "metadata": {},
   "source": [
    "Creating a list of same values by List Comprehension with range()"
   ]
  },
  {
   "cell_type": "code",
   "execution_count": 22,
   "id": "be111ca5",
   "metadata": {},
   "outputs": [
    {
     "name": "stdout",
     "output_type": "stream",
     "text": [
      "['xmu', 'xmu', 'xmu', 'xmu', 'xmu', 'xmu', 'xmu', 'xmu', 'xmu', 'xmu']\n"
     ]
    }
   ],
   "source": [
    "listOfXmu = ['xmu' for i in range(10)]\n",
    "print(listOfXmu)"
   ]
  },
  {
   "cell_type": "code",
   "execution_count": 25,
   "id": "52f69232",
   "metadata": {},
   "outputs": [
    {
     "data": {
      "text/plain": [
       "[0, 1, 2, 3, 4, 5, 6, 7, 8, 9]"
      ]
     },
     "execution_count": 25,
     "metadata": {},
     "output_type": "execute_result"
    }
   ],
   "source": [
    "[i for i in range(10)]"
   ]
  },
  {
   "cell_type": "code",
   "execution_count": 24,
   "id": "8674e512",
   "metadata": {},
   "outputs": [
    {
     "name": "stdout",
     "output_type": "stream",
     "text": [
      "[0, 1, 2, 3, 4, 5, 6, 7, 8, 9]\n"
     ]
    }
   ],
   "source": [
    "a = []\n",
    "for i in range(10):\n",
    "    a += [i]\n",
    "print(a)"
   ]
  },
  {
   "cell_type": "code",
   "execution_count": 27,
   "id": "5e452272",
   "metadata": {},
   "outputs": [
    {
     "data": {
      "text/plain": [
       "[0, 1, 4, 9, 16, 25, 36, 49, 64, 81]"
      ]
     },
     "execution_count": 27,
     "metadata": {},
     "output_type": "execute_result"
    }
   ],
   "source": [
    "[x**2 for x in range(10)]"
   ]
  },
  {
   "cell_type": "code",
   "execution_count": 28,
   "id": "6d3e464d",
   "metadata": {},
   "outputs": [
    {
     "data": {
      "text/plain": [
       "[0.0, 0.5, 1.0, 1.5, 2.0, 2.5, 3.0, 3.5, 4.0, 4.5]"
      ]
     },
     "execution_count": 28,
     "metadata": {},
     "output_type": "execute_result"
    }
   ],
   "source": [
    "[z/2 for z in range(10)]"
   ]
  },
  {
   "cell_type": "code",
   "execution_count": 16,
   "id": "b226fbe0",
   "metadata": {},
   "outputs": [
    {
     "data": {
      "text/plain": [
       "9.0"
      ]
     },
     "execution_count": 16,
     "metadata": {},
     "output_type": "execute_result"
    }
   ],
   "source": []
  },
  {
   "cell_type": "code",
   "execution_count": 17,
   "id": "42b08566",
   "metadata": {},
   "outputs": [
    {
     "data": {
      "text/plain": [
       "3.0"
      ]
     },
     "execution_count": 17,
     "metadata": {},
     "output_type": "execute_result"
    }
   ],
   "source": [
    "def square(x):\n",
    "    return x**2\n",
    "ftn(3)\n",
    "\n",
    "def sqrt(x):\n",
    "    return x**(1/2)\n",
    "\n",
    "sqrt(81)\n",
    "a = [square,sqrt,5,\"xmu\"]\n",
    "a[0](11)"
   ]
  },
  {
   "cell_type": "markdown",
   "id": "58aea52b",
   "metadata": {},
   "source": [
    "In this list comprehension, for loop will iterate over the range object 10 times and in each iteration it will add \"xmu\" in the list."
   ]
  },
  {
   "cell_type": "markdown",
   "id": "642bbfb5",
   "metadata": {},
   "source": [
    "## Add an element to a list -- append() \\& extend() "
   ]
  },
  {
   "cell_type": "markdown",
   "id": "b5ff8501",
   "metadata": {},
   "source": [
    "#### list.append()"
   ]
  },
  {
   "cell_type": "code",
   "execution_count": 29,
   "id": "67bb329a",
   "metadata": {},
   "outputs": [
    {
     "name": "stdout",
     "output_type": "stream",
     "text": [
      "['xia', 'men']\n",
      "['xia', 'men', 'university']\n"
     ]
    }
   ],
   "source": [
    "xmList = ['xia','men']\n",
    "print(xmList)\n",
    "xmList.append('university')\n",
    "print(xmList)"
   ]
  },
  {
   "cell_type": "markdown",
   "id": "0e17966f",
   "metadata": {},
   "source": [
    "Addition of two list:"
   ]
  },
  {
   "cell_type": "code",
   "execution_count": 30,
   "id": "62144596",
   "metadata": {},
   "outputs": [
    {
     "name": "stdout",
     "output_type": "stream",
     "text": [
      "['xia', 'men']\n",
      "['xia', 'men']\n",
      "['xia', 'men', 'university']\n"
     ]
    }
   ],
   "source": [
    "xmList = ['xia','men']\n",
    "print(xmList)\n",
    "resList = xmList+['university']\n",
    "print(xmList)\n",
    "print(resList)"
   ]
  },
  {
   "cell_type": "markdown",
   "id": "0439aca9",
   "metadata": {},
   "source": [
    "As list can contain different kind of elements, \n",
    "so if we pass an another list object as parameter in append(), then whole list object will be added to the end of list, e.g.,"
   ]
  },
  {
   "cell_type": "code",
   "execution_count": 34,
   "id": "65366355",
   "metadata": {},
   "outputs": [
    {
     "name": "stdout",
     "output_type": "stream",
     "text": [
      "['xia', 'men']\n",
      "['xia', 'men', ['university']]\n"
     ]
    }
   ],
   "source": [
    "xmList = ['xia','men']\n",
    "print(xmList)\n",
    "xmList.append(['university'])\n",
    "print(xmList)"
   ]
  },
  {
   "cell_type": "markdown",
   "id": "23a1755d",
   "metadata": {},
   "source": [
    "#### list.extend()"
   ]
  },
  {
   "cell_type": "code",
   "execution_count": 20,
   "id": "7f6de415",
   "metadata": {},
   "outputs": [
    {
     "name": "stdout",
     "output_type": "stream",
     "text": [
      "['xia', 'men']\n",
      "['xia', 'men', 'university']\n",
      "['xia', 'men', 'university', ['University']]\n"
     ]
    }
   ],
   "source": [
    "xmList = ['xia','men']\n",
    "print(xmList)\n",
    "xmList.extend(['university'])\n",
    "print(xmList)\n",
    "xmList.append(['University'])\n",
    "print(xmList)"
   ]
  },
  {
   "cell_type": "code",
   "execution_count": 36,
   "id": "045d6d74",
   "metadata": {},
   "outputs": [
    {
     "name": "stdout",
     "output_type": "stream",
     "text": [
      "['xia', 'men']\n",
      "['xia', 'men', 'u', 'n', 'i', 'v', 'e', 'r', 's', 'i', 't', 'y']\n"
     ]
    }
   ],
   "source": [
    "xmList = ['xia','men']\n",
    "print(xmList)\n",
    "xmList.extend('university')\n",
    "print(xmList)"
   ]
  },
  {
   "cell_type": "code",
   "execution_count": 39,
   "id": "8ec6b1d1",
   "metadata": {},
   "outputs": [
    {
     "data": {
      "text/plain": [
       "['xia', 'men', 'u', 'n', 'i', 'v', 'e', 'r', 's', 'i', 't', 'y', 10000, 10000]"
      ]
     },
     "execution_count": 39,
     "metadata": {},
     "output_type": "execute_result"
    }
   ],
   "source": [
    "xmList.append(10000)\n",
    "xmList"
   ]
  },
  {
   "cell_type": "code",
   "execution_count": 40,
   "id": "597d418b",
   "metadata": {},
   "outputs": [
    {
     "name": "stdout",
     "output_type": "stream",
     "text": [
      "u\n",
      "n\n",
      "i\n",
      "v\n",
      "e\n",
      "r\n",
      "s\n",
      "i\n",
      "t\n",
      "y\n"
     ]
    }
   ],
   "source": [
    "for i in 'university':\n",
    "    print(i)"
   ]
  },
  {
   "cell_type": "code",
   "execution_count": 41,
   "id": "468031ce",
   "metadata": {},
   "outputs": [
    {
     "name": "stdout",
     "output_type": "stream",
     "text": [
      "university\n"
     ]
    }
   ],
   "source": [
    "for i in ['university']:\n",
    "    print(i)"
   ]
  },
  {
   "cell_type": "code",
   "execution_count": 42,
   "id": "cde6aa49",
   "metadata": {},
   "outputs": [
    {
     "ename": "TypeError",
     "evalue": "'int' object is not iterable",
     "output_type": "error",
     "traceback": [
      "\u001b[0;31m---------------------------------------------------------------------------\u001b[0m",
      "\u001b[0;31mTypeError\u001b[0m                                 Traceback (most recent call last)",
      "\u001b[0;32m/var/folders/tl/g7qyc5l95_ddw_nx7p69wrsh0000gn/T/ipykernel_9310/1326796391.py\u001b[0m in \u001b[0;36m<module>\u001b[0;34m\u001b[0m\n\u001b[0;32m----> 1\u001b[0;31m \u001b[0;32mfor\u001b[0m \u001b[0mi\u001b[0m \u001b[0;32min\u001b[0m \u001b[0;36m10000\u001b[0m\u001b[0;34m:\u001b[0m\u001b[0;34m\u001b[0m\u001b[0;34m\u001b[0m\u001b[0m\n\u001b[0m\u001b[1;32m      2\u001b[0m     \u001b[0mprint\u001b[0m\u001b[0;34m(\u001b[0m\u001b[0mi\u001b[0m\u001b[0;34m)\u001b[0m\u001b[0;34m\u001b[0m\u001b[0;34m\u001b[0m\u001b[0m\n",
      "\u001b[0;31mTypeError\u001b[0m: 'int' object is not iterable"
     ]
    }
   ],
   "source": [
    "for i in 10000:\n",
    "    print(i)"
   ]
  },
  {
   "cell_type": "markdown",
   "id": "0bac177d",
   "metadata": {},
   "source": [
    "### list append() vs extend()"
   ]
  },
  {
   "cell_type": "markdown",
   "id": "74e399f5",
   "metadata": {},
   "source": [
    "list.append(item) , considers the parameter item as an individual object and add that object in the end of list. Even if given item is an another list, still it will be added to the end of list as individual object i.e."
   ]
  },
  {
   "cell_type": "code",
   "execution_count": 43,
   "id": "56533023",
   "metadata": {},
   "outputs": [
    {
     "name": "stdout",
     "output_type": "stream",
     "text": [
      "['Xia', 'Men', 'is', 'also', 'called', ['Amoy']]\n"
     ]
    }
   ],
   "source": [
    "list1 = ['Xia','Men','is','also','called']\n",
    "list1.append(['Amoy'])\n",
    "print(list1)"
   ]
  },
  {
   "cell_type": "code",
   "execution_count": 44,
   "id": "a1f69ca0",
   "metadata": {},
   "outputs": [
    {
     "name": "stdout",
     "output_type": "stream",
     "text": [
      "['Xia', 'Men', 'is', 'also', 'called', 1]\n"
     ]
    }
   ],
   "source": [
    "list1 = ['Xia','Men','is','also','called']\n",
    "list1.append(1)\n",
    "print(list1)"
   ]
  },
  {
   "cell_type": "markdown",
   "id": "ae89f93a",
   "metadata": {},
   "source": [
    "list.extend(item) , considers parameter item to be an another list and add all the individual elements of the list to the existing list i.e."
   ]
  },
  {
   "cell_type": "code",
   "execution_count": 49,
   "id": "73cca408",
   "metadata": {},
   "outputs": [
    {
     "name": "stdout",
     "output_type": "stream",
     "text": [
      "['Xia', 'Men', 'is', 'also', 'called', ['Amoy', 1]]\n"
     ]
    }
   ],
   "source": [
    "list1 = ['Xia','Men','is','also','called']\n",
    "list1.append(['Amoy',1])\n",
    "print(list1)"
   ]
  },
  {
   "cell_type": "code",
   "execution_count": 46,
   "id": "197b1057",
   "metadata": {},
   "outputs": [
    {
     "name": "stdout",
     "output_type": "stream",
     "text": [
      "['Xia', 'Men', 'is', 'also', 'called', 'A', 'm', 'o', 'y']\n"
     ]
    }
   ],
   "source": [
    "list1 = ['Xia','Men','is','also','called']\n",
    "list1.extend('Amoy')\n",
    "print(list1)"
   ]
  },
  {
   "cell_type": "code",
   "execution_count": 47,
   "id": "868c51c4",
   "metadata": {},
   "outputs": [
    {
     "ename": "TypeError",
     "evalue": "'int' object is not iterable",
     "output_type": "error",
     "traceback": [
      "\u001b[0;31m---------------------------------------------------------------------------\u001b[0m",
      "\u001b[0;31mTypeError\u001b[0m                                 Traceback (most recent call last)",
      "\u001b[0;32m/var/folders/tl/g7qyc5l95_ddw_nx7p69wrsh0000gn/T/ipykernel_9310/2685727988.py\u001b[0m in \u001b[0;36m<module>\u001b[0;34m\u001b[0m\n\u001b[1;32m      1\u001b[0m \u001b[0mlist1\u001b[0m \u001b[0;34m=\u001b[0m \u001b[0;34m[\u001b[0m\u001b[0;34m'Xia'\u001b[0m\u001b[0;34m,\u001b[0m\u001b[0;34m'Men'\u001b[0m\u001b[0;34m,\u001b[0m\u001b[0;34m'is'\u001b[0m\u001b[0;34m,\u001b[0m\u001b[0;34m'also'\u001b[0m\u001b[0;34m,\u001b[0m\u001b[0;34m'called'\u001b[0m\u001b[0;34m]\u001b[0m\u001b[0;34m\u001b[0m\u001b[0;34m\u001b[0m\u001b[0m\n\u001b[0;32m----> 2\u001b[0;31m \u001b[0mlist1\u001b[0m\u001b[0;34m.\u001b[0m\u001b[0mextend\u001b[0m\u001b[0;34m(\u001b[0m\u001b[0;36m1\u001b[0m\u001b[0;34m)\u001b[0m\u001b[0;34m\u001b[0m\u001b[0;34m\u001b[0m\u001b[0m\n\u001b[0m\u001b[1;32m      3\u001b[0m \u001b[0mprint\u001b[0m\u001b[0;34m(\u001b[0m\u001b[0mlist1\u001b[0m\u001b[0;34m)\u001b[0m\u001b[0;34m\u001b[0m\u001b[0;34m\u001b[0m\u001b[0m\n",
      "\u001b[0;31mTypeError\u001b[0m: 'int' object is not iterable"
     ]
    }
   ],
   "source": [
    "list1 = ['Xia','Men','is','also','called']\n",
    "list1.extend(1)\n",
    "print(list1)"
   ]
  },
  {
   "cell_type": "markdown",
   "id": "47b010f2",
   "metadata": {},
   "source": [
    "##  update values in a List"
   ]
  },
  {
   "cell_type": "markdown",
   "id": "592da8c2",
   "metadata": {},
   "source": [
    "In Python, lists are mutable. It means we can change the list’s contents by adding, updating, or removing elements from the list."
   ]
  },
  {
   "cell_type": "markdown",
   "id": "4eb9e834",
   "metadata": {},
   "source": [
    "### Updating existing element"
   ]
  },
  {
   "cell_type": "markdown",
   "id": "67ac2666",
   "metadata": {},
   "source": [
    "The list is an index-based sequential data structure. Therefore we can access list elements by their index position and change their values."
   ]
  },
  {
   "cell_type": "code",
   "execution_count": 21,
   "id": "cad593e4",
   "metadata": {},
   "outputs": [],
   "source": [
    "myList = [1,2,0,5,6,7,8]"
   ]
  },
  {
   "cell_type": "markdown",
   "id": "7905f083",
   "metadata": {},
   "source": [
    "Now we want to change the value of the 3rd element from 0 to 200:"
   ]
  },
  {
   "cell_type": "code",
   "execution_count": 22,
   "id": "ba2fdd36",
   "metadata": {},
   "outputs": [
    {
     "name": "stdout",
     "output_type": "stream",
     "text": [
      "[1, 2, 200, 5, 6, 7, 8]\n"
     ]
    }
   ],
   "source": [
    "myList[2] = 200\n",
    "print(myList)"
   ]
  },
  {
   "cell_type": "markdown",
   "id": "9d323f24",
   "metadata": {},
   "source": [
    "**Note:** As indexing starts from 0 in list, so index position of third element in list is 2."
   ]
  },
  {
   "cell_type": "markdown",
   "id": "e9555b67",
   "metadata": {},
   "source": [
    "#### Updating multiple elements"
   ]
  },
  {
   "cell_type": "markdown",
   "id": "b032f034",
   "metadata": {},
   "source": [
    "You can select multiple items from a list using index range, i.e., start & end index positions. For example,"
   ]
  },
  {
   "cell_type": "markdown",
   "id": "02cc3050",
   "metadata": {},
   "source": [
    "<pre>\n",
    "list_obj[start : end]\n",
    "</pre>"
   ]
  },
  {
   "cell_type": "code",
   "execution_count": 26,
   "id": "4b7639a7",
   "metadata": {},
   "outputs": [
    {
     "name": "stdout",
     "output_type": "stream",
     "text": [
      "[1, 2, 20, 20, 20, 6, 7, 8]\n"
     ]
    }
   ],
   "source": [
    "myList = [1,2,0,5,6,7,8]\n",
    "myList[2:4] = [20,20,20]\n",
    "print(myList)"
   ]
  },
  {
   "cell_type": "code",
   "execution_count": 27,
   "id": "13080e3e",
   "metadata": {},
   "outputs": [
    {
     "data": {
      "text/plain": [
       "[1, 2, 10000, 20, 20, 20, 6, 7, 8]"
      ]
     },
     "execution_count": 27,
     "metadata": {},
     "output_type": "execute_result"
    }
   ],
   "source": [
    "myList.insert(2,10000)\n",
    "myList"
   ]
  },
  {
   "cell_type": "markdown",
   "id": "c6fc0c30",
   "metadata": {},
   "source": [
    "## Remove elements from list"
   ]
  },
  {
   "cell_type": "markdown",
   "id": "1296a39a",
   "metadata": {},
   "source": [
    "Remove the first occurrence of an element from a list by value"
   ]
  },
  {
   "cell_type": "code",
   "execution_count": 28,
   "id": "7ed42c4f",
   "metadata": {},
   "outputs": [
    {
     "name": "stdout",
     "output_type": "stream",
     "text": [
      "[1, 2, 5, 0, 6, 7, 8]\n"
     ]
    }
   ],
   "source": [
    "myList = [1,2,0,5,0,6,7,8]\n",
    "myList.remove(0)\n",
    "print(myList)"
   ]
  },
  {
   "cell_type": "markdown",
   "id": "3a6a45a7",
   "metadata": {},
   "source": [
    "If the given value does not exist in the list, then it raises the ValueError."
   ]
  },
  {
   "cell_type": "code",
   "execution_count": 29,
   "id": "e066d584",
   "metadata": {},
   "outputs": [
    {
     "ename": "ValueError",
     "evalue": "list.remove(x): x not in list",
     "output_type": "error",
     "traceback": [
      "\u001b[0;31m---------------------------------------------------------------------------\u001b[0m",
      "\u001b[0;31mValueError\u001b[0m                                Traceback (most recent call last)",
      "\u001b[0;32m/var/folders/tl/g7qyc5l95_ddw_nx7p69wrsh0000gn/T/ipykernel_5966/2131044601.py\u001b[0m in \u001b[0;36m<module>\u001b[0;34m\u001b[0m\n\u001b[1;32m      1\u001b[0m \u001b[0mmyList\u001b[0m \u001b[0;34m=\u001b[0m \u001b[0;34m[\u001b[0m\u001b[0;36m1\u001b[0m\u001b[0;34m,\u001b[0m\u001b[0;36m2\u001b[0m\u001b[0;34m,\u001b[0m\u001b[0;36m5\u001b[0m\u001b[0;34m,\u001b[0m\u001b[0;36m6\u001b[0m\u001b[0;34m,\u001b[0m\u001b[0;36m7\u001b[0m\u001b[0;34m,\u001b[0m\u001b[0;36m8\u001b[0m\u001b[0;34m]\u001b[0m\u001b[0;34m\u001b[0m\u001b[0;34m\u001b[0m\u001b[0m\n\u001b[0;32m----> 2\u001b[0;31m \u001b[0mmyList\u001b[0m\u001b[0;34m.\u001b[0m\u001b[0mremove\u001b[0m\u001b[0;34m(\u001b[0m\u001b[0;36m10\u001b[0m\u001b[0;34m)\u001b[0m\u001b[0;34m\u001b[0m\u001b[0;34m\u001b[0m\u001b[0m\n\u001b[0m\u001b[1;32m      3\u001b[0m \u001b[0mprint\u001b[0m\u001b[0;34m(\u001b[0m\u001b[0mmyList\u001b[0m\u001b[0;34m)\u001b[0m\u001b[0;34m\u001b[0m\u001b[0;34m\u001b[0m\u001b[0m\n",
      "\u001b[0;31mValueError\u001b[0m: list.remove(x): x not in list"
     ]
    }
   ],
   "source": [
    "myList = [1,2,5,6,7,8]\n",
    "myList.remove(10)\n",
    "print(myList)"
   ]
  },
  {
   "cell_type": "markdown",
   "id": "49f7f3e1",
   "metadata": {},
   "source": [
    "If I want to remove all occurrences of an element."
   ]
  },
  {
   "cell_type": "code",
   "execution_count": 30,
   "id": "4a006d17",
   "metadata": {},
   "outputs": [
    {
     "name": "stdout",
     "output_type": "stream",
     "text": [
      "[1, 2, 5, 6, 7, 8]\n"
     ]
    }
   ],
   "source": [
    "val = 0\n",
    "myList = [1,2,0,5,0,6,7,8]\n",
    "while val in myList:\n",
    "    myList.remove(0)\n",
    "print(myList)"
   ]
  },
  {
   "cell_type": "code",
   "execution_count": 48,
   "id": "96ac8ecb",
   "metadata": {},
   "outputs": [
    {
     "name": "stdout",
     "output_type": "stream",
     "text": [
      "True\n",
      "False\n"
     ]
    }
   ],
   "source": [
    "myList = [1,2,0,5,0,6,7,8]\n",
    "print(0 in myList)\n",
    "myList = [1,2,5,6,7,8]\n",
    "print(0 in myList)"
   ]
  },
  {
   "cell_type": "markdown",
   "id": "a8360289",
   "metadata": {},
   "source": [
    "quiz: 1. remove all 0,2 and 5 from myList = [1,2,0,5,0,6,7,8,4,5,6,9,2,5,0,5]?"
   ]
  },
  {
   "cell_type": "code",
   "execution_count": 32,
   "id": "f721ed11",
   "metadata": {},
   "outputs": [
    {
     "name": "stdout",
     "output_type": "stream",
     "text": [
      "[1, 6, 7, 8, 4, 6, 9]\n"
     ]
    }
   ],
   "source": [
    "myList = [1,2,0,5,0,6,7,8,4,5,6,9,2,5,0,5]\n",
    "for val in [0,2,5]:\n",
    "    while val in myList:\n",
    "        myList.remove(val)\n",
    "print(myList)"
   ]
  },
  {
   "cell_type": "code",
   "execution_count": 33,
   "id": "bee28565",
   "metadata": {},
   "outputs": [
    {
     "name": "stdout",
     "output_type": "stream",
     "text": [
      "[1, 6, 7, 8, 4, 6, 9]\n"
     ]
    }
   ],
   "source": [
    "myList = [1, 2, 0, 5, 0, 6, 7, 8, 4, 5, 6, 9, 2, 5, 0, 5]  \n",
    "filteredList = [x for x in myList if x not in (0, 2, 5)]  \n",
    "print(filteredList)"
   ]
  },
  {
   "cell_type": "markdown",
   "id": "97298562",
   "metadata": {},
   "source": [
    "#### Find index of element"
   ]
  },
  {
   "cell_type": "code",
   "execution_count": 34,
   "id": "0e90aad0",
   "metadata": {},
   "outputs": [
    {
     "data": {
      "text/plain": [
       "2"
      ]
     },
     "execution_count": 34,
     "metadata": {},
     "output_type": "execute_result"
    }
   ],
   "source": [
    "val = 0\n",
    "myList = [1,2,0,5,0,6,7,8,4,5,6,9,2,5,0,5]\n",
    "myList.index(val) #the index of the first occurrence of 0 "
   ]
  },
  {
   "cell_type": "markdown",
   "id": "8dd45792",
   "metadata": {},
   "source": [
    "Get all indexes of an element"
   ]
  },
  {
   "cell_type": "code",
   "execution_count": 37,
   "id": "b485df94",
   "metadata": {},
   "outputs": [
    {
     "name": "stdout",
     "output_type": "stream",
     "text": [
      "[2, 4, 14]\n"
     ]
    }
   ],
   "source": [
    "val = 0\n",
    "myList = [1,2,0,5,0,6,7,8,4,5,6,9,2,5,0,5]\n",
    "posit = []\n",
    "for i in range(len(myList)):\n",
    "    if myList[i] == val:\n",
    "        posit.append(i)\n",
    "print(posit)"
   ]
  },
  {
   "cell_type": "code",
   "execution_count": 38,
   "id": "23d55770",
   "metadata": {},
   "outputs": [
    {
     "name": "stdout",
     "output_type": "stream",
     "text": [
      "[2, 4, 14]\n"
     ]
    }
   ],
   "source": [
    "posit = [i for i in range(len(myList)) if myList[i]==val]\n",
    "print(posit)"
   ]
  },
  {
   "cell_type": "markdown",
   "id": "10c609dd",
   "metadata": {},
   "source": [
    "## Sort a list "
   ]
  },
  {
   "cell_type": "markdown",
   "id": "e247ad80",
   "metadata": {},
   "source": [
    "<pre>\n",
    "list.sort()\n",
    "</pre>"
   ]
  },
  {
   "cell_type": "markdown",
   "id": "4042b7f4",
   "metadata": {},
   "source": [
    "- By Alphabetical Order\n",
    "- By Reverse Alphabetical Order\n",
    "- By String Length\n",
    "- By Numeric Order"
   ]
  },
  {
   "cell_type": "code",
   "execution_count": 39,
   "id": "ba5f2740",
   "metadata": {},
   "outputs": [
    {
     "name": "stdout",
     "output_type": "stream",
     "text": [
      "['I', 'have', 'an', 'apple', 'at', 'XMU']\n"
     ]
    }
   ],
   "source": [
    "myList = [\"I\",\"have\",\"an\",\"apple\", \"at\", \"XMU\"]\n",
    "print(myList)"
   ]
  },
  {
   "cell_type": "markdown",
   "id": "d03f2f65",
   "metadata": {},
   "source": [
    "Sort a list in Alphabetical Order with case-sensitive"
   ]
  },
  {
   "cell_type": "code",
   "execution_count": 40,
   "id": "0b2c78d9",
   "metadata": {},
   "outputs": [
    {
     "name": "stdout",
     "output_type": "stream",
     "text": [
      "['I', 'XMU', 'an', 'apple', 'at', 'have']\n"
     ]
    }
   ],
   "source": [
    "myList.sort() \n",
    "print(myList)"
   ]
  },
  {
   "cell_type": "markdown",
   "id": "82f2fe67",
   "metadata": {},
   "source": [
    "Sort a list in Alphabetical Order __without case-sensitive__"
   ]
  },
  {
   "cell_type": "code",
   "execution_count": 41,
   "id": "e81e159b",
   "metadata": {},
   "outputs": [
    {
     "data": {
      "text/plain": [
       "['an', 'apple', 'at', 'have', 'I', 'XMU']"
      ]
     },
     "execution_count": 41,
     "metadata": {},
     "output_type": "execute_result"
    }
   ],
   "source": [
    "myList = [\"I\",\"have\",\"an\",\"apple\", \"at\", \"XMU\"]\n",
    "sorted(myList, key=str.lower)  #sorted(myList, key=str.lower,reverse=True) "
   ]
  },
  {
   "cell_type": "markdown",
   "id": "f6a1a1fb",
   "metadata": {},
   "source": [
    "Sort a list in reverse order"
   ]
  },
  {
   "cell_type": "code",
   "execution_count": 42,
   "id": "244bfed6",
   "metadata": {},
   "outputs": [
    {
     "name": "stdout",
     "output_type": "stream",
     "text": [
      "['have', 'at', 'apple', 'an', 'XMU', 'I']\n"
     ]
    }
   ],
   "source": [
    "myList = [\"I\",\"have\",\"an\",\"apple\", \"at\", \"XMU\"]\n",
    "myList.sort(reverse=True)\n",
    "print(myList)"
   ]
  },
  {
   "cell_type": "markdown",
   "id": "7b05b2ef",
   "metadata": {},
   "source": [
    "Sort a list by the length of string"
   ]
  },
  {
   "cell_type": "code",
   "execution_count": 43,
   "id": "1dd2f0d7",
   "metadata": {},
   "outputs": [
    {
     "name": "stdout",
     "output_type": "stream",
     "text": [
      "['I', 'an', 'at', 'XMU', 'have', 'apple']\n"
     ]
    }
   ],
   "source": [
    "myList = [\"I\",\"have\",\"an\",\"apple\", \"at\", \"XMU\"]\n",
    "myList.sort(key=len)\n",
    "print(myList)"
   ]
  },
  {
   "cell_type": "code",
   "execution_count": 44,
   "id": "dfbf05de",
   "metadata": {},
   "outputs": [
    {
     "name": "stdout",
     "output_type": "stream",
     "text": [
      "['apple', 'have', 'XMU', 'an', 'at', 'I']\n"
     ]
    }
   ],
   "source": [
    "myList = [\"I\",\"have\",\"an\",\"apple\", \"at\", \"XMU\"]\n",
    "myList.sort(key=len,reverse=True)\n",
    "print(myList)"
   ]
  },
  {
   "cell_type": "markdown",
   "id": "db504f3d",
   "metadata": {},
   "source": [
    "Sort a list of string by Numeric Order -- Sort in ascending/descending numeric order, pass key function that should convert string to integer i.e using int()"
   ]
  },
  {
   "cell_type": "code",
   "execution_count": 45,
   "id": "2841840f",
   "metadata": {},
   "outputs": [
    {
     "name": "stdout",
     "output_type": "stream",
     "text": [
      "['40', '55', '67', '98', '101', '152', '233']\n",
      "['233', '152', '101', '98', '67', '55', '40']\n"
     ]
    }
   ],
   "source": [
    "myList = ['55' , '101', '152', '98', '233', '40', '67']\n",
    "myList.sort(key=int) #Ascending\n",
    "print(myList)\n",
    "myList.sort(key=int,reverse=True) #descending Order\n",
    "print(myList)"
   ]
  },
  {
   "cell_type": "markdown",
   "id": "5dabfa3a",
   "metadata": {},
   "source": [
    "Sort a list of numbers by Numeric Order "
   ]
  },
  {
   "cell_type": "code",
   "execution_count": 46,
   "id": "cdd9ce77",
   "metadata": {},
   "outputs": [
    {
     "name": "stdout",
     "output_type": "stream",
     "text": [
      "[1, 2, 2, 3, 5, 7, 55, 78, 93]\n"
     ]
    }
   ],
   "source": [
    "myList = [1,2,5,7,93,2,3,55,78]\n",
    "myList.sort()\n",
    "print(myList)"
   ]
  },
  {
   "cell_type": "code",
   "execution_count": 47,
   "id": "e5a940ef",
   "metadata": {},
   "outputs": [
    {
     "name": "stdout",
     "output_type": "stream",
     "text": [
      "[93, 78, 55, 7, 5, 3, 2, 2, 1]\n"
     ]
    }
   ],
   "source": [
    "myList.sort(reverse=True)\n",
    "print(myList)"
   ]
  },
  {
   "cell_type": "markdown",
   "id": "c06aee53",
   "metadata": {},
   "source": [
    "But you cannot sort lists that have both numbers and strings in them, since Python doesn’t know how to compare these values."
   ]
  },
  {
   "cell_type": "code",
   "execution_count": null,
   "id": "0e6330ed",
   "metadata": {},
   "outputs": [],
   "source": [
    "myList = ['red', 'blue', 1, 12, 'orange',42, 'green', 99]\n",
    "myList.sort()"
   ]
  },
  {
   "cell_type": "markdown",
   "id": "04468cb3",
   "metadata": {},
   "source": [
    "## List slicing"
   ]
  },
  {
   "cell_type": "code",
   "execution_count": 49,
   "id": "b17dcd62",
   "metadata": {},
   "outputs": [],
   "source": [
    "myList = [1,2,3,4,5,6,7,8,9,10]"
   ]
  },
  {
   "cell_type": "code",
   "execution_count": 50,
   "id": "fd03242c",
   "metadata": {},
   "outputs": [
    {
     "name": "stdout",
     "output_type": "stream",
     "text": [
      "[1, 2]\n",
      "[1, 2, 3]\n"
     ]
    }
   ],
   "source": [
    "print(myList[0:2])\n",
    "print(myList[0:3])"
   ]
  },
  {
   "cell_type": "code",
   "execution_count": 51,
   "id": "1d18b499",
   "metadata": {},
   "outputs": [
    {
     "name": "stdout",
     "output_type": "stream",
     "text": [
      "10\n",
      "7\n"
     ]
    }
   ],
   "source": [
    "print(myList[-1])\n",
    "print(myList[-4])"
   ]
  },
  {
   "cell_type": "markdown",
   "id": "f730d207",
   "metadata": {},
   "source": [
    "- A colon:\n",
    "  - Starting Index\n",
    "  - Ending Index"
   ]
  },
  {
   "cell_type": "code",
   "execution_count": 52,
   "id": "151f5254",
   "metadata": {},
   "outputs": [
    {
     "name": "stdout",
     "output_type": "stream",
     "text": [
      "[1, 2, 3, 4, 5, 6, 7, 8, 9, 10]\n",
      "[1, 2, 3, 4, 5, 6, 7, 8, 9, 10]\n",
      "[3, 4, 5, 6, 7, 8, 9, 10]\n"
     ]
    }
   ],
   "source": [
    "print(myList)\n",
    "print(myList[0:])\n",
    "print(myList[2:])"
   ]
  },
  {
   "cell_type": "code",
   "execution_count": 53,
   "id": "ec0c0807",
   "metadata": {},
   "outputs": [
    {
     "name": "stdout",
     "output_type": "stream",
     "text": [
      "[8, 9, 10]\n"
     ]
    }
   ],
   "source": [
    "print(myList[-3:])"
   ]
  },
  {
   "cell_type": "code",
   "execution_count": 54,
   "id": "733f59bd",
   "metadata": {},
   "outputs": [
    {
     "name": "stdout",
     "output_type": "stream",
     "text": [
      "[1, 2, 3]\n",
      "[1, 2, 3]\n",
      "[1, 2]\n"
     ]
    }
   ],
   "source": [
    "print(myList[:3])\n",
    "print(myList[0:3])\n",
    "print(myList[:2])"
   ]
  },
  {
   "cell_type": "code",
   "execution_count": 55,
   "id": "6401467f",
   "metadata": {},
   "outputs": [
    {
     "name": "stdout",
     "output_type": "stream",
     "text": [
      "[1, 2, 3, 4, 5, 6, 7, 8]\n"
     ]
    }
   ],
   "source": [
    "print(myList[:-2])"
   ]
  },
  {
   "cell_type": "code",
   "execution_count": 56,
   "id": "ad4e0c48",
   "metadata": {},
   "outputs": [
    {
     "data": {
      "text/plain": [
       "[4, 6, 8, 10]"
      ]
     },
     "execution_count": 56,
     "metadata": {},
     "output_type": "execute_result"
    }
   ],
   "source": [
    "myList[3:10:2]"
   ]
  },
  {
   "cell_type": "code",
   "execution_count": 57,
   "id": "3b087ed0",
   "metadata": {},
   "outputs": [
    {
     "data": {
      "text/plain": [
       "[1, 2, 3, 4, 5, 6, 7, 8, 9, 10]"
      ]
     },
     "execution_count": 57,
     "metadata": {},
     "output_type": "execute_result"
    }
   ],
   "source": [
    "myList[::]"
   ]
  },
  {
   "cell_type": "code",
   "execution_count": 58,
   "id": "b7d13b5e",
   "metadata": {},
   "outputs": [
    {
     "data": {
      "text/plain": [
       "[1, 3, 5, 7, 9]"
      ]
     },
     "execution_count": 58,
     "metadata": {},
     "output_type": "execute_result"
    }
   ],
   "source": [
    "myList[::2]"
   ]
  },
  {
   "cell_type": "code",
   "execution_count": 59,
   "id": "12cc1440",
   "metadata": {},
   "outputs": [
    {
     "data": {
      "text/plain": [
       "[10, 9, 8, 7, 6, 5, 4, 3, 2, 1]"
      ]
     },
     "execution_count": 59,
     "metadata": {},
     "output_type": "execute_result"
    }
   ],
   "source": [
    "myList[::-1] #reverse the order of list"
   ]
  },
  {
   "cell_type": "code",
   "execution_count": 60,
   "id": "9e2b5f42",
   "metadata": {},
   "outputs": [
    {
     "data": {
      "text/plain": [
       "[10, 8, 6, 4, 2]"
      ]
     },
     "execution_count": 60,
     "metadata": {},
     "output_type": "execute_result"
    }
   ],
   "source": [
    "myList[::-2]"
   ]
  },
  {
   "cell_type": "markdown",
   "id": "7f466e4b",
   "metadata": {},
   "source": [
    "####  Others"
   ]
  },
  {
   "cell_type": "code",
   "execution_count": 61,
   "id": "46eea172",
   "metadata": {},
   "outputs": [
    {
     "name": "stdout",
     "output_type": "stream",
     "text": [
      "[1, 2, [3, 4], [5], 'abc']\n"
     ]
    }
   ],
   "source": [
    "# elements in a list is connected with link, thus it allows for any types of element\n",
    "myList=[1,2, [3,4],[5],\"abc\"]\n",
    "print(myList)"
   ]
  },
  {
   "cell_type": "code",
   "execution_count": 62,
   "id": "19cff25d",
   "metadata": {},
   "outputs": [
    {
     "data": {
      "text/plain": [
       "[3, 4]"
      ]
     },
     "execution_count": 62,
     "metadata": {},
     "output_type": "execute_result"
    }
   ],
   "source": [
    "myList[2]"
   ]
  },
  {
   "cell_type": "code",
   "execution_count": 63,
   "id": "fc8d5383",
   "metadata": {},
   "outputs": [
    {
     "name": "stdout",
     "output_type": "stream",
     "text": [
      "True\n",
      "False\n",
      "True\n"
     ]
    }
   ],
   "source": [
    "# testing the existence of an element with operator in\n",
    "print(3 in myList[2])\n",
    "print(5  in myList)\n",
    "print([5] in myList)"
   ]
  },
  {
   "cell_type": "markdown",
   "id": "59e9b4cd",
   "metadata": {},
   "source": [
    "## tuple"
   ]
  },
  {
   "cell_type": "code",
   "execution_count": 64,
   "id": "21d521ec",
   "metadata": {},
   "outputs": [
    {
     "name": "stdout",
     "output_type": "stream",
     "text": [
      "<class 'tuple'>\n",
      "(4, 3, 2, 1, 1)\n"
     ]
    }
   ],
   "source": [
    "# dont get confused with the list, tuple use () sign\n",
    "t=(4,3,2,1,1)\n",
    "print(type(t))\n",
    "print(t)"
   ]
  },
  {
   "cell_type": "code",
   "execution_count": 66,
   "id": "d0ecade7",
   "metadata": {},
   "outputs": [
    {
     "name": "stdout",
     "output_type": "stream",
     "text": [
      "([1], 2, 'xmu', 'Amoy', {1}, {1: 2}, (2, 3), <function sqrt at 0x7fb0806f6ee0>)\n"
     ]
    }
   ],
   "source": [
    "# Like list, tuple allows for any types of element\n",
    "t = ([1],2,\"xmu\",'Amoy',{1},{1:2},(2,3),sqrt)\n",
    "print(t)"
   ]
  },
  {
   "cell_type": "code",
   "execution_count": 67,
   "id": "57a34d6d",
   "metadata": {},
   "outputs": [
    {
     "name": "stdout",
     "output_type": "stream",
     "text": [
      "1\n",
      "(1, 2, 3, 4, 5, 6, 7, 8, 9, 10)\n",
      "(1, 2, 3, 4, 5, 6, 7, 8)\n",
      "(2, 3)\n"
     ]
    }
   ],
   "source": [
    "# tuple allows for subscript\n",
    "t = (1,2,3,4,5,6,7,8,9,10)\n",
    "print(t[0])   # first elements\n",
    "print(t[:])   #all elements\n",
    "print(t[:-2]) # counting from right\n",
    "\n",
    "# the left boundary of a slicing is includsive but the right bounary is not \n",
    "print(t[1:3])"
   ]
  },
  {
   "cell_type": "code",
   "execution_count": 59,
   "id": "6898ca26",
   "metadata": {},
   "outputs": [
    {
     "name": "stdout",
     "output_type": "stream",
     "text": [
      "3.4\n"
     ]
    }
   ],
   "source": [
    "e=3.4\n",
    "t=(e,3,2,1,1)\n",
    "print(t[0])"
   ]
  },
  {
   "cell_type": "code",
   "execution_count": 70,
   "id": "743323ff",
   "metadata": {},
   "outputs": [
    {
     "name": "stdout",
     "output_type": "stream",
     "text": [
      "True\n",
      "False\n"
     ]
    }
   ],
   "source": [
    "# testing of an element is equally easy\n",
    "print(2 in t)\n",
    "print(100 in t)"
   ]
  },
  {
   "cell_type": "code",
   "execution_count": 63,
   "id": "9dfa9ccc",
   "metadata": {},
   "outputs": [
    {
     "data": {
      "text/plain": [
       "(3.4, 3, 2, 1, 1)"
      ]
     },
     "execution_count": 63,
     "metadata": {},
     "output_type": "execute_result"
    }
   ],
   "source": [
    "t"
   ]
  },
  {
   "cell_type": "code",
   "execution_count": 73,
   "id": "4a6f57d1",
   "metadata": {},
   "outputs": [
    {
     "name": "stdout",
     "output_type": "stream",
     "text": [
      "3.4 3 2 1 1\n"
     ]
    }
   ],
   "source": [
    "# tuple is a beatuful container\n",
    "first, second, third, forth, fifth = t#[i for i in range(5)]\n",
    "print(first, second, third, forth, fifth)"
   ]
  },
  {
   "cell_type": "code",
   "execution_count": 75,
   "id": "f98426c1",
   "metadata": {},
   "outputs": [
    {
     "name": "stdout",
     "output_type": "stream",
     "text": [
      "3.4 3 2 1 1\n"
     ]
    }
   ],
   "source": [
    "# tuple is a beatuful container\n",
    "first, second, third, forth,_ = t#[i for i in range(5)]\n",
    "print(first, second, third, forth, _)"
   ]
  },
  {
   "cell_type": "code",
   "execution_count": 53,
   "id": "337b5eff",
   "metadata": {},
   "outputs": [
    {
     "data": {
      "text/plain": [
       "str"
      ]
     },
     "execution_count": 53,
     "metadata": {},
     "output_type": "execute_result"
    }
   ],
   "source": [
    "type(_)"
   ]
  },
  {
   "cell_type": "code",
   "execution_count": 65,
   "id": "ffb86fa6",
   "metadata": {},
   "outputs": [
    {
     "data": {
      "text/plain": [
       "((3.4, 3, 2, 1, 1), 3)"
      ]
     },
     "execution_count": 65,
     "metadata": {},
     "output_type": "execute_result"
    }
   ],
   "source": [
    "#(t)\n",
    "(((t,3)))"
   ]
  },
  {
   "cell_type": "code",
   "execution_count": 78,
   "id": "706d1dbf",
   "metadata": {},
   "outputs": [
    {
     "data": {
      "text/plain": [
       "((3.4, 3, 2, 1, 1), 3)"
      ]
     },
     "execution_count": 78,
     "metadata": {},
     "output_type": "execute_result"
    }
   ],
   "source": [
    "(t,3)"
   ]
  },
  {
   "cell_type": "code",
   "execution_count": 69,
   "id": "30a654fc",
   "metadata": {},
   "outputs": [
    {
     "name": "stdout",
     "output_type": "stream",
     "text": [
      "(3.4, 3, 2, 1, 1)\n",
      "3.4 3 2 1 1\n"
     ]
    }
   ],
   "source": [
    "# all following are the equally correct\n",
    "(first, second, third, forth, fifth)=t\n",
    "first, second, third, forth, fifth=(t)\n",
    "(((first, second, third, forth, fifth)))=((((t))))\n",
    "print(t)\n",
    "print(first, second, third, forth, fifth)"
   ]
  },
  {
   "cell_type": "code",
   "execution_count": 80,
   "id": "163ec63a",
   "metadata": {},
   "outputs": [
    {
     "ename": "AttributeError",
     "evalue": "'tuple' object has no attribute 'add'",
     "output_type": "error",
     "traceback": [
      "\u001b[0;31m---------------------------------------------------------------------------\u001b[0m",
      "\u001b[0;31mAttributeError\u001b[0m                            Traceback (most recent call last)",
      "\u001b[0;32m/var/folders/tl/g7qyc5l95_ddw_nx7p69wrsh0000gn/T/ipykernel_5966/3543493367.py\u001b[0m in \u001b[0;36m<module>\u001b[0;34m\u001b[0m\n\u001b[1;32m      1\u001b[0m \u001b[0;31m# tuple can not be altered after its creation.\u001b[0m\u001b[0;34m\u001b[0m\u001b[0;34m\u001b[0m\u001b[0m\n\u001b[1;32m      2\u001b[0m \u001b[0ms\u001b[0m \u001b[0;34m=\u001b[0m \u001b[0;34m(\u001b[0m\u001b[0;36m1\u001b[0m\u001b[0;34m,\u001b[0m\u001b[0;36m2\u001b[0m\u001b[0;34m,\u001b[0m\u001b[0;36m3\u001b[0m\u001b[0;34m)\u001b[0m\u001b[0;34m\u001b[0m\u001b[0;34m\u001b[0m\u001b[0m\n\u001b[0;32m----> 3\u001b[0;31m \u001b[0ms\u001b[0m\u001b[0;34m.\u001b[0m\u001b[0madd\u001b[0m\u001b[0;34m(\u001b[0m\u001b[0;36m5\u001b[0m\u001b[0;34m)\u001b[0m\u001b[0;34m\u001b[0m\u001b[0;34m\u001b[0m\u001b[0m\n\u001b[0m\u001b[1;32m      4\u001b[0m \u001b[0mprint\u001b[0m\u001b[0;34m(\u001b[0m\u001b[0ms\u001b[0m\u001b[0;34m)\u001b[0m\u001b[0;34m\u001b[0m\u001b[0;34m\u001b[0m\u001b[0m\n",
      "\u001b[0;31mAttributeError\u001b[0m: 'tuple' object has no attribute 'add'"
     ]
    }
   ],
   "source": [
    "# tuple can not be altered after its creation.\n",
    "s = (1,2,3)\n",
    "s.add(5)\n",
    "print(s)"
   ]
  },
  {
   "cell_type": "code",
   "execution_count": 81,
   "id": "584bc0d5",
   "metadata": {},
   "outputs": [
    {
     "name": "stdout",
     "output_type": "stream",
     "text": [
      "[1, 1000, 3]\n"
     ]
    },
    {
     "data": {
      "text/plain": [
       "[1, 1000, 3, 123324]"
      ]
     },
     "execution_count": 81,
     "metadata": {},
     "output_type": "execute_result"
    }
   ],
   "source": [
    "s = [1,2,3]\n",
    "s[1] = 1000\n",
    "print(s)\n",
    "s+[123324]"
   ]
  },
  {
   "cell_type": "code",
   "execution_count": 83,
   "id": "0d93d7f9",
   "metadata": {
    "scrolled": true
   },
   "outputs": [
    {
     "ename": "TypeError",
     "evalue": "'tuple' object does not support item assignment",
     "output_type": "error",
     "traceback": [
      "\u001b[0;31m---------------------------------------------------------------------------\u001b[0m",
      "\u001b[0;31mTypeError\u001b[0m                                 Traceback (most recent call last)",
      "\u001b[0;32m/var/folders/tl/g7qyc5l95_ddw_nx7p69wrsh0000gn/T/ipykernel_5966/1850248974.py\u001b[0m in \u001b[0;36m<module>\u001b[0;34m\u001b[0m\n\u001b[1;32m      1\u001b[0m \u001b[0ms\u001b[0m \u001b[0;34m=\u001b[0m \u001b[0;34m(\u001b[0m\u001b[0;36m1\u001b[0m\u001b[0;34m,\u001b[0m\u001b[0;36m2\u001b[0m\u001b[0;34m,\u001b[0m\u001b[0;36m3\u001b[0m\u001b[0;34m)\u001b[0m\u001b[0;34m\u001b[0m\u001b[0;34m\u001b[0m\u001b[0m\n\u001b[0;32m----> 2\u001b[0;31m \u001b[0ms\u001b[0m\u001b[0;34m[\u001b[0m\u001b[0;36m1\u001b[0m\u001b[0;34m]\u001b[0m \u001b[0;34m=\u001b[0m \u001b[0;36m1000\u001b[0m\u001b[0;34m\u001b[0m\u001b[0;34m\u001b[0m\u001b[0m\n\u001b[0m\u001b[1;32m      3\u001b[0m \u001b[0ms\u001b[0m\u001b[0;34m\u001b[0m\u001b[0;34m\u001b[0m\u001b[0m\n",
      "\u001b[0;31mTypeError\u001b[0m: 'tuple' object does not support item assignment"
     ]
    }
   ],
   "source": [
    "s = (1,2,3)\n",
    "s[1] = 1000\n",
    "s"
   ]
  },
  {
   "cell_type": "code",
   "execution_count": 85,
   "id": "b259bc3c",
   "metadata": {},
   "outputs": [
    {
     "data": {
      "text/plain": [
       "(1, 2, 3, 1, 2, 3)"
      ]
     },
     "execution_count": 85,
     "metadata": {},
     "output_type": "execute_result"
    }
   ],
   "source": [
    "s = (1,2,3)\n",
    "s*2"
   ]
  },
  {
   "cell_type": "code",
   "execution_count": 86,
   "id": "655a7c43",
   "metadata": {},
   "outputs": [
    {
     "data": {
      "text/plain": [
       "(1, 2, 4, 5, 6)"
      ]
     },
     "execution_count": 86,
     "metadata": {},
     "output_type": "execute_result"
    }
   ],
   "source": [
    "(1,2) + (4,5,6)"
   ]
  },
  {
   "cell_type": "markdown",
   "id": "252f9617",
   "metadata": {},
   "source": [
    "## set"
   ]
  },
  {
   "cell_type": "code",
   "execution_count": 87,
   "id": "3ec80cbc",
   "metadata": {},
   "outputs": [
    {
     "name": "stdout",
     "output_type": "stream",
     "text": [
      "<class 'set'>\n",
      "{1, 2, 3, 4}\n"
     ]
    }
   ],
   "source": [
    "# duplicated element in set is not allowed, like its mathematic definition\n",
    "s={4,3,2,1,1}\n",
    "print(type(s))\n",
    "print(s)"
   ]
  },
  {
   "cell_type": "code",
   "execution_count": 88,
   "id": "0cbb39f9",
   "metadata": {},
   "outputs": [
    {
     "data": {
      "text/plain": [
       "{(1, 2, 4), 1}"
      ]
     },
     "execution_count": 88,
     "metadata": {},
     "output_type": "execute_result"
    }
   ],
   "source": [
    "{1,(1),(1,2,4)}"
   ]
  },
  {
   "cell_type": "code",
   "execution_count": 89,
   "id": "59f15ad0",
   "metadata": {},
   "outputs": [
    {
     "ename": "TypeError",
     "evalue": "'set' object is not subscriptable",
     "output_type": "error",
     "traceback": [
      "\u001b[0;31m---------------------------------------------------------------------------\u001b[0m",
      "\u001b[0;31mTypeError\u001b[0m                                 Traceback (most recent call last)",
      "\u001b[0;32m/var/folders/tl/g7qyc5l95_ddw_nx7p69wrsh0000gn/T/ipykernel_5966/1842087405.py\u001b[0m in \u001b[0;36m<module>\u001b[0;34m\u001b[0m\n\u001b[1;32m      1\u001b[0m \u001b[0;31m# no subscript in set\u001b[0m\u001b[0;34m\u001b[0m\u001b[0;34m\u001b[0m\u001b[0m\n\u001b[0;32m----> 2\u001b[0;31m \u001b[0mprint\u001b[0m\u001b[0;34m(\u001b[0m\u001b[0ms\u001b[0m\u001b[0;34m[\u001b[0m\u001b[0;36m1\u001b[0m\u001b[0;34m]\u001b[0m\u001b[0;34m)\u001b[0m\u001b[0;34m\u001b[0m\u001b[0;34m\u001b[0m\u001b[0m\n\u001b[0m",
      "\u001b[0;31mTypeError\u001b[0m: 'set' object is not subscriptable"
     ]
    }
   ],
   "source": [
    "# no subscript in set\n",
    "print(s[1])"
   ]
  },
  {
   "cell_type": "code",
   "execution_count": 90,
   "id": "23a9710b",
   "metadata": {},
   "outputs": [
    {
     "name": "stdout",
     "output_type": "stream",
     "text": [
      "True\n",
      "False\n"
     ]
    }
   ],
   "source": [
    "print(3 in s)   # test whether 3 existed in set s\n",
    "print(100 in s)"
   ]
  },
  {
   "cell_type": "code",
   "execution_count": 91,
   "id": "4b6ea744",
   "metadata": {},
   "outputs": [
    {
     "name": "stdout",
     "output_type": "stream",
     "text": [
      "1\n",
      "2\n",
      "3\n",
      "4\n"
     ]
    }
   ],
   "source": [
    "# 'iternate' all elements without subscript\n",
    "# and it it internally ordered in to make it easier for checking existing of an element\n",
    "for e in s:\n",
    "    print(e)"
   ]
  },
  {
   "cell_type": "code",
   "execution_count": 92,
   "id": "65a4aefb",
   "metadata": {},
   "outputs": [
    {
     "name": "stdout",
     "output_type": "stream",
     "text": [
      "{3.4, 1, 3, 4}\n"
     ]
    }
   ],
   "source": [
    "e=3.4\n",
    "s={4,3,e,1,1}\n",
    "print(s)"
   ]
  },
  {
   "cell_type": "markdown",
   "id": "f1856653",
   "metadata": {},
   "source": [
    "Add an element to a set"
   ]
  },
  {
   "cell_type": "code",
   "execution_count": 71,
   "id": "10e6ed2b",
   "metadata": {
    "scrolled": true
   },
   "outputs": [
    {
     "name": "stdout",
     "output_type": "stream",
     "text": [
      "{1, 3, 4}\n",
      "{1, 'a', 3, 4}\n"
     ]
    }
   ],
   "source": [
    "s={4,3,1}\n",
    "print(s)\n",
    "s.add(\"a\")\n",
    "print(s)"
   ]
  },
  {
   "cell_type": "code",
   "execution_count": 73,
   "id": "fd1c78be",
   "metadata": {},
   "outputs": [
    {
     "ename": "TypeError",
     "evalue": "unhashable type: 'set'",
     "output_type": "error",
     "traceback": [
      "\u001b[0;31m---------------------------------------------------------------------------\u001b[0m",
      "\u001b[0;31mTypeError\u001b[0m                                 Traceback (most recent call last)",
      "Cell \u001b[0;32mIn[73], line 1\u001b[0m\n\u001b[0;32m----> 1\u001b[0m s\u001b[38;5;241m.\u001b[39madd({\u001b[38;5;241m1\u001b[39m,\u001b[38;5;241m2\u001b[39m})\n",
      "\u001b[0;31mTypeError\u001b[0m: unhashable type: 'set'"
     ]
    }
   ],
   "source": [
    "s.add({1,2})"
   ]
  },
  {
   "cell_type": "code",
   "execution_count": 96,
   "id": "5be36eeb",
   "metadata": {},
   "outputs": [
    {
     "ename": "TypeError",
     "evalue": "unsupported operand type(s) for +: 'set' and 'set'",
     "output_type": "error",
     "traceback": [
      "\u001b[0;31m---------------------------------------------------------------------------\u001b[0m",
      "\u001b[0;31mTypeError\u001b[0m                                 Traceback (most recent call last)",
      "\u001b[0;32m/var/folders/tl/g7qyc5l95_ddw_nx7p69wrsh0000gn/T/ipykernel_5966/3327618766.py\u001b[0m in \u001b[0;36m<module>\u001b[0;34m\u001b[0m\n\u001b[0;32m----> 1\u001b[0;31m \u001b[0;34m{\u001b[0m\u001b[0;36m1\u001b[0m\u001b[0;34m,\u001b[0m\u001b[0;36m2\u001b[0m\u001b[0;34m}\u001b[0m\u001b[0;34m+\u001b[0m\u001b[0;34m{\u001b[0m\u001b[0;36m3\u001b[0m\u001b[0;34m}\u001b[0m\u001b[0;34m\u001b[0m\u001b[0;34m\u001b[0m\u001b[0m\n\u001b[0m",
      "\u001b[0;31mTypeError\u001b[0m: unsupported operand type(s) for +: 'set' and 'set'"
     ]
    }
   ],
   "source": [
    "{1,2}+{3}"
   ]
  },
  {
   "cell_type": "code",
   "execution_count": 100,
   "id": "f940adfa",
   "metadata": {},
   "outputs": [
    {
     "data": {
      "text/plain": [
       "{1, 2, 3, 4, 6, 7}"
      ]
     },
     "execution_count": 100,
     "metadata": {},
     "output_type": "execute_result"
    }
   ],
   "source": [
    "s = {1,2}\n",
    "s.update((2,3,4,6,7,(4)))\n",
    "s"
   ]
  },
  {
   "cell_type": "code",
   "execution_count": 101,
   "id": "4f00143e",
   "metadata": {},
   "outputs": [
    {
     "name": "stdout",
     "output_type": "stream",
     "text": [
      "{1, 2, 3, 20}\n"
     ]
    },
    {
     "data": {
      "text/plain": [
       "{1, 2}"
      ]
     },
     "execution_count": 101,
     "metadata": {},
     "output_type": "execute_result"
    }
   ],
   "source": [
    "s = {1,2}\n",
    "print(s.union({20,3}))\n",
    "s"
   ]
  },
  {
   "cell_type": "markdown",
   "id": "27398a7e",
   "metadata": {},
   "source": [
    "**elements in set must be hashable**.  If the object has a hash value then it can be used as a key for a dictionary or as an element in a set."
   ]
  },
  {
   "cell_type": "code",
   "execution_count": 79,
   "id": "0c7e9bc3",
   "metadata": {},
   "outputs": [
    {
     "name": "stdout",
     "output_type": "stream",
     "text": [
      "ss: {'5', (1, 2), 3, 4}\n",
      "sss: {'5', 2, 3, 4, 1}\n"
     ]
    }
   ],
   "source": [
    "ss={1,2,3, 4, '5'}\n",
    "ss={(1,2),3,4,'5'}\n",
    "print(\"ss:\",ss)\n",
    "sss={(1),2,3, 4, '5'}\n",
    "print(\"sss:\",sss)\n",
    "# but not \n",
    "#ssss={[1],2,3, 4, '5'}"
   ]
  },
  {
   "cell_type": "code",
   "execution_count": 102,
   "id": "e0552fce",
   "metadata": {},
   "outputs": [
    {
     "ename": "TypeError",
     "evalue": "unhashable type: 'list'",
     "output_type": "error",
     "traceback": [
      "\u001b[0;31m---------------------------------------------------------------------------\u001b[0m",
      "\u001b[0;31mTypeError\u001b[0m                                 Traceback (most recent call last)",
      "\u001b[0;32m/var/folders/tl/g7qyc5l95_ddw_nx7p69wrsh0000gn/T/ipykernel_5966/1107217918.py\u001b[0m in \u001b[0;36m<module>\u001b[0;34m\u001b[0m\n\u001b[1;32m      1\u001b[0m \u001b[0ma\u001b[0m \u001b[0;34m=\u001b[0m \u001b[0;34m{\u001b[0m\u001b[0;36m1\u001b[0m\u001b[0;34m,\u001b[0m\u001b[0;36m2\u001b[0m\u001b[0;34m}\u001b[0m\u001b[0;34m\u001b[0m\u001b[0;34m\u001b[0m\u001b[0m\n\u001b[0;32m----> 2\u001b[0;31m \u001b[0mb\u001b[0m \u001b[0;34m=\u001b[0m \u001b[0;34m{\u001b[0m\u001b[0;34m[\u001b[0m\u001b[0;36m1\u001b[0m\u001b[0;34m]\u001b[0m\u001b[0;34m}\u001b[0m\u001b[0;34m\u001b[0m\u001b[0;34m\u001b[0m\u001b[0m\n\u001b[0m",
      "\u001b[0;31mTypeError\u001b[0m: unhashable type: 'list'"
     ]
    }
   ],
   "source": [
    "a = {1,2}\n",
    "b = {[1]}"
   ]
  },
  {
   "cell_type": "markdown",
   "id": "3fcbf216",
   "metadata": {},
   "source": [
    "<h3>Hashable object</h3>\n",
    "\n",
    "A hashable object is something that can be mapped to a unique value in the memory. \n",
    "\n",
    "On the opposite, unhashability usually means that objects is mutable - objects whose contents can be changed in memory, rather than by returning a new modified object. <br><br>\n",
    "<b>\n",
    "Lists and dictionaries are unhashable. <br>\n",
    "Tuples, strings and integers are hashable.<br>\n",
    "</b>\n",
    "\n",
    "Why? Read this: <a href=\"https://stackoverflow.com/questions/3917574/how-is-pythons-list-implemented\">How python lists implement?</a>\n",
    "and this to see <a href=\"https://zetcode.com/python/hashing/\">what python hashing is?</a>"
   ]
  },
  {
   "cell_type": "code",
   "execution_count": 103,
   "id": "3594f8a7",
   "metadata": {},
   "outputs": [
    {
     "name": "stdout",
     "output_type": "stream",
     "text": [
      "2\n"
     ]
    },
    {
     "data": {
      "text/plain": [
       "[0, 1, 100, 3, 4]"
      ]
     },
     "execution_count": 103,
     "metadata": {},
     "output_type": "execute_result"
    }
   ],
   "source": [
    "ls = [i for i in range(5)]\n",
    "print(ls[2])\n",
    "ls[2] = 100\n",
    "ls"
   ]
  },
  {
   "cell_type": "code",
   "execution_count": 104,
   "id": "6d9bf239",
   "metadata": {},
   "outputs": [
    {
     "name": "stdout",
     "output_type": "stream",
     "text": [
      "2\n"
     ]
    },
    {
     "ename": "TypeError",
     "evalue": "'tuple' object does not support item assignment",
     "output_type": "error",
     "traceback": [
      "\u001b[0;31m---------------------------------------------------------------------------\u001b[0m",
      "\u001b[0;31mTypeError\u001b[0m                                 Traceback (most recent call last)",
      "\u001b[0;32m/var/folders/tl/g7qyc5l95_ddw_nx7p69wrsh0000gn/T/ipykernel_5966/991117624.py\u001b[0m in \u001b[0;36m<module>\u001b[0;34m\u001b[0m\n\u001b[1;32m      1\u001b[0m \u001b[0mtp\u001b[0m \u001b[0;34m=\u001b[0m \u001b[0;34m(\u001b[0m\u001b[0;36m1\u001b[0m\u001b[0;34m,\u001b[0m\u001b[0;36m2\u001b[0m\u001b[0;34m,\u001b[0m\u001b[0;36m3\u001b[0m\u001b[0;34m,\u001b[0m\u001b[0;36m4\u001b[0m\u001b[0;34m,\u001b[0m\u001b[0;36m5\u001b[0m\u001b[0;34m)\u001b[0m\u001b[0;34m\u001b[0m\u001b[0;34m\u001b[0m\u001b[0m\n\u001b[1;32m      2\u001b[0m \u001b[0mprint\u001b[0m\u001b[0;34m(\u001b[0m\u001b[0mtp\u001b[0m\u001b[0;34m[\u001b[0m\u001b[0;36m1\u001b[0m\u001b[0;34m]\u001b[0m\u001b[0;34m)\u001b[0m\u001b[0;34m\u001b[0m\u001b[0;34m\u001b[0m\u001b[0m\n\u001b[0;32m----> 3\u001b[0;31m \u001b[0mtp\u001b[0m\u001b[0;34m[\u001b[0m\u001b[0;36m1\u001b[0m\u001b[0;34m]\u001b[0m \u001b[0;34m=\u001b[0m \u001b[0;36m6\u001b[0m\u001b[0;34m\u001b[0m\u001b[0;34m\u001b[0m\u001b[0m\n\u001b[0m",
      "\u001b[0;31mTypeError\u001b[0m: 'tuple' object does not support item assignment"
     ]
    }
   ],
   "source": [
    "tp = (1,2,3,4,5)\n",
    "print(tp[1])\n",
    "tp[1] = 6"
   ]
  },
  {
   "cell_type": "code",
   "execution_count": 105,
   "id": "375ad9d1",
   "metadata": {},
   "outputs": [
    {
     "ename": "TypeError",
     "evalue": "'str' object does not support item assignment",
     "output_type": "error",
     "traceback": [
      "\u001b[0;31m---------------------------------------------------------------------------\u001b[0m",
      "\u001b[0;31mTypeError\u001b[0m                                 Traceback (most recent call last)",
      "\u001b[0;32m/var/folders/tl/g7qyc5l95_ddw_nx7p69wrsh0000gn/T/ipykernel_5966/903092225.py\u001b[0m in \u001b[0;36m<module>\u001b[0;34m\u001b[0m\n\u001b[1;32m      1\u001b[0m \u001b[0ma\u001b[0m \u001b[0;34m=\u001b[0m \u001b[0;34m\"xiamen\"\u001b[0m\u001b[0;34m\u001b[0m\u001b[0;34m\u001b[0m\u001b[0m\n\u001b[1;32m      2\u001b[0m \u001b[0ma\u001b[0m\u001b[0;34m[\u001b[0m\u001b[0;36m1\u001b[0m\u001b[0;34m]\u001b[0m\u001b[0;34m\u001b[0m\u001b[0;34m\u001b[0m\u001b[0m\n\u001b[0;32m----> 3\u001b[0;31m \u001b[0ma\u001b[0m\u001b[0;34m[\u001b[0m\u001b[0;36m1\u001b[0m\u001b[0;34m]\u001b[0m \u001b[0;34m=\u001b[0m \u001b[0;34m\"I\"\u001b[0m\u001b[0;34m\u001b[0m\u001b[0;34m\u001b[0m\u001b[0m\n\u001b[0m",
      "\u001b[0;31mTypeError\u001b[0m: 'str' object does not support item assignment"
     ]
    }
   ],
   "source": [
    "a = \"xiamen\"\n",
    "a[1]\n",
    "a[1] = \"I\""
   ]
  },
  {
   "cell_type": "code",
   "execution_count": 106,
   "id": "55225597",
   "metadata": {
    "scrolled": true
   },
   "outputs": [
    {
     "ename": "TypeError",
     "evalue": "'int' object does not support item assignment",
     "output_type": "error",
     "traceback": [
      "\u001b[0;31m---------------------------------------------------------------------------\u001b[0m",
      "\u001b[0;31mTypeError\u001b[0m                                 Traceback (most recent call last)",
      "\u001b[0;32m/var/folders/tl/g7qyc5l95_ddw_nx7p69wrsh0000gn/T/ipykernel_5966/4073004813.py\u001b[0m in \u001b[0;36m<module>\u001b[0;34m\u001b[0m\n\u001b[1;32m      1\u001b[0m \u001b[0ma\u001b[0m \u001b[0;34m=\u001b[0m \u001b[0;36m1245423623\u001b[0m\u001b[0;34m\u001b[0m\u001b[0;34m\u001b[0m\u001b[0m\n\u001b[0;32m----> 2\u001b[0;31m \u001b[0ma\u001b[0m\u001b[0;34m[\u001b[0m\u001b[0;36m2\u001b[0m\u001b[0;34m]\u001b[0m \u001b[0;34m=\u001b[0m \u001b[0;36m100\u001b[0m\u001b[0;34m\u001b[0m\u001b[0;34m\u001b[0m\u001b[0m\n\u001b[0m",
      "\u001b[0;31mTypeError\u001b[0m: 'int' object does not support item assignment"
     ]
    }
   ],
   "source": [
    "a = 1245423623\n",
    "a[2] = 100"
   ]
  },
  {
   "cell_type": "code",
   "execution_count": 107,
   "id": "7f8f9717",
   "metadata": {},
   "outputs": [
    {
     "ename": "TypeError",
     "evalue": "'set' object is not subscriptable",
     "output_type": "error",
     "traceback": [
      "\u001b[0;31m---------------------------------------------------------------------------\u001b[0m",
      "\u001b[0;31mTypeError\u001b[0m                                 Traceback (most recent call last)",
      "\u001b[0;32m/var/folders/tl/g7qyc5l95_ddw_nx7p69wrsh0000gn/T/ipykernel_5966/1044176621.py\u001b[0m in \u001b[0;36m<module>\u001b[0;34m\u001b[0m\n\u001b[1;32m      1\u001b[0m \u001b[0ms\u001b[0m \u001b[0;34m=\u001b[0m \u001b[0;34m{\u001b[0m\u001b[0;36m233\u001b[0m\u001b[0;34m,\u001b[0m\u001b[0;36m5\u001b[0m\u001b[0;34m,\u001b[0m\u001b[0;36m5\u001b[0m\u001b[0;34m,\u001b[0m\u001b[0;36m6\u001b[0m\u001b[0;34m,\u001b[0m\u001b[0;36m7\u001b[0m\u001b[0;34m}\u001b[0m\u001b[0;34m\u001b[0m\u001b[0;34m\u001b[0m\u001b[0m\n\u001b[0;32m----> 2\u001b[0;31m \u001b[0ms\u001b[0m\u001b[0;34m[\u001b[0m\u001b[0;36m0\u001b[0m\u001b[0;34m]\u001b[0m\u001b[0;34m\u001b[0m\u001b[0;34m\u001b[0m\u001b[0m\n\u001b[0m",
      "\u001b[0;31mTypeError\u001b[0m: 'set' object is not subscriptable"
     ]
    }
   ],
   "source": [
    "s = {233,5,5,6,7}\n",
    "s[0]"
   ]
  },
  {
   "cell_type": "code",
   "execution_count": 81,
   "id": "e5d8dca2",
   "metadata": {},
   "outputs": [
    {
     "name": "stdout",
     "output_type": "stream",
     "text": [
      "{1, 2, 100, 4, 5}\n",
      "1\n",
      "2\n",
      "100\n"
     ]
    },
    {
     "ename": "RuntimeError",
     "evalue": "Set changed size during iteration",
     "output_type": "error",
     "traceback": [
      "\u001b[0;31m---------------------------------------------------------------------------\u001b[0m",
      "\u001b[0;31mRuntimeError\u001b[0m                              Traceback (most recent call last)",
      "Cell \u001b[0;32mIn[81], line 5\u001b[0m\n\u001b[1;32m      2\u001b[0m s\u001b[38;5;241m.\u001b[39madd(\u001b[38;5;241m100\u001b[39m)\n\u001b[1;32m      3\u001b[0m \u001b[38;5;28mprint\u001b[39m(s)\n\u001b[0;32m----> 5\u001b[0m \u001b[38;5;28;01mfor\u001b[39;00m i \u001b[38;5;129;01min\u001b[39;00m s:\n\u001b[1;32m      6\u001b[0m     \u001b[38;5;28mprint\u001b[39m(i)\n\u001b[1;32m      7\u001b[0m     \u001b[38;5;28;01mif\u001b[39;00m i\u001b[38;5;241m%\u001b[39m\u001b[38;5;241m2\u001b[39m\u001b[38;5;241m==\u001b[39m\u001b[38;5;241m0\u001b[39m:\n",
      "\u001b[0;31mRuntimeError\u001b[0m: Set changed size during iteration"
     ]
    }
   ],
   "source": [
    "s = {1,2,4,5}\n",
    "s.add(100)\n",
    "print(s)\n",
    "\n",
    "for i in s:\n",
    "    print(i)\n",
    "    if i%2==0:\n",
    "        s.add(i+2)\n",
    "s"
   ]
  },
  {
   "cell_type": "code",
   "execution_count": 83,
   "id": "37a4e804",
   "metadata": {},
   "outputs": [
    {
     "ename": "RuntimeError",
     "evalue": "Set changed size during iteration",
     "output_type": "error",
     "traceback": [
      "\u001b[0;31m---------------------------------------------------------------------------\u001b[0m",
      "\u001b[0;31mRuntimeError\u001b[0m                              Traceback (most recent call last)",
      "Cell \u001b[0;32mIn[83], line 2\u001b[0m\n\u001b[1;32m      1\u001b[0m s \u001b[38;5;241m=\u001b[39m {\u001b[38;5;241m1\u001b[39m,\u001b[38;5;241m2\u001b[39m,\u001b[38;5;241m4\u001b[39m,\u001b[38;5;241m5\u001b[39m}\n\u001b[0;32m----> 2\u001b[0m \u001b[38;5;28;01mfor\u001b[39;00m i \u001b[38;5;129;01min\u001b[39;00m s:\n\u001b[1;32m      3\u001b[0m     \u001b[38;5;28;01mif\u001b[39;00m i\u001b[38;5;241m%\u001b[39m\u001b[38;5;241m2\u001b[39m\u001b[38;5;241m==\u001b[39m\u001b[38;5;241m0\u001b[39m:\n\u001b[1;32m      4\u001b[0m         s\u001b[38;5;241m.\u001b[39mremove(i)\n",
      "\u001b[0;31mRuntimeError\u001b[0m: Set changed size during iteration"
     ]
    }
   ],
   "source": [
    "s = {1,2,4,5}\n",
    "for i in s:\n",
    "    if i%2==0:\n",
    "        s.remove(i)\n",
    "s"
   ]
  },
  {
   "cell_type": "code",
   "execution_count": 85,
   "id": "c2a5c887",
   "metadata": {},
   "outputs": [
    {
     "data": {
      "text/plain": [
       "{1, 2, 4, 5, 6}"
      ]
     },
     "execution_count": 85,
     "metadata": {},
     "output_type": "execute_result"
    }
   ],
   "source": [
    "s = {1,2,4,5}\n",
    "for i in set(s): #！！！！\n",
    "    if i%2==0:\n",
    "        s.add(i+2)\n",
    "s"
   ]
  },
  {
   "cell_type": "code",
   "execution_count": 93,
   "id": "dde3974f",
   "metadata": {},
   "outputs": [
    {
     "name": "stdout",
     "output_type": "stream",
     "text": [
      "5950678720\n",
      "5950679392\n"
     ]
    }
   ],
   "source": [
    "s = {1,2,4,5}\n",
    "print(id(s))\n",
    "ss = set(s)\n",
    "print(id(ss))"
   ]
  },
  {
   "cell_type": "code",
   "execution_count": 87,
   "id": "b5a70e98",
   "metadata": {},
   "outputs": [
    {
     "name": "stdout",
     "output_type": "stream",
     "text": [
      "s: {1, 2, 4, 5, 6}\n",
      "ss: {1, 2, 4, 5, 6}\n",
      "{1000000, 1, 2, 4, 5, 6}\n",
      "{1000000, 1, 2, 4, 5, 6}\n"
     ]
    }
   ],
   "source": [
    "print(\"s:\",s)\n",
    "ss = s\n",
    "print(\"ss:\",ss)\n",
    "s.add(1000000)\n",
    "print(s)\n",
    "print(ss)"
   ]
  },
  {
   "cell_type": "code",
   "execution_count": 117,
   "id": "e3c28bb2",
   "metadata": {},
   "outputs": [
    {
     "name": "stdout",
     "output_type": "stream",
     "text": [
      "140396045871136\n",
      "140396045871136\n"
     ]
    }
   ],
   "source": [
    "print(id(s))\n",
    "print(id(ss))"
   ]
  },
  {
   "cell_type": "code",
   "execution_count": 123,
   "id": "7635db1f",
   "metadata": {},
   "outputs": [
    {
     "name": "stdout",
     "output_type": "stream",
     "text": [
      "[1, 2, 100] [1, 2, 100]\n"
     ]
    }
   ],
   "source": [
    "a = [1,2,4]\n",
    "b = a\n",
    "a[2] = 100\n",
    "print(a,b)"
   ]
  },
  {
   "cell_type": "code",
   "execution_count": 124,
   "id": "4a48e701",
   "metadata": {},
   "outputs": [
    {
     "name": "stdout",
     "output_type": "stream",
     "text": [
      "[1, 2, 100] [1, 2, 4]\n"
     ]
    }
   ],
   "source": [
    "a = [1,2,4]\n",
    "b = list(a)\n",
    "a[2] = 100\n",
    "print(a,b)"
   ]
  },
  {
   "cell_type": "markdown",
   "id": "e5de532e",
   "metadata": {},
   "source": [
    "## dictionary"
   ]
  },
  {
   "cell_type": "code",
   "execution_count": 125,
   "id": "8ae8915e",
   "metadata": {},
   "outputs": [
    {
     "name": "stdout",
     "output_type": "stream",
     "text": [
      "<class 'dict'>\n",
      "{'a': 4, 'c': 5, 'd': 2, 'e': 1}\n"
     ]
    }
   ],
   "source": [
    "# a duplicated key will update the value of previous value of the same key\n",
    "d={'a':4,'c':3, 'd':2,'e':1, 'c':5}\n",
    "print(type(d))\n",
    "print(d)"
   ]
  },
  {
   "cell_type": "code",
   "execution_count": 128,
   "id": "1297d3b6",
   "metadata": {},
   "outputs": [
    {
     "data": {
      "text/plain": [
       "{'d': 2, 3: 1}"
      ]
     },
     "execution_count": 128,
     "metadata": {},
     "output_type": "execute_result"
    }
   ],
   "source": [
    "{\"d\":2,3:1}"
   ]
  },
  {
   "cell_type": "code",
   "execution_count": 129,
   "id": "412df29c",
   "metadata": {},
   "outputs": [
    {
     "name": "stdout",
     "output_type": "stream",
     "text": [
      "<class 'dict'>\n",
      "{'a': 4, 'c': 6, 'd': 2, 'e': 1}\n"
     ]
    }
   ],
   "source": [
    "d={'a':4,'c':3, 'd':2,'e':1, 'c':5,'c':6}\n",
    "print(type(d))\n",
    "print(d)"
   ]
  },
  {
   "cell_type": "code",
   "execution_count": 97,
   "id": "99bfff54",
   "metadata": {},
   "outputs": [
    {
     "name": "stdout",
     "output_type": "stream",
     "text": [
      "a\n",
      "c\n",
      "d\n",
      "e\n"
     ]
    }
   ],
   "source": [
    "# is the key in the dictionary ordered? Usually an ordered key can help search operation\n",
    "d={'a':4,'c':3, 'd':2,'e':1, 'c':5}\n",
    "for e in d:\n",
    "    print(e)"
   ]
  },
  {
   "cell_type": "code",
   "execution_count": 99,
   "id": "038ce3ec",
   "metadata": {},
   "outputs": [
    {
     "name": "stdout",
     "output_type": "stream",
     "text": [
      "a\n",
      "c\n",
      "d\n",
      "e\n"
     ]
    }
   ],
   "source": [
    "for e in d.keys():\n",
    "    print(e)"
   ]
  },
  {
   "cell_type": "code",
   "execution_count": null,
   "id": "60c89d82",
   "metadata": {},
   "outputs": [],
   "source": [
    "{'c':3, 'd':2,'e':1, 'c':5,'a':4,'a':2}"
   ]
  },
  {
   "cell_type": "code",
   "execution_count": 140,
   "id": "d98972fb",
   "metadata": {},
   "outputs": [
    {
     "name": "stdout",
     "output_type": "stream",
     "text": [
      "5\n",
      "c -- 5,d -- 2,e -- 1,a -- 4,"
     ]
    }
   ],
   "source": [
    "# accessing value by key\n",
    "d={'c':3, 'd':2,'e':1, 'c':5,'a':4}\n",
    "print(d['c'])\n",
    "for key in d:\n",
    "    print(key,\"--\",d[key], end=',' )"
   ]
  },
  {
   "cell_type": "code",
   "execution_count": 141,
   "id": "d0d7117e",
   "metadata": {},
   "outputs": [
    {
     "data": {
      "text/plain": [
       "3"
      ]
     },
     "execution_count": 141,
     "metadata": {},
     "output_type": "execute_result"
    }
   ],
   "source": [
    "d = {(1,2):3}\n",
    "d[(1,2)]"
   ]
  },
  {
   "cell_type": "code",
   "execution_count": 142,
   "id": "4fece2ec",
   "metadata": {},
   "outputs": [
    {
     "data": {
      "text/plain": [
       "3"
      ]
     },
     "execution_count": 142,
     "metadata": {},
     "output_type": "execute_result"
    }
   ],
   "source": [
    "d = {1:3}\n",
    "d[1]"
   ]
  },
  {
   "cell_type": "code",
   "execution_count": 143,
   "id": "d478db0e",
   "metadata": {},
   "outputs": [
    {
     "ename": "TypeError",
     "evalue": "unhashable type: 'list'",
     "output_type": "error",
     "traceback": [
      "\u001b[0;31m---------------------------------------------------------------------------\u001b[0m",
      "\u001b[0;31mTypeError\u001b[0m                                 Traceback (most recent call last)",
      "\u001b[0;32m/var/folders/tl/g7qyc5l95_ddw_nx7p69wrsh0000gn/T/ipykernel_5966/3301000922.py\u001b[0m in \u001b[0;36m<module>\u001b[0;34m\u001b[0m\n\u001b[0;32m----> 1\u001b[0;31m \u001b[0mdl\u001b[0m\u001b[0;34m=\u001b[0m\u001b[0;34m{\u001b[0m\u001b[0;34m[\u001b[0m\u001b[0;36m1\u001b[0m\u001b[0;34m,\u001b[0m\u001b[0;36m2\u001b[0m\u001b[0;34m]\u001b[0m\u001b[0;34m:\u001b[0m\u001b[0;36m3\u001b[0m\u001b[0;34m}\u001b[0m\u001b[0;34m\u001b[0m\u001b[0;34m\u001b[0m\u001b[0m\n\u001b[0m",
      "\u001b[0;31mTypeError\u001b[0m: unhashable type: 'list'"
     ]
    }
   ],
   "source": [
    "dl={[1,2]:3}"
   ]
  },
  {
   "cell_type": "code",
   "execution_count": 144,
   "id": "00f0291b",
   "metadata": {},
   "outputs": [
    {
     "ename": "TypeError",
     "evalue": "unhashable type: 'set'",
     "output_type": "error",
     "traceback": [
      "\u001b[0;31m---------------------------------------------------------------------------\u001b[0m",
      "\u001b[0;31mTypeError\u001b[0m                                 Traceback (most recent call last)",
      "\u001b[0;32m/var/folders/tl/g7qyc5l95_ddw_nx7p69wrsh0000gn/T/ipykernel_5966/3995449116.py\u001b[0m in \u001b[0;36m<module>\u001b[0;34m\u001b[0m\n\u001b[0;32m----> 1\u001b[0;31m \u001b[0mdl\u001b[0m\u001b[0;34m=\u001b[0m\u001b[0;34m{\u001b[0m\u001b[0;34m{\u001b[0m\u001b[0;36m1\u001b[0m\u001b[0;34m,\u001b[0m\u001b[0;36m2\u001b[0m\u001b[0;34m}\u001b[0m\u001b[0;34m:\u001b[0m\u001b[0;36m3\u001b[0m\u001b[0;34m}\u001b[0m\u001b[0;34m\u001b[0m\u001b[0;34m\u001b[0m\u001b[0m\n\u001b[0m",
      "\u001b[0;31mTypeError\u001b[0m: unhashable type: 'set'"
     ]
    }
   ],
   "source": [
    "dl={{1,2}:3}"
   ]
  },
  {
   "cell_type": "code",
   "execution_count": 146,
   "id": "46c54f07",
   "metadata": {},
   "outputs": [
    {
     "ename": "TypeError",
     "evalue": "unhashable type: 'dict'",
     "output_type": "error",
     "traceback": [
      "\u001b[0;31m---------------------------------------------------------------------------\u001b[0m",
      "\u001b[0;31mTypeError\u001b[0m                                 Traceback (most recent call last)",
      "\u001b[0;32m/var/folders/tl/g7qyc5l95_ddw_nx7p69wrsh0000gn/T/ipykernel_5966/1204020278.py\u001b[0m in \u001b[0;36m<module>\u001b[0;34m\u001b[0m\n\u001b[0;32m----> 1\u001b[0;31m \u001b[0mdl\u001b[0m\u001b[0;34m=\u001b[0m\u001b[0;34m{\u001b[0m\u001b[0;34m{\u001b[0m\u001b[0;34m\"dict\"\u001b[0m\u001b[0;34m:\u001b[0m\u001b[0;36m2\u001b[0m\u001b[0;34m}\u001b[0m\u001b[0;34m:\u001b[0m\u001b[0;36m3\u001b[0m\u001b[0;34m}\u001b[0m\u001b[0;34m\u001b[0m\u001b[0;34m\u001b[0m\u001b[0m\n\u001b[0m",
      "\u001b[0;31mTypeError\u001b[0m: unhashable type: 'dict'"
     ]
    }
   ],
   "source": [
    "dl={{\"dict\":2}:3}"
   ]
  },
  {
   "cell_type": "markdown",
   "id": "eb385c32",
   "metadata": {},
   "source": [
    "Add a element to a dictionary"
   ]
  },
  {
   "cell_type": "code",
   "execution_count": 147,
   "id": "ec63d612",
   "metadata": {},
   "outputs": [
    {
     "name": "stdout",
     "output_type": "stream",
     "text": [
      "{'c': 5, 'd': 2, 'e': 1, 'a': 4, 12: 'pd'}\n"
     ]
    }
   ],
   "source": [
    "d={'c':3, 'd':2,'e':1, 'c':5,'a':4}\n",
    "d[12] = 'pd'\n",
    "print(d)"
   ]
  },
  {
   "cell_type": "code",
   "execution_count": 149,
   "id": "fa4d1a41",
   "metadata": {},
   "outputs": [
    {
     "name": "stdout",
     "output_type": "stream",
     "text": [
      "{'a': [1]}\n",
      "{'a': [1, 3]}\n"
     ]
    }
   ],
   "source": [
    "d = {\"a\":[1]}\n",
    "print(d)\n",
    "d[\"a\"].append(3)\n",
    "print(d)"
   ]
  },
  {
   "cell_type": "code",
   "execution_count": 152,
   "id": "c5e6586e",
   "metadata": {},
   "outputs": [
    {
     "data": {
      "text/plain": [
       "3.0"
      ]
     },
     "execution_count": 152,
     "metadata": {},
     "output_type": "execute_result"
    }
   ],
   "source": [
    "ftn = {\"a\":sqrt}\n",
    "ftn['a'](9)"
   ]
  },
  {
   "cell_type": "code",
   "execution_count": 153,
   "id": "977d21b9",
   "metadata": {},
   "outputs": [
    {
     "name": "stdout",
     "output_type": "stream",
     "text": [
      "{0: 3, 1: 4, 2: 5, 3: 6, 4: 7}\n"
     ]
    }
   ],
   "source": [
    "dic = {}\n",
    "for i in range(5):\n",
    "    dic[i] = i+3\n",
    "print(dic)"
   ]
  },
  {
   "cell_type": "code",
   "execution_count": 154,
   "id": "9de0efee",
   "metadata": {},
   "outputs": [
    {
     "ename": "TypeError",
     "evalue": "unsupported operand type(s) for +: 'set' and 'set'",
     "output_type": "error",
     "traceback": [
      "\u001b[0;31m---------------------------------------------------------------------------\u001b[0m",
      "\u001b[0;31mTypeError\u001b[0m                                 Traceback (most recent call last)",
      "\u001b[0;32m/var/folders/tl/g7qyc5l95_ddw_nx7p69wrsh0000gn/T/ipykernel_5966/1584132511.py\u001b[0m in \u001b[0;36m<module>\u001b[0;34m\u001b[0m\n\u001b[0;32m----> 1\u001b[0;31m \u001b[0;34m{\u001b[0m\u001b[0;36m2\u001b[0m\u001b[0;34m}\u001b[0m \u001b[0;34m+\u001b[0m\u001b[0;34m{\u001b[0m\u001b[0;36m3\u001b[0m\u001b[0;34m}\u001b[0m\u001b[0;34m\u001b[0m\u001b[0;34m\u001b[0m\u001b[0m\n\u001b[0m",
      "\u001b[0;31mTypeError\u001b[0m: unsupported operand type(s) for +: 'set' and 'set'"
     ]
    }
   ],
   "source": [
    "{2} +{3}"
   ]
  },
  {
   "cell_type": "code",
   "execution_count": 155,
   "id": "a4b0401b",
   "metadata": {
    "scrolled": true
   },
   "outputs": [
    {
     "ename": "TypeError",
     "evalue": "unsupported operand type(s) for +: 'dict' and 'dict'",
     "output_type": "error",
     "traceback": [
      "\u001b[0;31m---------------------------------------------------------------------------\u001b[0m",
      "\u001b[0;31mTypeError\u001b[0m                                 Traceback (most recent call last)",
      "\u001b[0;32m/var/folders/tl/g7qyc5l95_ddw_nx7p69wrsh0000gn/T/ipykernel_5966/1885354840.py\u001b[0m in \u001b[0;36m<module>\u001b[0;34m\u001b[0m\n\u001b[0;32m----> 1\u001b[0;31m \u001b[0;34m{\u001b[0m\u001b[0;34m'q'\u001b[0m\u001b[0;34m:\u001b[0m\u001b[0;36m10\u001b[0m\u001b[0;34m,\u001b[0m\u001b[0;34m\"3\"\u001b[0m\u001b[0;34m:\u001b[0m\u001b[0;36m46\u001b[0m\u001b[0;34m}\u001b[0m\u001b[0;34m+\u001b[0m\u001b[0;34m{\u001b[0m\u001b[0;34m'q'\u001b[0m\u001b[0;34m:\u001b[0m\u001b[0;36m10\u001b[0m\u001b[0;34m,\u001b[0m\u001b[0;34m\"3\"\u001b[0m\u001b[0;34m:\u001b[0m\u001b[0;36m46\u001b[0m\u001b[0;34m}\u001b[0m\u001b[0;34m\u001b[0m\u001b[0;34m\u001b[0m\u001b[0m\n\u001b[0m",
      "\u001b[0;31mTypeError\u001b[0m: unsupported operand type(s) for +: 'dict' and 'dict'"
     ]
    }
   ],
   "source": [
    "{'q':10,\"3\":46}+{'q':10,\"3\":46}"
   ]
  },
  {
   "cell_type": "code",
   "execution_count": 162,
   "id": "614af89e",
   "metadata": {},
   "outputs": [
    {
     "data": {
      "text/plain": [
       "(2, 6, 3, 4)"
      ]
     },
     "execution_count": 162,
     "metadata": {},
     "output_type": "execute_result"
    }
   ],
   "source": [
    "(2,6)+(3,4)"
   ]
  },
  {
   "cell_type": "code",
   "execution_count": 103,
   "id": "5db44a4a",
   "metadata": {},
   "outputs": [
    {
     "data": {
      "text/plain": [
       "(6, 3, 4)"
      ]
     },
     "execution_count": 103,
     "metadata": {},
     "output_type": "execute_result"
    }
   ],
   "source": [
    "(6,)+(3,4)"
   ]
  },
  {
   "cell_type": "code",
   "execution_count": 105,
   "id": "c5d5ca06",
   "metadata": {},
   "outputs": [
    {
     "data": {
      "text/plain": [
       "9"
      ]
     },
     "execution_count": 105,
     "metadata": {},
     "output_type": "execute_result"
    }
   ],
   "source": [
    "(6)+3"
   ]
  },
  {
   "cell_type": "code",
   "execution_count": 166,
   "id": "f9017c32",
   "metadata": {},
   "outputs": [
    {
     "ename": "TypeError",
     "evalue": "can only concatenate list (not \"int\") to list",
     "output_type": "error",
     "traceback": [
      "\u001b[0;31m---------------------------------------------------------------------------\u001b[0m",
      "\u001b[0;31mTypeError\u001b[0m                                 Traceback (most recent call last)",
      "\u001b[0;32m/var/folders/tl/g7qyc5l95_ddw_nx7p69wrsh0000gn/T/ipykernel_5966/2757513695.py\u001b[0m in \u001b[0;36m<module>\u001b[0;34m\u001b[0m\n\u001b[0;32m----> 1\u001b[0;31m \u001b[0;34m[\u001b[0m\u001b[0;36m6\u001b[0m\u001b[0;34m]\u001b[0m\u001b[0;34m+\u001b[0m\u001b[0;36m3\u001b[0m\u001b[0;34m\u001b[0m\u001b[0;34m\u001b[0m\u001b[0m\n\u001b[0m",
      "\u001b[0;31mTypeError\u001b[0m: can only concatenate list (not \"int\") to list"
     ]
    }
   ],
   "source": [
    "[6]+3"
   ]
  },
  {
   "cell_type": "markdown",
   "id": "59a3b4cc",
   "metadata": {},
   "source": [
    "Adding items to dictionary using update() function"
   ]
  },
  {
   "cell_type": "code",
   "execution_count": 170,
   "id": "2ed5afa2",
   "metadata": {},
   "outputs": [
    {
     "name": "stdout",
     "output_type": "stream",
     "text": [
      "{'a': [1, 3], 'q': 10, '3': 46}\n"
     ]
    }
   ],
   "source": [
    "d.update({'q':10,\"3\":46})\n",
    "print(d)"
   ]
  },
  {
   "cell_type": "markdown",
   "id": "b5d14abb",
   "metadata": {},
   "source": [
    "Adding items to the dictionary using dictionary comprehension"
   ]
  },
  {
   "cell_type": "code",
   "execution_count": 107,
   "id": "34ababbb",
   "metadata": {},
   "outputs": [
    {
     "name": "stdout",
     "output_type": "stream",
     "text": [
      "{'zhao yi': 10, 'zhang san': 10, 'qian er': 20}\n"
     ]
    }
   ],
   "source": [
    "dd = {\"zhao yi\":10}\n",
    "keys = ['zhang san',\"qian er\",\"sun wu\"]\n",
    "values = [10,20]\n",
    "dd.update({key:value for key,value in zip(keys,values)})\n",
    "print(dd)"
   ]
  },
  {
   "cell_type": "code",
   "execution_count": 109,
   "id": "dc428690",
   "metadata": {},
   "outputs": [
    {
     "data": {
      "text/plain": [
       "dict_items([('zhao yi', 10), ('zhang san', 10), ('qian er', 20)])"
      ]
     },
     "execution_count": 109,
     "metadata": {},
     "output_type": "execute_result"
    }
   ],
   "source": [
    "dd.items()"
   ]
  },
  {
   "cell_type": "code",
   "execution_count": 180,
   "id": "bb590b63",
   "metadata": {
    "scrolled": true
   },
   "outputs": [
    {
     "name": "stdout",
     "output_type": "stream",
     "text": [
      "{'zhao yi': 10, 'zhang san': 10, 'qian er': 20, 'sun wu': 30}\n",
      "('zhao yi', 10)\n",
      "('zhang san', 10)\n",
      "('qian er', 20)\n",
      "('sun wu', 30)\n",
      "zhao yi\n",
      "zhang san\n",
      "qian er\n",
      "sun wu\n",
      "10\n",
      "10\n",
      "20\n",
      "30\n"
     ]
    }
   ],
   "source": [
    "# dict.items()\n",
    "dd = {\"zhao yi\":10}\n",
    "keys = ['zhang san',\"qian er\",\"sun wu\"]\n",
    "values = [10,20,30]\n",
    "dd.update({key:value for key,value in zip(keys,values)})\n",
    "print(dd)\n",
    "for i in dd.items(): \n",
    "    print(i)\n",
    "#type(i)\n",
    "for i in dd.keys(): \n",
    "    print(i)\n",
    "    \n",
    "for i in dd.values(): \n",
    "    print(i)"
   ]
  },
  {
   "cell_type": "code",
   "execution_count": 178,
   "id": "938fbbaf",
   "metadata": {},
   "outputs": [
    {
     "data": {
      "text/plain": [
       "dict_items([('zhao yi', 10), ('zhang san', 10), ('qian er', 20), ('sun wu', 30)])"
      ]
     },
     "execution_count": 178,
     "metadata": {},
     "output_type": "execute_result"
    }
   ],
   "source": [
    "dd.items()"
   ]
  },
  {
   "cell_type": "code",
   "execution_count": 176,
   "id": "d2460c3e",
   "metadata": {},
   "outputs": [
    {
     "name": "stdout",
     "output_type": "stream",
     "text": [
      "('zhang san', 10)\n",
      "('qian er', 20)\n",
      "('sun wu', 30)\n"
     ]
    }
   ],
   "source": [
    "for k in zip(keys,values):\n",
    "    print(k)"
   ]
  },
  {
   "cell_type": "code",
   "execution_count": 174,
   "id": "861a1dea",
   "metadata": {},
   "outputs": [
    {
     "name": "stdout",
     "output_type": "stream",
     "text": [
      "1: a, True\n",
      "2: b, False\n",
      "3: c, True\n"
     ]
    }
   ],
   "source": [
    "list1 = [1, 2, 3, 4]\n",
    "list2 = ['a', 'b', 'c',8,6]\n",
    "list3 = [True, False, True]\n",
    "\n",
    "for num, char, flag in zip(list1, list2, list3):\n",
    "    print(f\"{num}: {char}, {flag}\")"
   ]
  },
  {
   "cell_type": "markdown",
   "id": "f7eef5e6",
   "metadata": {},
   "source": [
    "- Keys are always unique in the dictionary\n",
    "- keys must be of an immutable data type, i.e., strings, numbers, or tuples.\n",
    "  - It means once a key-value pair is added in the dictionary then it cannot modify the key itself, although we can change the value associated with it."
   ]
  },
  {
   "cell_type": "code",
   "execution_count": 181,
   "id": "9d8cbb2b",
   "metadata": {},
   "outputs": [
    {
     "name": "stdout",
     "output_type": "stream",
     "text": [
      "dict_keys(['c', 'd', 'e', 'a'])\n",
      "dict_values([5, 2, 1, 4])\n"
     ]
    }
   ],
   "source": [
    "dd={'c':3, 'd':2,'e':1, 'c':5,'a':4,}\n",
    "print(dd.keys())\n",
    "print(dd.values())"
   ]
  },
  {
   "cell_type": "code",
   "execution_count": 182,
   "id": "54938066",
   "metadata": {},
   "outputs": [
    {
     "name": "stdout",
     "output_type": "stream",
     "text": [
      "c\n",
      "d\n",
      "e\n",
      "a\n"
     ]
    }
   ],
   "source": [
    "for i in dd.keys():\n",
    "    print(i)"
   ]
  },
  {
   "cell_type": "code",
   "execution_count": 183,
   "id": "fe200888",
   "metadata": {},
   "outputs": [
    {
     "name": "stdout",
     "output_type": "stream",
     "text": [
      "5\n",
      "2\n",
      "1\n",
      "4\n"
     ]
    }
   ],
   "source": [
    "for i in dd.values():\n",
    "    print(i)"
   ]
  },
  {
   "cell_type": "code",
   "execution_count": 184,
   "id": "a90bab71",
   "metadata": {},
   "outputs": [
    {
     "data": {
      "text/plain": [
       "dict_items([('c', 5), ('d', 2), ('e', 1), ('a', 4)])"
      ]
     },
     "execution_count": 184,
     "metadata": {},
     "output_type": "execute_result"
    }
   ],
   "source": [
    "dd.items()"
   ]
  },
  {
   "cell_type": "markdown",
   "id": "2ce52ca3",
   "metadata": {},
   "source": [
    "Remove key-value pairs from dictionary "
   ]
  },
  {
   "cell_type": "code",
   "execution_count": 185,
   "id": "ababd2bc",
   "metadata": {},
   "outputs": [
    {
     "name": "stdout",
     "output_type": "stream",
     "text": [
      "{'c': 3, 'd': 2, 'e': 1, 'a': 4}\n",
      "{'d': 2, 'e': 1, 'a': 4}\n"
     ]
    }
   ],
   "source": [
    "dd={'c':3, 'd':2,'e':1,'a':4,}\n",
    "print(dd)\n",
    "del dd['c']\n",
    "print(dd)"
   ]
  },
  {
   "cell_type": "code",
   "execution_count": 187,
   "id": "2fa89ab5",
   "metadata": {},
   "outputs": [
    {
     "name": "stdout",
     "output_type": "stream",
     "text": [
      "c\n",
      "d\n"
     ]
    },
    {
     "ename": "RuntimeError",
     "evalue": "dictionary changed size during iteration",
     "output_type": "error",
     "traceback": [
      "\u001b[0;31m---------------------------------------------------------------------------\u001b[0m",
      "\u001b[0;31mRuntimeError\u001b[0m                              Traceback (most recent call last)",
      "\u001b[0;32m/var/folders/tl/g7qyc5l95_ddw_nx7p69wrsh0000gn/T/ipykernel_5966/2158588693.py\u001b[0m in \u001b[0;36m<module>\u001b[0;34m\u001b[0m\n\u001b[1;32m      1\u001b[0m \u001b[0;31m#Iterate over a dictionary and remove items with even values\u001b[0m\u001b[0;34m\u001b[0m\u001b[0;34m\u001b[0m\u001b[0m\n\u001b[1;32m      2\u001b[0m \u001b[0mdd\u001b[0m\u001b[0;34m=\u001b[0m\u001b[0;34m{\u001b[0m\u001b[0;34m'c'\u001b[0m\u001b[0;34m:\u001b[0m\u001b[0;36m3\u001b[0m\u001b[0;34m,\u001b[0m \u001b[0;34m'd'\u001b[0m\u001b[0;34m:\u001b[0m\u001b[0;36m2\u001b[0m\u001b[0;34m,\u001b[0m\u001b[0;34m'e'\u001b[0m\u001b[0;34m:\u001b[0m\u001b[0;36m1\u001b[0m\u001b[0;34m,\u001b[0m\u001b[0;34m'a'\u001b[0m\u001b[0;34m:\u001b[0m\u001b[0;36m4\u001b[0m\u001b[0;34m,\u001b[0m\u001b[0;34m}\u001b[0m\u001b[0;34m\u001b[0m\u001b[0;34m\u001b[0m\u001b[0m\n\u001b[0;32m----> 3\u001b[0;31m \u001b[0;32mfor\u001b[0m \u001b[0mkey\u001b[0m\u001b[0;34m,\u001b[0m\u001b[0mvalue\u001b[0m \u001b[0;32min\u001b[0m \u001b[0mdd\u001b[0m\u001b[0;34m.\u001b[0m\u001b[0mitems\u001b[0m\u001b[0;34m(\u001b[0m\u001b[0;34m)\u001b[0m\u001b[0;34m:\u001b[0m\u001b[0;34m\u001b[0m\u001b[0;34m\u001b[0m\u001b[0m\n\u001b[0m\u001b[1;32m      4\u001b[0m     \u001b[0mprint\u001b[0m\u001b[0;34m(\u001b[0m\u001b[0mkey\u001b[0m\u001b[0;34m)\u001b[0m\u001b[0;34m\u001b[0m\u001b[0;34m\u001b[0m\u001b[0m\n\u001b[1;32m      5\u001b[0m     \u001b[0;32mif\u001b[0m \u001b[0mvalue\u001b[0m\u001b[0;34m%\u001b[0m\u001b[0;36m2\u001b[0m \u001b[0;34m==\u001b[0m \u001b[0;36m0\u001b[0m\u001b[0;34m:\u001b[0m\u001b[0;34m\u001b[0m\u001b[0;34m\u001b[0m\u001b[0m\n",
      "\u001b[0;31mRuntimeError\u001b[0m: dictionary changed size during iteration"
     ]
    }
   ],
   "source": [
    "#Iterate over a dictionary and remove items with even values\n",
    "dd={'c':3, 'd':2,'e':1,'a':4,}\n",
    "for key,value in dd.items():\n",
    "    print(key)\n",
    "    if value%2 == 0:\n",
    "        del dd[key]"
   ]
  },
  {
   "cell_type": "code",
   "execution_count": 188,
   "id": "c4bd74c9",
   "metadata": {},
   "outputs": [
    {
     "name": "stdout",
     "output_type": "stream",
     "text": [
      "c\n",
      "d\n",
      "e\n",
      "a\n",
      "{'c': 3, 'e': 1}\n"
     ]
    }
   ],
   "source": [
    "dd={'c':3, 'd':2,'e':1,'a':4}\n",
    "for key,value in dict(dd).items():\n",
    "    print(key)\n",
    "    if value%2 == 0:\n",
    "        del dd[key]\n",
    "print(dd)"
   ]
  },
  {
   "cell_type": "code",
   "execution_count": 111,
   "id": "d2a47bb1",
   "metadata": {},
   "outputs": [
    {
     "name": "stdout",
     "output_type": "stream",
     "text": [
      "5973344576\n",
      "5973344576\n",
      "{'c': 3, 'd': 2, 'e': 1, 'a': 55, 3: 24}\n"
     ]
    }
   ],
   "source": [
    "dd ={'c':3, 'd':2,'e':1,'a':55}\n",
    "print(id(dd))\n",
    "d = dd\n",
    "d[3] = 24\n",
    "print(id(d))\n",
    "print(dd)"
   ]
  },
  {
   "cell_type": "code",
   "execution_count": 190,
   "id": "482aeb99",
   "metadata": {},
   "outputs": [
    {
     "name": "stdout",
     "output_type": "stream",
     "text": [
      "140394696484032\n",
      "140394696460224\n",
      "{'c': 3, 'd': 2, 'e': 1, 'a': 55}\n"
     ]
    }
   ],
   "source": [
    "dd ={'c':3, 'd':2,'e':1,'a':55}\n",
    "print(id(dd))\n",
    "d = dict(dd)\n",
    "d[3] = 24\n",
    "print(id(d))\n",
    "print(dd)"
   ]
  },
  {
   "cell_type": "code",
   "execution_count": null,
   "id": "5bf110aa",
   "metadata": {},
   "outputs": [],
   "source": []
  },
  {
   "cell_type": "markdown",
   "id": "d69073d5",
   "metadata": {},
   "source": [
    "Sort a Dictionary by key or Value"
   ]
  },
  {
   "cell_type": "code",
   "execution_count": 191,
   "id": "a061b89c",
   "metadata": {},
   "outputs": [
    {
     "name": "stdout",
     "output_type": "stream",
     "text": [
      "dict_keys(['h', 'a', 'st', 'b'])\n"
     ]
    }
   ],
   "source": [
    "# Dictionary of strings and ints\n",
    "myDict = { \"h\": 56,\"a\" : 23 ,\"st\" : 43,\"b\" : 43}\n",
    "print(myDict.keys())"
   ]
  },
  {
   "cell_type": "code",
   "execution_count": 192,
   "id": "abe5b621",
   "metadata": {
    "scrolled": true
   },
   "outputs": [
    {
     "name": "stdout",
     "output_type": "stream",
     "text": [
      "a : 23\n",
      "b : 43\n",
      "h : 56\n",
      "st : 43\n"
     ]
    }
   ],
   "source": [
    "for key in sorted(myDict):\n",
    "    print(key,\":\",myDict[key])"
   ]
  },
  {
   "cell_type": "code",
   "execution_count": 194,
   "id": "91883031",
   "metadata": {},
   "outputs": [
    {
     "ename": "TypeError",
     "evalue": "'<' not supported between instances of 'int' and 'str'",
     "output_type": "error",
     "traceback": [
      "\u001b[0;31m---------------------------------------------------------------------------\u001b[0m",
      "\u001b[0;31mTypeError\u001b[0m                                 Traceback (most recent call last)",
      "\u001b[0;32m/var/folders/tl/g7qyc5l95_ddw_nx7p69wrsh0000gn/T/ipykernel_5966/2717613025.py\u001b[0m in \u001b[0;36m<module>\u001b[0;34m\u001b[0m\n\u001b[1;32m      2\u001b[0m \u001b[0;31m#sorted({3: 43,1:23})\u001b[0m\u001b[0;34m\u001b[0m\u001b[0;34m\u001b[0m\u001b[0m\n\u001b[1;32m      3\u001b[0m \u001b[0mmyDict\u001b[0m \u001b[0;34m=\u001b[0m \u001b[0;34m{\u001b[0m \u001b[0;34m\"h\"\u001b[0m\u001b[0;34m:\u001b[0m \u001b[0;36m56\u001b[0m\u001b[0;34m,\u001b[0m\u001b[0;34m\"a\"\u001b[0m \u001b[0;34m:\u001b[0m \u001b[0;36m23\u001b[0m \u001b[0;34m,\u001b[0m\u001b[0;34m\"st\"\u001b[0m \u001b[0;34m:\u001b[0m \u001b[0;36m43\u001b[0m\u001b[0;34m,\u001b[0m\u001b[0;34m\"b\"\u001b[0m \u001b[0;34m:\u001b[0m \u001b[0;36m43\u001b[0m\u001b[0;34m,\u001b[0m\u001b[0;36m3\u001b[0m\u001b[0;34m:\u001b[0m\u001b[0;36m4\u001b[0m\u001b[0;34m}\u001b[0m\u001b[0;34m\u001b[0m\u001b[0;34m\u001b[0m\u001b[0m\n\u001b[0;32m----> 4\u001b[0;31m \u001b[0msorted\u001b[0m\u001b[0;34m(\u001b[0m\u001b[0mmyDict\u001b[0m\u001b[0;34m)\u001b[0m\u001b[0;34m\u001b[0m\u001b[0;34m\u001b[0m\u001b[0m\n\u001b[0m",
      "\u001b[0;31mTypeError\u001b[0m: '<' not supported between instances of 'int' and 'str'"
     ]
    }
   ],
   "source": [
    "# Dictionary of strings and ints\n",
    "sorted({3: 43,1:23})\n",
    "myDict = { \"h\": 56,\"a\" : 23 ,\"st\" : 43,\"b\" : 43,3:4}\n",
    "sorted(myDict)"
   ]
  },
  {
   "cell_type": "markdown",
   "id": "295746b0",
   "metadata": {},
   "source": [
    "## The empty collections"
   ]
  },
  {
   "cell_type": "code",
   "execution_count": 195,
   "id": "0b47c007",
   "metadata": {},
   "outputs": [
    {
     "name": "stdout",
     "output_type": "stream",
     "text": [
      "all above are valid.\n"
     ]
    }
   ],
   "source": [
    "# the empty collection is not a NULL, it exists but have no elements\n",
    "()\n",
    "[]\n",
    "{}   #what is this? set or dictionary\n",
    "tuple()\n",
    "set()\n",
    "list()\n",
    "dict()\n",
    "print(\"all above are valid.\")"
   ]
  },
  {
   "cell_type": "code",
   "execution_count": 196,
   "id": "37faf05b",
   "metadata": {},
   "outputs": [
    {
     "name": "stdout",
     "output_type": "stream",
     "text": [
      "<class 'dict'>\n"
     ]
    },
    {
     "data": {
      "text/plain": [
       "{2: 5}"
      ]
     },
     "execution_count": 196,
     "metadata": {},
     "output_type": "execute_result"
    }
   ],
   "source": [
    "s={}\n",
    "print(type(s))\n",
    "s[2] = 5\n",
    "s"
   ]
  },
  {
   "cell_type": "markdown",
   "id": "0632739b",
   "metadata": {},
   "source": [
    "dynamic collection creation"
   ]
  },
  {
   "cell_type": "code",
   "execution_count": 197,
   "id": "9991c462",
   "metadata": {},
   "outputs": [
    {
     "name": "stdout",
     "output_type": "stream",
     "text": [
      "<class 'set'>\n",
      "{0, 1, 2, 3, 4, 5}\n"
     ]
    }
   ],
   "source": [
    "s=set()\n",
    "for i in range(0,6):\n",
    "    s.add(i) \n",
    "print(type(s))\n",
    "print(s)"
   ]
  },
  {
   "cell_type": "code",
   "execution_count": 198,
   "id": "4345e63b",
   "metadata": {},
   "outputs": [
    {
     "name": "stdout",
     "output_type": "stream",
     "text": [
      "<class 'list'>\n",
      "[0, 1, 2, 3, 4, 5]\n"
     ]
    }
   ],
   "source": [
    "s=list()\n",
    "for i in range(0,6):\n",
    "    s.append(i) \n",
    "print(type(s))\n",
    "print(s)"
   ]
  },
  {
   "cell_type": "code",
   "execution_count": 199,
   "id": "f22a5427",
   "metadata": {},
   "outputs": [
    {
     "name": "stdout",
     "output_type": "stream",
     "text": [
      "<class 'tuple'>\n",
      "(1, 2, 3)\n"
     ]
    },
    {
     "ename": "AttributeError",
     "evalue": "'tuple' object has no attribute 'add'",
     "output_type": "error",
     "traceback": [
      "\u001b[0;31m---------------------------------------------------------------------------\u001b[0m",
      "\u001b[0;31mAttributeError\u001b[0m                            Traceback (most recent call last)",
      "\u001b[0;32m/var/folders/tl/g7qyc5l95_ddw_nx7p69wrsh0000gn/T/ipykernel_5966/458090116.py\u001b[0m in \u001b[0;36m<module>\u001b[0;34m\u001b[0m\n\u001b[1;32m      3\u001b[0m \u001b[0mprint\u001b[0m\u001b[0;34m(\u001b[0m\u001b[0mtype\u001b[0m\u001b[0;34m(\u001b[0m\u001b[0ms\u001b[0m\u001b[0;34m)\u001b[0m\u001b[0;34m)\u001b[0m\u001b[0;34m\u001b[0m\u001b[0;34m\u001b[0m\u001b[0m\n\u001b[1;32m      4\u001b[0m \u001b[0mprint\u001b[0m\u001b[0;34m(\u001b[0m\u001b[0ms\u001b[0m\u001b[0;34m)\u001b[0m\u001b[0;34m\u001b[0m\u001b[0;34m\u001b[0m\u001b[0m\n\u001b[0;32m----> 5\u001b[0;31m \u001b[0ms\u001b[0m\u001b[0;34m.\u001b[0m\u001b[0madd\u001b[0m\u001b[0;34m(\u001b[0m\u001b[0;36m4\u001b[0m\u001b[0;34m)\u001b[0m\u001b[0;34m\u001b[0m\u001b[0;34m\u001b[0m\u001b[0m\n\u001b[0m",
      "\u001b[0;31mAttributeError\u001b[0m: 'tuple' object has no attribute 'add'"
     ]
    }
   ],
   "source": [
    "# tuple can not be altered after its creation. \n",
    "s=(1,2,3)\n",
    "print(type(s))\n",
    "print(s)\n",
    "s.add(4) "
   ]
  },
  {
   "cell_type": "markdown",
   "id": "83d2878e",
   "metadata": {},
   "source": [
    "How to add an element to tuple"
   ]
  },
  {
   "cell_type": "code",
   "execution_count": 200,
   "id": "ac71be11",
   "metadata": {},
   "outputs": [
    {
     "name": "stdout",
     "output_type": "stream",
     "text": [
      "list t: [1, 2, 3, 4]\n",
      "tuple t: (1, 2, 3, 4, 5)\n"
     ]
    }
   ],
   "source": [
    "t = (1,2,3,4)\n",
    "t = list(t)\n",
    "print('list t:',t)\n",
    "t.append(5)\n",
    "t = tuple(t)\n",
    "print('tuple t:',t)"
   ]
  },
  {
   "cell_type": "code",
   "execution_count": 201,
   "id": "3f27c592",
   "metadata": {},
   "outputs": [
    {
     "name": "stdout",
     "output_type": "stream",
     "text": [
      "<class 'set'>\n",
      "{0, 1, 2, 3, 4, 5}\n"
     ]
    }
   ],
   "source": [
    "# Note that {} is reserved for an empty dictionary, not an empty set. It is better to explicitly use dict() or set()\n",
    "# the following code does not create a set \n",
    "ss=set()\n",
    "for i in range(0,6):\n",
    "    ss.add(i)\n",
    "print(type(ss))\n",
    "print(ss)"
   ]
  },
  {
   "cell_type": "code",
   "execution_count": 203,
   "id": "e164b5bb",
   "metadata": {},
   "outputs": [
    {
     "name": "stdout",
     "output_type": "stream",
     "text": [
      "[3]\n"
     ]
    },
    {
     "data": {
      "text/plain": [
       "[[100, 1000, [2]], [[3]]]"
      ]
     },
     "execution_count": 203,
     "metadata": {},
     "output_type": "execute_result"
    }
   ],
   "source": [
    "# build a tree using list\n",
    "tree=[]\n",
    "left1=[100]\n",
    "tree.append(left1)\n",
    "right1=[]\n",
    "tree.append(right1)\n",
    "left1.append(1000)\n",
    "left1.append([2])\n",
    "right1.append([3])\n",
    "print(tree[1][0])\n",
    "tree"
   ]
  },
  {
   "cell_type": "code",
   "execution_count": 204,
   "id": "d6bfa34b",
   "metadata": {},
   "outputs": [
    {
     "name": "stdout",
     "output_type": "stream",
     "text": [
      "[[1, 2, 3], 2, 6, 7]\n",
      "[[10000, 2, 3], 2, 6, 7]\n"
     ]
    }
   ],
   "source": [
    "a = [1,2,3]\n",
    "b = [a,2,6,7]\n",
    "print(b)\n",
    "a[0] = 10000\n",
    "print(b)"
   ]
  },
  {
   "cell_type": "markdown",
   "id": "f27ad3ea",
   "metadata": {},
   "source": [
    "### Speed comparison of dictionary and list in Python"
   ]
  },
  {
   "cell_type": "code",
   "execution_count": 113,
   "id": "222180e5",
   "metadata": {},
   "outputs": [],
   "source": [
    "import time\n",
    "n_short = 100\n",
    "n_long = 10000\n",
    "short_list = list(range(n_short))\n",
    "long_list = list(range(n_long))"
   ]
  },
  {
   "cell_type": "code",
   "execution_count": 119,
   "id": "2c7a1db2",
   "metadata": {},
   "outputs": [
    {
     "name": "stdout",
     "output_type": "stream",
     "text": [
      "{0: 0, 1: 1, 2: 2, 3: 3, 4: 4, 5: 5, 6: 6, 7: 7, 8: 8, 9: 9, 10: 10, 11: 11, 12: 12, 13: 13, 14: 14, 15: 15, 16: 16, 17: 17, 18: 18, 19: 19, 20: 20, 21: 21, 22: 22, 23: 23, 24: 24, 25: 25, 26: 26, 27: 27, 28: 28, 29: 29, 30: 30, 31: 31, 32: 32, 33: 33, 34: 34, 35: 35, 36: 36, 37: 37, 38: 38, 39: 39, 40: 40, 41: 41, 42: 42, 43: 43, 44: 44, 45: 45, 46: 46, 47: 47, 48: 48, 49: 49, 50: 50, 51: 51, 52: 52, 53: 53, 54: 54, 55: 55, 56: 56, 57: 57, 58: 58, 59: 59, 60: 60, 61: 61, 62: 62, 63: 63, 64: 64, 65: 65, 66: 66, 67: 67, 68: 68, 69: 69, 70: 70, 71: 71, 72: 72, 73: 73, 74: 74, 75: 75, 76: 76, 77: 77, 78: 78, 79: 79, 80: 80, 81: 81, 82: 82, 83: 83, 84: 84, 85: 85, 86: 86, 87: 87, 88: 88, 89: 89, 90: 90, 91: 91, 92: 92, 93: 93, 94: 94, 95: 95, 96: 96, 97: 97, 98: 98, 99: 99}\n"
     ]
    }
   ],
   "source": [
    "my_dict = {x:x for x in range(100)}#{x for x in range(10)}#(x for x in range(10))#[x for x in range(10)]#\n",
    "print(my_dict)"
   ]
  },
  {
   "cell_type": "code",
   "execution_count": 117,
   "id": "c91a9a6c",
   "metadata": {},
   "outputs": [
    {
     "data": {
      "text/plain": [
       "{0, 1, 2, 3, 4, 5, 6, 7, 8, 9}"
      ]
     },
     "execution_count": 117,
     "metadata": {},
     "output_type": "execute_result"
    }
   ],
   "source": [
    "{x for x in range(10)}"
   ]
  },
  {
   "cell_type": "code",
   "execution_count": 121,
   "id": "cefb803a",
   "metadata": {},
   "outputs": [
    {
     "name": "stdout",
     "output_type": "stream",
     "text": [
      "320 ns ± 0.577 ns per loop (mean ± std. dev. of 7 runs, 1,000,000 loops each)\n",
      "314 ns ± 6.9 ns per loop (mean ± std. dev. of 7 runs, 1,000,000 loops each)\n",
      "32.6 μs ± 17.7 ns per loop (mean ± std. dev. of 7 runs, 10,000 loops each)\n"
     ]
    }
   ],
   "source": [
    "%timeit n_short-1 in short_list #%timeit: https://www.cnblogs.com/tandoori/p/16288603.html\n",
    "%timeit n_short-1 in long_list\n",
    "%timeit n_long-1 in long_list"
   ]
  },
  {
   "cell_type": "code",
   "execution_count": 123,
   "id": "93fbd184",
   "metadata": {},
   "outputs": [],
   "source": [
    "short_dict = {x:x*5 for x in range(1,n_short)}\n",
    "long_dict = {x:x*5 for x in range(1,n_long)}"
   ]
  },
  {
   "cell_type": "code",
   "execution_count": 125,
   "id": "cc2d71ad",
   "metadata": {},
   "outputs": [
    {
     "ename": "NameError",
     "evalue": "name 'v_short' is not defined",
     "output_type": "error",
     "traceback": [
      "\u001b[0;31m---------------------------------------------------------------------------\u001b[0m",
      "\u001b[0;31mNameError\u001b[0m                                 Traceback (most recent call last)",
      "Cell \u001b[0;32mIn[125], line 1\u001b[0m\n\u001b[0;32m----> 1\u001b[0m short_dict[v_short] \u001b[38;5;241m!=\u001b[39m\u001b[38;5;28;01mNone\u001b[39;00m\n",
      "\u001b[0;31mNameError\u001b[0m: name 'v_short' is not defined"
     ]
    }
   ],
   "source": [
    "short_dict[v_short] !=None"
   ]
  },
  {
   "cell_type": "code",
   "execution_count": null,
   "id": "0c23ba29",
   "metadata": {},
   "outputs": [],
   "source": [
    "v_short=n_short-1\n",
    "%timeit short_dict[v_short] !=None\n",
    "v_long=n_long-1\n",
    "%timeit long_dict[v_short]!=None\n",
    "%timeit long_dict[v_long]!=None"
   ]
  },
  {
   "cell_type": "code",
   "execution_count": null,
   "id": "91dbdaed",
   "metadata": {},
   "outputs": [],
   "source": [
    "%timeit v_short in short_dict\n",
    "%timeit v_long in long_dict"
   ]
  },
  {
   "cell_type": "markdown",
   "id": "f2a70b35",
   "metadata": {},
   "source": [
    "<h3>Why is looking up entries in a dictionary so much faster?</h3>\n",
    "<ul>\n",
    "<li>Lookups are faster in dictionaries because Python implements them using hash tables.\n",
    "<li>You have to go through the entire list to get what you want. However, a dictionary will return the value you ask for without going through all keys.\n",
    "<li>The two times above for 100 and 10000000 are almost the same for a dictionary, which is because a dictionary can almost instantly jump to the key it is asked for thanks to the lookups.\n",
    "<li>If we explain the difference by Big O concepts, dictionaries have constant time complexity, O(1) while lists have linear time complexity, O(n).\n",
    "</ul>\n",
    "\n",
    "\n",
    "\n",
    "Python dictionary implementation https://www.laurentluce.com/posts/python-dictionary-implementation/\n",
    "\n",
    "How Python implements dictionaries: https://www.jessicayung.com/how-python-implements-dictionaries/\n"
   ]
  },
  {
   "cell_type": "markdown",
   "id": "12537771",
   "metadata": {},
   "source": [
    "### if dict() is not sorted, how good is its performance? ##"
   ]
  },
  {
   "cell_type": "code",
   "execution_count": 131,
   "id": "c701a470",
   "metadata": {},
   "outputs": [
    {
     "name": "stdout",
     "output_type": "stream",
     "text": [
      "n: 10 execution time: 1.3828277587890625e-05\n",
      "n: 100 execution time: 1.0967254638671875e-05\n",
      "n: 1000 execution time: 0.0001289844512939453\n",
      "n: 10000 execution time: 0.0010128021240234375\n",
      "n: 100000 execution time: 0.0071179866790771484\n",
      "n: 1000000 execution time: 0.04852604866027832\n",
      "[10, 100, 1000, 10000, 100000, 1000000]\n",
      "[1.3828277587890625e-05, 1.0967254638671875e-05, 0.0001289844512939453, 0.0010128021240234375, 0.0071179866790771484, 0.04852604866027832]\n"
     ]
    }
   ],
   "source": [
    "import time\n",
    "timeRes = []\n",
    "N = [10,100,1000,10000,100000,1000000]\n",
    "for n in N:\n",
    "    dd={}\n",
    "    for i in range(n):\n",
    "        dd[i]=i+1\n",
    "\n",
    "    t0=time.time()\n",
    "    total=0\n",
    "    for i in range(n):\n",
    "        total+=dd[i]\n",
    "    timeGap = time.time()-t0\n",
    "    print(\"n:\",n,\"execution time:\",timeGap)\n",
    "    timeRes.append(timeGap)\n",
    "    #print(total)\n",
    "print(N)\n",
    "print(timeRes)\n"
   ]
  },
  {
   "cell_type": "code",
   "execution_count": 133,
   "id": "775ee418",
   "metadata": {},
   "outputs": [
    {
     "data": {
      "text/plain": [
       "0.04852604866027832"
      ]
     },
     "execution_count": 133,
     "metadata": {},
     "output_type": "execute_result"
    }
   ],
   "source": [
    "timeRes = []\n",
    "timeRes.append(1)\n",
    "timeGap"
   ]
  },
  {
   "cell_type": "code",
   "execution_count": 135,
   "id": "2ad7eb54",
   "metadata": {},
   "outputs": [
    {
     "name": "stdout",
     "output_type": "stream",
     "text": [
      "execution time: 0.0481870174407959\n",
      "500000500000\n",
      "execution time: 0.04899096488952637\n",
      "500000500000\n"
     ]
    }
   ],
   "source": [
    "# so. dict() is actually not sorted inside, it is a good feature so the order will not changes, \n",
    "# it is also a bad feature since its searching complexity is O(n)\n",
    "\n",
    "import time\n",
    "n=1000000\n",
    "dd={}\n",
    "for i in range(n):\n",
    "    dd[i]=i+1\n",
    "\n",
    "t0=time.time()\n",
    "total=0\n",
    "for i in range(0,n):\n",
    "    total+=dd[i]\n",
    "print(\"execution time:\",time.time()-t0)\n",
    "print(total)\n",
    "\n",
    "t0=time.time()\n",
    "total=0\n",
    "for i in range(n-1,-1,-1):\n",
    "    total+=dd[i]\n",
    "print(\"execution time:\",time.time()-t0)\n",
    "print(total)\n",
    "\n",
    "#So it probably does not matter whether it is ordered or not."
   ]
  },
  {
   "cell_type": "markdown",
   "id": "39fd09f7",
   "metadata": {},
   "source": [
    "### Reference vs value ###\n",
    "Python object is just a pointer to the object`"
   ]
  },
  {
   "cell_type": "code",
   "execution_count": 127,
   "id": "b4baec1a",
   "metadata": {},
   "outputs": [
    {
     "name": "stdout",
     "output_type": "stream",
     "text": [
      "5973235328\n",
      "5973235328\n",
      "[7, 3, 4, 1, 4]\n",
      "[7, 3, 4, 1, 4]\n"
     ]
    }
   ],
   "source": [
    "a=[2,3,4,1,4]\n",
    "print(id(a))\n",
    "b = a\n",
    "print(id(b))\n",
    "b[0]=7\n",
    "print(a)\n",
    "print(b)"
   ]
  },
  {
   "cell_type": "code",
   "execution_count": 129,
   "id": "743511b8",
   "metadata": {},
   "outputs": [
    {
     "name": "stdout",
     "output_type": "stream",
     "text": [
      "5973246400\n",
      "5973456576\n",
      "[2, 3, 4, 1, 4]\n",
      "[7000, 3, 4, 1, 4]\n"
     ]
    }
   ],
   "source": [
    "a=[2,3,4,1,4]\n",
    "b=list(a)# a.copy()\n",
    "print(id(a))\n",
    "print(id(b))\n",
    "b[0]=7000\n",
    "print(a)\n",
    "print(b)"
   ]
  }
 ],
 "metadata": {
  "kernelspec": {
   "display_name": "Python 3 (ipykernel)",
   "language": "python",
   "name": "python3"
  },
  "language_info": {
   "codemirror_mode": {
    "name": "ipython",
    "version": 3
   },
   "file_extension": ".py",
   "mimetype": "text/x-python",
   "name": "python",
   "nbconvert_exporter": "python",
   "pygments_lexer": "ipython3",
   "version": "3.12.4"
  }
 },
 "nbformat": 4,
 "nbformat_minor": 5
}
