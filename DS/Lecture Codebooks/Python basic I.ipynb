{
 "cells": [
  {
   "cell_type": "markdown",
   "id": "61eba8d5",
   "metadata": {},
   "source": [
    "# Python basics"
   ]
  },
  {
   "cell_type": "markdown",
   "id": "0f87d597",
   "metadata": {},
   "source": [
    "We will cover"
   ]
  },
  {
   "cell_type": "markdown",
   "id": "a0266335",
   "metadata": {},
   "source": [
    "[Zen of Python](#Zen-of-Python)\n",
    "[Keywords](#Keywords)\n",
    "[Python Identifiers](#Python-Identifiers)\n",
    "[Variables](#Variables)\n",
    "[Literals](#Literals)\n",
    "[if-statement](#if-statement)\n",
    "[Loops](#Loops)"
   ]
  },
  {
   "cell_type": "markdown",
   "id": "cead250d",
   "metadata": {},
   "source": [
    "<h3>Don't be afraid of python, because you already know c </h3> \n",
    "\n",
    "For those who studied c-programming as their first computer language, comparing python with c can help you to quickly adopt the python.\n",
    "\n",
    "A code segment for getting sum of x[i] if i is multiplier of 5 or 3, assuming everything has been declared and initialized\n",
    "\n",
    "<pre>   \n",
    "    ////////////// c code /////////////                ########### python ###########\n",
    "    sumx=0.0;                                          sumx=0.0\n",
    "    for (int i=0; i&lt;n; i++) {                          for i in range(n):\n",
    "        if ((i % 5)==0 || (i % 3)==0) {                   if (i % 5)==0 or (i % 3)==0:\n",
    "            sumx+=x[i];                                      sumx+=x[i]\n",
    "        }\n",
    "    }  \n",
    "</pre>"
   ]
  },
  {
   "cell_type": "markdown",
   "id": "4cc6c44b-d676-4463-86e9-c0f8368aa7ef",
   "metadata": {},
   "source": [
    "# 个人总结\n",
    "    建立复数函数complex()\n",
    "    triple quotes可用于引用多行的字符串"
   ]
  },
  {
   "cell_type": "markdown",
   "id": "706ddd20",
   "metadata": {},
   "source": [
    "## Zen of Python "
   ]
  },
  {
   "cell_type": "markdown",
   "id": "291f8ad7",
   "metadata": {},
   "source": [
    "<h3>The zen of python （python 之禅）</h3> \n",
    "\n",
    "\n",
    "<ul>\n",
    "<li>Beautiful is better than ugly.  &nbsp;&nbsp;&nbsp;优美胜于丑陋\n",
    "<li>Explicit is better than implicit.  &nbsp;&nbsp;&nbsp;显明胜于隐含\n",
    "<li>Simple is better than complex.    &nbsp;&nbsp;&nbsp;简洁胜于复杂\n",
    "<li>Complex is better than complicated.  &nbsp;&nbsp;&nbsp;复杂胜于凌乱\n",
    "<li>Flat is better than nested.  &nbsp;&nbsp;&nbsp;扁平胜于嵌套\n",
    "<li>Sparse is better than dense. &nbsp;&nbsp;&nbsp;让代码有适当的间隔，不要把代码挤在一起\n",
    "<li>Readability counts.   &nbsp;&nbsp;&nbsp;可读性很重要\n",
    "<li>Special cases aren't special enough o break the rules.  &nbsp;&nbsp;&nbsp;情况再特殊也不可违背这些规则\n",
    "<li>Although practicality beats purity.  &nbsp;&nbsp;&nbsp;当然实用性比纯洁性更重要 \n",
    "<li>Errors should never pass silently.   &nbsp;&nbsp;&nbsp;别让错误信息溜走\n",
    "<li>Unless explicitly silenced.      &nbsp;&nbsp;&nbsp;...除非主动把错误信息关掉\n",
    "<li>In the face of ambiguity, refuse the temptation to guess.  &nbsp;&nbsp;&nbsp;当存在多种可能，不要尝试去猜测 \n",
    "<li>There should be one-- and preferably only one --obvious way to do it.  &nbsp;&nbsp;&nbsp;直截了当的算法总该存在，能是唯一的更好\n",
    "<li>Although that way may not be obvious at first unless you're Dutch.  &nbsp;&nbsp;&nbsp;..虽然开始时这并不容易，除非你是 Python 之父 (*)\n",
    "<li>Now is better than never.   &nbsp;&nbsp;&nbsp;做比不做好\n",
    "<li>Although never is often better than *right* now.  &nbsp;&nbsp;&nbsp;..但不假思索就动手还不如不做\n",
    "<li>If the implementation is hard to explain, it's a bad idea.   &nbsp;&nbsp;&nbsp;讲不清楚的方案肯定不是一个好方案\n",
    "<li>If the implementation is easy to explain, it may be a good idea.  &nbsp;&nbsp;&nbsp;一听就懂的方案大概是个好方案\n",
    "<li>Namespaces are one honking great idea -- let's do more of those!  &nbsp;&nbsp;&nbsp;命名空间是一种绝妙的理念，我们应当多加利用\n",
    "</ul>\n",
    "\n",
    "来自于网上的其他翻译\n",
    "<ul>\n",
    "<li>优美胜于丑陋（Python 以编写优美的代码为目标） \n",
    "<li>明了胜于晦涩（优美的代码应当是明了的，命名规范，风格相似） \n",
    "<li>简洁胜于复杂（优美的代码应当是简洁的，不要有复杂的内部实现） \n",
    "<li>复杂胜于凌乱（如果复杂不可避免，那代码间也不能有难懂的关系，要保持接口简洁） \n",
    "<li>扁平胜于嵌套（优美的代码应当是扁平的，不能有太多的嵌套） \n",
    "<li>间隔胜于紧凑（优美的代码有适当的间隔，不要奢望一行代码解决问题） \n",
    "<li>可读性很重要（优美的代码是可读的） \n",
    "<li>即便假借特例的实用性之名，也不可违背这些规则（这些规则至高无上） \n",
    "<li>不要包容所有错误，除非你确定需要这样做（精准地捕获异常，不写 except:pass 风格的代码） \n",
    "<li>当存在多种可能，不要尝试去猜测 \n",
    "<li>而是尽量找一种，最好是唯一一种明显的解决方案（如果不确定，就用穷举法） \n",
    "<li>虽然这并不容易，因为你不是 Python 之父（这里的 Dutch 是指 Guido ） \n",
    "<li>做也许好过不做，但不假思索就动手还不如不做（动手之前要细思量） \n",
    "<li>如果你无法向人描述你的方案，那肯定不是一个好方案；反之亦然（方案测评标准） \n",
    "<li>命名空间是一种绝妙的理念，我们应当多加利用（倡导与号召）\n",
    "</ul>\n",
    "\n",
    "<h4>注意:</h4> 这里讲的美是语言之美，并仅仅是beautifiul layout\n",
    "\n",
    "(*) 这是一句joke，it refere to the father of python (Guido van Rossum), he is a Dutch. And Dutch people probably contribute to computer sciense the most if measured in per capita : (Guido van Rossum, Edsger Wybe Dijkstra, Max Euwe, ...)"
   ]
  },
  {
   "cell_type": "markdown",
   "id": "95b4cb4f",
   "metadata": {},
   "source": [
    "## Keywords"
   ]
  },
  {
   "cell_type": "markdown",
   "id": "a68a3b83",
   "metadata": {},
   "source": [
    "Keywords are reserved words. It means that we cannot create custom variables or functions or any other identifier with name matching to these keywords. The python programming language defines these keywords for particular purposes."
   ]
  },
  {
   "cell_type": "markdown",
   "id": "f638f8e2",
   "metadata": {},
   "source": [
    "Some existing keywords: False, True, None, await, else, import, pass,  break, except, in, raise, class, finally, is, return, and, continue, for, lambda, try, as, def, from, nonlocal, while, assert, del, global, not, with."
   ]
  },
  {
   "cell_type": "code",
   "execution_count": 2,
   "id": "2adba7a3",
   "metadata": {},
   "outputs": [
    {
     "name": "stdout",
     "output_type": "stream",
     "text": [
      "1\n"
     ]
    }
   ],
   "source": [
    "a = 1\n",
    "print(a)"
   ]
  },
  {
   "cell_type": "code",
   "execution_count": 4,
   "id": "d1c8dac9",
   "metadata": {},
   "outputs": [
    {
     "data": {
      "text/plain": [
       "1"
      ]
     },
     "execution_count": 4,
     "metadata": {},
     "output_type": "execute_result"
    }
   ],
   "source": [
    "false = 1\n",
    "false"
   ]
  },
  {
   "cell_type": "code",
   "execution_count": 6,
   "id": "204a1600",
   "metadata": {},
   "outputs": [
    {
     "ename": "SyntaxError",
     "evalue": "cannot assign to False (1429262388.py, line 1)",
     "output_type": "error",
     "traceback": [
      "\u001b[0;36m  Cell \u001b[0;32mIn[6], line 1\u001b[0;36m\u001b[0m\n\u001b[0;31m    False = 1\u001b[0m\n\u001b[0m    ^\u001b[0m\n\u001b[0;31mSyntaxError\u001b[0m\u001b[0;31m:\u001b[0m cannot assign to False\n"
     ]
    }
   ],
   "source": [
    "False = 1"
   ]
  },
  {
   "cell_type": "code",
   "execution_count": 8,
   "id": "d5f4de64",
   "metadata": {},
   "outputs": [
    {
     "ename": "SyntaxError",
     "evalue": "invalid syntax (2458568081.py, line 1)",
     "output_type": "error",
     "traceback": [
      "\u001b[0;36m  Cell \u001b[0;32mIn[8], line 1\u001b[0;36m\u001b[0m\n\u001b[0;31m    await = 1\u001b[0m\n\u001b[0m          ^\u001b[0m\n\u001b[0;31mSyntaxError\u001b[0m\u001b[0;31m:\u001b[0m invalid syntax\n"
     ]
    }
   ],
   "source": [
    "await = 1"
   ]
  },
  {
   "cell_type": "code",
   "execution_count": 10,
   "id": "2ccb629a",
   "metadata": {},
   "outputs": [
    {
     "ename": "SyntaxError",
     "evalue": "invalid syntax (3713841946.py, line 1)",
     "output_type": "error",
     "traceback": [
      "\u001b[0;36m  Cell \u001b[0;32mIn[10], line 1\u001b[0;36m\u001b[0m\n\u001b[0;31m    break = 1\u001b[0m\n\u001b[0m          ^\u001b[0m\n\u001b[0;31mSyntaxError\u001b[0m\u001b[0;31m:\u001b[0m invalid syntax\n"
     ]
    }
   ],
   "source": [
    "break = 1"
   ]
  },
  {
   "cell_type": "code",
   "execution_count": 12,
   "id": "c3a12f26",
   "metadata": {},
   "outputs": [
    {
     "ename": "SyntaxError",
     "evalue": "invalid syntax (3770042500.py, line 1)",
     "output_type": "error",
     "traceback": [
      "\u001b[0;36m  Cell \u001b[0;32mIn[12], line 1\u001b[0;36m\u001b[0m\n\u001b[0;31m    continue = 1\u001b[0m\n\u001b[0m             ^\u001b[0m\n\u001b[0;31mSyntaxError\u001b[0m\u001b[0;31m:\u001b[0m invalid syntax\n"
     ]
    }
   ],
   "source": [
    "continue = 1"
   ]
  },
  {
   "cell_type": "markdown",
   "id": "04c6e146",
   "metadata": {},
   "source": [
    "- Except for None, True and False, all keywords are in lower case.\n",
    "- You can not create identifiers with a name similar to any existing keyword.\n",
    "- There are 33 keywords in python 3.7"
   ]
  },
  {
   "cell_type": "markdown",
   "id": "d57887f5",
   "metadata": {},
   "source": [
    "## Python Identifiers"
   ]
  },
  {
   "cell_type": "markdown",
   "id": "9835aa6a",
   "metadata": {},
   "source": [
    "Identifier is a user-defined name given to a variable, function, class, module, etc. The identifier is a combination of character digits and an underscore. There are specific rules which we need to follow while selecting a name for an identifier in Python"
   ]
  },
  {
   "cell_type": "markdown",
   "id": "482bdfa1",
   "metadata": {},
   "source": [
    "- The identifier can not start with a number.\n",
    "  - Like 2sample is an invalid identifier.\n",
    "- Identifiers can contain letters (a to z or A to Z), numbers (0 to 9), and underscore (\\_).\n",
    "  - For example, xmu_stat, ds204, data_2 etc. are some valid identifier names.\n",
    "- Python keywords cannot be used as identifiers.\n",
    "- Special symbols like $\\!, @, \\#, \\%$, etc. are not allowed as the identifier name in Python.\n",
    "- There is no limitation on the length of the identifier in Python.\n",
    "- Identifiers are case sensitive, i.e., ‘xmu’, 'XMU' \\& ‘Xmu’ are three different identifiers in Python."
   ]
  },
  {
   "cell_type": "code",
   "execution_count": 14,
   "id": "83ec985c",
   "metadata": {},
   "outputs": [
    {
     "ename": "SyntaxError",
     "evalue": "invalid decimal literal (3340511977.py, line 1)",
     "output_type": "error",
     "traceback": [
      "\u001b[0;36m  Cell \u001b[0;32mIn[14], line 1\u001b[0;36m\u001b[0m\n\u001b[0;31m    2sample =1\u001b[0m\n\u001b[0m    ^\u001b[0m\n\u001b[0;31mSyntaxError\u001b[0m\u001b[0;31m:\u001b[0m invalid decimal literal\n"
     ]
    }
   ],
   "source": [
    "2sample =1"
   ]
  },
  {
   "cell_type": "markdown",
   "id": "eeb60299",
   "metadata": {},
   "source": [
    "**Note**: We should not use identifier names that start and ends with two underscores like $\\_\\_$len$\\_\\_$ or $\\_\\_$load$\\_\\_$ etc. Python uses these kinds of terms to define special variables and methods inside the framework classes. We should avoid using this format to create new identifiers."
   ]
  },
  {
   "cell_type": "code",
   "execution_count": 16,
   "id": "80f95dc8",
   "metadata": {},
   "outputs": [],
   "source": [
    "len_i =1"
   ]
  },
  {
   "cell_type": "markdown",
   "id": "a01fdf42",
   "metadata": {},
   "source": [
    "## Variables"
   ]
  },
  {
   "cell_type": "markdown",
   "id": "03d82309",
   "metadata": {},
   "source": [
    "A variable in Python is similar to a tag or reference that points to an object in the memory. For example,"
   ]
  },
  {
   "cell_type": "code",
   "execution_count": 20,
   "id": "10178346",
   "metadata": {},
   "outputs": [
    {
     "name": "stdout",
     "output_type": "stream",
     "text": [
      "5\n"
     ]
    }
   ],
   "source": [
    "y = 5\n",
    "print(y)"
   ]
  },
  {
   "cell_type": "code",
   "execution_count": 22,
   "id": "7ef433db",
   "metadata": {},
   "outputs": [
    {
     "name": "stdout",
     "output_type": "stream",
     "text": [
      "5\n"
     ]
    }
   ],
   "source": [
    "_=5\n",
    "print(_)"
   ]
  },
  {
   "cell_type": "markdown",
   "id": "96e071e5",
   "metadata": {},
   "source": [
    "Here ‘5’ represents an integer object in the memory, and y is a reference or tag pointing to that object in memory."
   ]
  },
  {
   "cell_type": "markdown",
   "id": "196d61d4",
   "metadata": {},
   "source": [
    "- we don’t need to provide the type of information while defining a variable. Python implicitly assumes the type of the variable based on the value assigned to the variable."
   ]
  },
  {
   "cell_type": "markdown",
   "id": "1abd33d7",
   "metadata": {},
   "source": [
    "Changing the value of a variable."
   ]
  },
  {
   "cell_type": "code",
   "execution_count": 2,
   "id": "c3ac1b16",
   "metadata": {},
   "outputs": [
    {
     "name": "stdout",
     "output_type": "stream",
     "text": [
      "<class 'int'>\n",
      "<class 'str'>\n"
     ]
    }
   ],
   "source": [
    "x = 5\n",
    "print(type(x))\n",
    "x = 'xmu'\n",
    "print(type(x))"
   ]
  },
  {
   "cell_type": "markdown",
   "id": "04b9c790",
   "metadata": {},
   "source": [
    "Initially, x was pointing to an integer object, and now x is pointing to a string object in the memory. The type of the variable also changed, i.e., initially, it was an integer, but when we assigned a string object in it, then the type of x becomes str, i.e., a string."
   ]
  },
  {
   "cell_type": "markdown",
   "id": "607501b5",
   "metadata": {},
   "source": [
    "## Literals"
   ]
  },
  {
   "cell_type": "markdown",
   "id": "ad02e96a",
   "metadata": {},
   "source": [
    "A Literal in python is a raw data or a constant value that can get assigned to a variable. For example,"
   ]
  },
  {
   "cell_type": "code",
   "execution_count": 5,
   "id": "8670ed9f",
   "metadata": {},
   "outputs": [],
   "source": [
    "x = 100 "
   ]
  },
  {
   "cell_type": "code",
   "execution_count": 6,
   "id": "58e835b7",
   "metadata": {},
   "outputs": [
    {
     "data": {
      "text/plain": [
       "int"
      ]
     },
     "execution_count": 6,
     "metadata": {},
     "output_type": "execute_result"
    }
   ],
   "source": [
    "type(10)"
   ]
  },
  {
   "cell_type": "code",
   "execution_count": 7,
   "id": "35a36bd1",
   "metadata": {},
   "outputs": [
    {
     "data": {
      "text/plain": [
       "float"
      ]
     },
     "execution_count": 7,
     "metadata": {},
     "output_type": "execute_result"
    }
   ],
   "source": [
    "type(10.0)"
   ]
  },
  {
   "cell_type": "markdown",
   "id": "f8943562",
   "metadata": {},
   "source": [
    "Here 100 is literal, and we assigned it to a variable x."
   ]
  },
  {
   "cell_type": "markdown",
   "id": "9fd6c856",
   "metadata": {},
   "source": [
    "There are different types of literals in python. For example,"
   ]
  },
  {
   "cell_type": "markdown",
   "id": "7a540668",
   "metadata": {},
   "source": [
    "1. Numeric Literals\n",
    "2. String Literals\n",
    "3. Bool Literals"
   ]
  },
  {
   "cell_type": "markdown",
   "id": "0c12890d",
   "metadata": {},
   "source": [
    "### Numeric Literals"
   ]
  },
  {
   "cell_type": "markdown",
   "id": "3823dd54",
   "metadata": {},
   "source": [
    "Numeric literals represent the numbers in python, and it can be of the following types i.e.,"
   ]
  },
  {
   "cell_type": "code",
   "execution_count": 12,
   "id": "873944fb",
   "metadata": {},
   "outputs": [
    {
     "data": {
      "text/plain": [
       "(-7+24j)"
      ]
     },
     "execution_count": 12,
     "metadata": {},
     "output_type": "execute_result"
    }
   ],
   "source": [
    "z1 = complex(3, 4) \n",
    "z1*z1"
   ]
  },
  {
   "cell_type": "markdown",
   "id": "d02a2878",
   "metadata": {},
   "source": [
    "- Integer Literal:\n",
    "  - Positive \\& negative round numbers.\n",
    "  - For example, 100, -20, 15 etc.\n",
    "- Float Literal:\n",
    "  - Positive \\& negative decimal numbers.\n",
    "  - For example, 10.89, -20.1, 15.22 etc.\n",
    "- Binary Literal:\n",
    "  - The binary representation of numbers.\n",
    "  - For example, 00000110 is binary literal for 6.\n",
    "- Octal Literal, Hexadecimal Literal\n",
    "- Complex Literal:\n",
    "  - Represents the complex numbers.\n",
    "  - For example $5 + 7i$."
   ]
  },
  {
   "cell_type": "markdown",
   "id": "369fc5ad",
   "metadata": {},
   "source": [
    "### Boolean Literal"
   ]
  },
  {
   "cell_type": "markdown",
   "id": "593206d0",
   "metadata": {},
   "source": [
    "There are only two Boolean literals in python, i.e., True and False."
   ]
  },
  {
   "cell_type": "code",
   "execution_count": 24,
   "id": "3e6644e7",
   "metadata": {},
   "outputs": [
    {
     "data": {
      "text/plain": [
       "False"
      ]
     },
     "execution_count": 24,
     "metadata": {},
     "output_type": "execute_result"
    }
   ],
   "source": [
    "True and False"
   ]
  },
  {
   "cell_type": "markdown",
   "id": "bb54cee7",
   "metadata": {},
   "source": [
    "### String Literals"
   ]
  },
  {
   "cell_type": "markdown",
   "id": "f3cc317d",
   "metadata": {},
   "source": [
    "A String Literal in python is a group of characters. For example,"
   ]
  },
  {
   "cell_type": "code",
   "execution_count": 14,
   "id": "54c29ce5",
   "metadata": {},
   "outputs": [
    {
     "name": "stdout",
     "output_type": "stream",
     "text": [
      "xmu\n",
      "data science\n",
      "XMU\n",
      "XMU\n"
     ]
    }
   ],
   "source": [
    "x = 'xmu'\n",
    "y = \"data science\"\n",
    "z = '''XMU'''\n",
    "w = \"\"\"XMU\"\"\"\n",
    "\n",
    "print(x)\n",
    "print(y)\n",
    "print(z)\n",
    "print(w)"
   ]
  },
  {
   "cell_type": "markdown",
   "id": "f0b47d64",
   "metadata": {},
   "source": [
    "**Note**: We can enclose the string literals in either single quotes or double quotes, or triple quotes. "
   ]
  },
  {
   "cell_type": "markdown",
   "id": "7fa114db",
   "metadata": {},
   "source": [
    "#### Multi-line string literal"
   ]
  },
  {
   "cell_type": "markdown",
   "id": "e3e5b170",
   "metadata": {},
   "source": [
    "While defining a string literal, there is no difference between single or double-quotes. We can create a string literal by either or them. But if our string literal is a little big and consists of multiple lines, then we need to use the triple quotes (‘’’) to enclose a multi-line string literal. For example,"
   ]
  },
  {
   "cell_type": "code",
   "execution_count": 15,
   "id": "1b2cff0b",
   "metadata": {},
   "outputs": [
    {
     "ename": "SyntaxError",
     "evalue": "EOL while scanning string literal (3251764467.py, line 1)",
     "output_type": "error",
     "traceback": [
      "\u001b[0;36m  File \u001b[0;32m\"/var/folders/tl/g7qyc5l95_ddw_nx7p69wrsh0000gn/T/ipykernel_6905/3251764467.py\"\u001b[0;36m, line \u001b[0;32m1\u001b[0m\n\u001b[0;31m    x = 'We are study in\u001b[0m\n\u001b[0m                        ^\u001b[0m\n\u001b[0;31mSyntaxError\u001b[0m\u001b[0;31m:\u001b[0m EOL while scanning string literal\n"
     ]
    }
   ],
   "source": [
    "x = 'We are study in\n",
    "     XMU'"
   ]
  },
  {
   "cell_type": "code",
   "execution_count": 16,
   "id": "65467482",
   "metadata": {},
   "outputs": [
    {
     "name": "stdout",
     "output_type": "stream",
     "text": [
      "We are studying at\n",
      "     XMU\n"
     ]
    }
   ],
   "source": [
    "x = \"\"\"We are studying at\n",
    "     XMU\"\"\"\n",
    "print(x)"
   ]
  },
  {
   "cell_type": "markdown",
   "id": "adda77d5",
   "metadata": {},
   "source": [
    "Or we can use three single quotes too,"
   ]
  },
  {
   "cell_type": "code",
   "execution_count": 17,
   "id": "7ea7a4c8",
   "metadata": {},
   "outputs": [
    {
     "name": "stdout",
     "output_type": "stream",
     "text": [
      "We are studying at\n",
      "     XMU\n"
     ]
    }
   ],
   "source": [
    "x = '''We are studying at\n",
    "     XMU'''\n",
    "print(x)"
   ]
  },
  {
   "cell_type": "markdown",
   "id": "dbfa0bc6",
   "metadata": {},
   "source": [
    "We can also use the single or double quotes to define multi-line string literals, but we need to end the lines with an escape character ‘\\’. For example,"
   ]
  },
  {
   "cell_type": "code",
   "execution_count": 19,
   "id": "699984b9",
   "metadata": {},
   "outputs": [
    {
     "ename": "SyntaxError",
     "evalue": "EOL while scanning string literal (1489090948.py, line 1)",
     "output_type": "error",
     "traceback": [
      "\u001b[0;36m  File \u001b[0;32m\"/var/folders/tl/g7qyc5l95_ddw_nx7p69wrsh0000gn/T/ipykernel_6905/1489090948.py\"\u001b[0;36m, line \u001b[0;32m1\u001b[0m\n\u001b[0;31m    y =  \"This is\u001b[0m\n\u001b[0m                  ^\u001b[0m\n\u001b[0;31mSyntaxError\u001b[0m\u001b[0;31m:\u001b[0m EOL while scanning string literal\n"
     ]
    }
   ],
   "source": [
    "y =  \"This is \\\n",
    "     a data science class \\\n",
    "     for junior student.\"\n",
    "print(y)"
   ]
  },
  {
   "cell_type": "code",
   "execution_count": 22,
   "id": "dfb0b8d8",
   "metadata": {},
   "outputs": [
    {
     "ename": "SyntaxError",
     "evalue": "invalid syntax (3865169592.py, line 1)",
     "output_type": "error",
     "traceback": [
      "\u001b[0;36m  File \u001b[0;32m\"/var/folders/tl/g7qyc5l95_ddw_nx7p69wrsh0000gn/T/ipykernel_6905/3865169592.py\"\u001b[0;36m, line \u001b[0;32m1\u001b[0m\n\u001b[0;31m    a = 1+\u001b[0m\n\u001b[0m          ^\u001b[0m\n\u001b[0;31mSyntaxError\u001b[0m\u001b[0;31m:\u001b[0m invalid syntax\n"
     ]
    }
   ],
   "source": [
    "a = 1+\n",
    "    1\n",
    "print(a)"
   ]
  },
  {
   "cell_type": "markdown",
   "id": "e7f4199a",
   "metadata": {},
   "source": [
    "We can escape characters in a string literal. Escape character starts with a ‘\\’, and each escape character serves a special purpose. For example,"
   ]
  },
  {
   "cell_type": "code",
   "execution_count": 23,
   "id": "1b83a0e4",
   "metadata": {},
   "outputs": [
    {
     "ename": "SyntaxError",
     "evalue": "invalid syntax (2665242930.py, line 1)",
     "output_type": "error",
     "traceback": [
      "\u001b[0;36m  File \u001b[0;32m\"/var/folders/tl/g7qyc5l95_ddw_nx7p69wrsh0000gn/T/ipykernel_6905/2665242930.py\"\u001b[0;36m, line \u001b[0;32m1\u001b[0m\n\u001b[0;31m    x = \"\"XMU\"\"\u001b[0m\n\u001b[0m          ^\u001b[0m\n\u001b[0;31mSyntaxError\u001b[0m\u001b[0;31m:\u001b[0m invalid syntax\n"
     ]
    }
   ],
   "source": [
    "x = \"\"XMU\"\"\n",
    "print(x)"
   ]
  },
  {
   "cell_type": "code",
   "execution_count": 30,
   "id": "997d8971",
   "metadata": {},
   "outputs": [
    {
     "name": "stdout",
     "output_type": "stream",
     "text": [
      "\"XMU\\\n",
      "XMU\n"
     ]
    }
   ],
   "source": [
    "x = \"\\\"XMU\\\\\"\n",
    "print(x)\n",
    "y = \"XMU\"\n",
    "print(y)"
   ]
  },
  {
   "cell_type": "markdown",
   "id": "173beee1",
   "metadata": {},
   "source": [
    "Some of the other escape characters are,"
   ]
  },
  {
   "cell_type": "markdown",
   "id": "2c0ded0b",
   "metadata": {},
   "source": [
    "- \\ : Newline continuation\n",
    "- \\\\: Display a single \\\n",
    "- \\\\': Display a single quote\n",
    "- \\\\\": Display a double quote\n",
    "- \\b: Backspace\n",
    "- \\n: New Line\n",
    "- \\t: Horizontal Tab\n",
    "- \\v: Vertical Tab\n",
    "- \\r: Enter"
   ]
  },
  {
   "cell_type": "markdown",
   "id": "2c6e5002",
   "metadata": {},
   "source": [
    "## if statement"
   ]
  },
  {
   "cell_type": "markdown",
   "id": "5a277b4e",
   "metadata": {},
   "source": [
    "“if” keyword is always be followed by a conditional expression, i.e.,"
   ]
  },
  {
   "cell_type": "markdown",
   "id": "ce2a654f",
   "metadata": {},
   "source": [
    "<pre>\n",
    "if condition-expression:\n",
    "    statement_1\n",
    "    statement_2\n",
    "    statement_3\n",
    "</pre>"
   ]
  },
  {
   "cell_type": "code",
   "execution_count": 33,
   "id": "226ab8c5",
   "metadata": {},
   "outputs": [
    {
     "name": "stdout",
     "output_type": "stream",
     "text": [
      "Value of x is:  18\n",
      "This is last line\n"
     ]
    }
   ],
   "source": [
    "x = 18\n",
    "print('Value of x is: ', x)\n",
    "if x < 10:\n",
    "    print('x is less than 10')\n",
    "    print('x is a single digit number')\n",
    "print('This is last line')"
   ]
  },
  {
   "cell_type": "code",
   "execution_count": 34,
   "id": "ea3d5aac",
   "metadata": {},
   "outputs": [
    {
     "name": "stdout",
     "output_type": "stream",
     "text": [
      "Value of x is:  1\n",
      "x is less than 10\n",
      "x is a single digit number\n",
      "This is last line\n"
     ]
    }
   ],
   "source": [
    "x = 1\n",
    "print('Value of x is: ', x)\n",
    "if x < 10:\n",
    "    print('x is less than 10')\n",
    "    print('x is a single digit number')\n",
    "print('This is last line')"
   ]
  },
  {
   "cell_type": "markdown",
   "id": "b315f72e",
   "metadata": {},
   "source": [
    "### Multiple conditions"
   ]
  },
  {
   "cell_type": "markdown",
   "id": "cbc8c59f",
   "metadata": {},
   "source": [
    "In all the above examples, we provide a single condition in with the if-statement, but we can give multiple conditions too."
   ]
  },
  {
   "cell_type": "code",
   "execution_count": 36,
   "id": "d83bab58",
   "metadata": {},
   "outputs": [
    {
     "name": "stdout",
     "output_type": "stream",
     "text": [
      "Value of x is:  25\n",
      "x is greater than 10\n",
      "x is smaller than 20\n",
      "x is not 15\n",
      "This is last line\n",
      "10\n"
     ]
    }
   ],
   "source": [
    "x = 25\n",
    "print('Value of x is: ', x)\n",
    "if x > 10 and x < 20 or x == 25:\n",
    "    print('x is greater than 10')\n",
    "    print('x is smaller than 20')\n",
    "    print('x is not 15')\n",
    "    x = 10\n",
    "print('This is last line')\n",
    "print(x)"
   ]
  },
  {
   "cell_type": "code",
   "execution_count": 26,
   "id": "024d5390",
   "metadata": {},
   "outputs": [
    {
     "name": "stdout",
     "output_type": "stream",
     "text": [
      "Value of x is:  15\n",
      "This is last line\n"
     ]
    }
   ],
   "source": [
    "x = 15\n",
    "print('Value of x is: ', x)\n",
    "if x > 10 and x < 20 and x != 15:\n",
    "    print('x is greater than 10')\n",
    "    print('x is smaller than 20')\n",
    "    print('x is not 15')\n",
    "print('This is last line')"
   ]
  },
  {
   "cell_type": "markdown",
   "id": "ac1f5d7d",
   "metadata": {},
   "source": [
    "Here the condition is "
   ]
  },
  {
   "cell_type": "code",
   "execution_count": 28,
   "id": "c8a9f35d",
   "metadata": {},
   "outputs": [
    {
     "data": {
      "text/plain": [
       "False"
      ]
     },
     "execution_count": 28,
     "metadata": {},
     "output_type": "execute_result"
    }
   ],
   "source": [
    "True and True and False"
   ]
  },
  {
   "cell_type": "code",
   "execution_count": 39,
   "id": "b9de7bf7",
   "metadata": {},
   "outputs": [
    {
     "name": "stdout",
     "output_type": "stream",
     "text": [
      "Value of x is:  15\n",
      "This is last line\n",
      "15\n"
     ]
    }
   ],
   "source": [
    "x = 15\n",
    "print('Value of x is: ', x)\n",
    "if x > 10 and x < 20 or x != 15:\n",
    "    print('x is greater than 10')\n",
    "    print('x is smaller than 20')\n",
    "    print('x may not be 15')\n",
    "    x = 1\n",
    "print('This is last line')\n",
    "print(x)"
   ]
  },
  {
   "cell_type": "markdown",
   "id": "77f1cb24",
   "metadata": {},
   "source": [
    "Her the condition is "
   ]
  },
  {
   "cell_type": "code",
   "execution_count": null,
   "id": "5c33ba28",
   "metadata": {},
   "outputs": [],
   "source": [
    "True and True or False"
   ]
  },
  {
   "cell_type": "markdown",
   "id": "60d6d10a",
   "metadata": {},
   "source": [
    "## if...else statement"
   ]
  },
  {
   "cell_type": "markdown",
   "id": "c6cace32",
   "metadata": {},
   "source": [
    "The syntax is"
   ]
  },
  {
   "cell_type": "markdown",
   "id": "b7927614",
   "metadata": {},
   "source": [
    "<pre>if condition:\n",
    "    statement 1\n",
    "    statement 2\n",
    "    statement 3\n",
    "else:\n",
    "    statement 4\n",
    "    statement 5\n",
    "    statement 6\n",
    "</pre>"
   ]
  },
  {
   "cell_type": "code",
   "execution_count": 30,
   "id": "cb6713e2",
   "metadata": {},
   "outputs": [
    {
     "name": "stdout",
     "output_type": "stream",
     "text": [
      "x ::  15\n",
      "x ::  16\n",
      "Last statement\n"
     ]
    }
   ],
   "source": [
    "x = 15\n",
    "if x > 10:\n",
    "    print('x :: ', x)\n",
    "    x = x + 1\n",
    "    print('x :: ', x)\n",
    "else:\n",
    "    print('x is fine')\n",
    "    print('No need to change the x')\n",
    "print('Last statement')"
   ]
  },
  {
   "cell_type": "code",
   "execution_count": null,
   "id": "a8dc1764",
   "metadata": {},
   "outputs": [],
   "source": [
    "x = 1\n",
    "if x > 10:\n",
    "    print('x :: ', x)\n",
    "    x = x + 1\n",
    "    print('x :: ', x)\n",
    "else:\n",
    "    print('x is fine')\n",
    "    print('No need to change the x')\n",
    "print('Last statement')"
   ]
  },
  {
   "cell_type": "markdown",
   "id": "ed1674a4",
   "metadata": {},
   "source": [
    "## if…elif…else statement"
   ]
  },
  {
   "cell_type": "markdown",
   "id": "9f46ebcf",
   "metadata": {},
   "source": [
    "The syntax is"
   ]
  },
  {
   "cell_type": "markdown",
   "id": "18ac9105",
   "metadata": {},
   "source": [
    "<pre>\n",
    "If condition_1:\n",
    "    Statement 1\n",
    "    Statement 2\n",
    "elif condition_2:\n",
    "    Statement 3\n",
    "    Statement 4\n",
    "elif condition_3:\n",
    "    Statement 5\n",
    "    Statement 6\n",
    "else:\n",
    "    Statement 7\n",
    "    Statement 8\n",
    "</pre>"
   ]
  },
  {
   "cell_type": "code",
   "execution_count": 32,
   "id": "d4d9ac73",
   "metadata": {},
   "outputs": [
    {
     "name": "stdout",
     "output_type": "stream",
     "text": [
      "The if-block\n",
      "x is smaller than 3\n"
     ]
    }
   ],
   "source": [
    "x = 2\n",
    "if x  < 3:\n",
    "    print('The if-block')\n",
    "    print('x is smaller than 3')\n",
    "elif 3 < x < 10:\n",
    "    print('First elif block')\n",
    "    print('x is between 3 & 10')\n",
    "elif 10 < x < 20:\n",
    "    print('Second elif block')\n",
    "    print('x is between 10 & 20')\n",
    "else:\n",
    "    print('The else block')\n",
    "    print('x is greater than 20')"
   ]
  },
  {
   "cell_type": "code",
   "execution_count": null,
   "id": "59d9275b",
   "metadata": {},
   "outputs": [],
   "source": [
    "x = 5\n",
    "if x  < 3:\n",
    "    print('The if-block')\n",
    "    print('x is smaller than 3')\n",
    "elif 3 < x < 10:\n",
    "    print('First elif block')\n",
    "    print('x is between 3 & 10')\n",
    "elif 10 < x < 20:\n",
    "    print('Second elif block')\n",
    "    print('x is between 10 & 20')\n",
    "else:\n",
    "    print('The else block')\n",
    "    print('x is greater than 20')"
   ]
  },
  {
   "cell_type": "markdown",
   "id": "67c3d5a9",
   "metadata": {},
   "source": [
    "## if..else in a single line (ternary operator)"
   ]
  },
  {
   "cell_type": "markdown",
   "id": "5dc1258c",
   "metadata": {},
   "source": [
    "Syntax of if...else in a line"
   ]
  },
  {
   "cell_type": "markdown",
   "id": "99b02607",
   "metadata": {},
   "source": [
    "<pre>\n",
    "value_1 if condition else value_2\n",
    "</pre>"
   ]
  },
  {
   "cell_type": "markdown",
   "id": "84ca777d",
   "metadata": {},
   "source": [
    "When the condition evaluates to True, then the result of this one-liner if..else expression will be **value_1**. Whereas, if the condition evaluates to False, then the result of this one-liner expression will be **value_2**. Let’s see some examples of it."
   ]
  },
  {
   "cell_type": "code",
   "execution_count": 42,
   "id": "6b254a45",
   "metadata": {},
   "outputs": [
    {
     "name": "stdout",
     "output_type": "stream",
     "text": [
      "Capital XMU\n",
      "Capital XMU\n"
     ]
    }
   ],
   "source": [
    "x = 200\n",
    "a = \"xmu\" if x <= 10 else \"Capital XMU\" \n",
    "print(a)\n",
    "\n",
    "if x<=10:\n",
    "    print(\"xmu\")\n",
    "else:\n",
    "    print(\"Capital XMU\")"
   ]
  },
  {
   "cell_type": "markdown",
   "id": "453fb5ec",
   "metadata": {},
   "source": [
    "While using the if-else statement in one line, we should prefer using parenthesis to avoid confusion. For example,"
   ]
  },
  {
   "cell_type": "code",
   "execution_count": 34,
   "id": "d828075c",
   "metadata": {
    "scrolled": true
   },
   "outputs": [
    {
     "name": "stdout",
     "output_type": "stream",
     "text": [
      "20\n"
     ]
    }
   ],
   "source": [
    "x = 110\n",
    "res = 10 + 10 if x > 100 else 0\n",
    "print(res)\n",
    "res = (10 + 10) if x > 100 else 0"
   ]
  },
  {
   "cell_type": "markdown",
   "id": "8f3686c4",
   "metadata": {},
   "source": [
    "It is better to use a parenthesis "
   ]
  },
  {
   "cell_type": "code",
   "execution_count": 36,
   "id": "ab7ebafd",
   "metadata": {},
   "outputs": [
    {
     "name": "stdout",
     "output_type": "stream",
     "text": [
      "20\n"
     ]
    }
   ],
   "source": [
    "x = 120\n",
    "res = 10 + (10 if x > 100 else 0)\n",
    "print(res)"
   ]
  },
  {
   "cell_type": "code",
   "execution_count": null,
   "id": "4254f7a7-50ce-487d-a065-6a7bc35b1901",
   "metadata": {},
   "outputs": [],
   "source": []
  },
  {
   "cell_type": "markdown",
   "id": "df99ca1f",
   "metadata": {},
   "source": [
    "## Loops"
   ]
  },
  {
   "cell_type": "markdown",
   "id": "17a8ea23",
   "metadata": {},
   "source": [
    "## While loop"
   ]
  },
  {
   "cell_type": "markdown",
   "id": "bef51605",
   "metadata": {},
   "source": [
    "A while loop executes a group of statements or a suite of statements multiple times, stops untill a given condition is False."
   ]
  },
  {
   "cell_type": "code",
   "execution_count": null,
   "id": "17bd91f5",
   "metadata": {},
   "outputs": [],
   "source": [
    "# Use while loop to print numbers from 1 to 5\n",
    "x = 1\n",
    "while x <= 5:\n",
    "    print(x)\n",
    "    x = x + 1 # x += 1"
   ]
  },
  {
   "cell_type": "code",
   "execution_count": 38,
   "id": "b06c209a",
   "metadata": {},
   "outputs": [
    {
     "ename": "NameError",
     "evalue": "name 'y2' is not defined",
     "output_type": "error",
     "traceback": [
      "\u001b[0;31m---------------------------------------------------------------------------\u001b[0m",
      "\u001b[0;31mNameError\u001b[0m                                 Traceback (most recent call last)",
      "Cell \u001b[0;32mIn[38], line 2\u001b[0m\n\u001b[1;32m      1\u001b[0m y1\u001b[38;5;241m=\u001b[39m\u001b[38;5;241m1\u001b[39m\n\u001b[0;32m----> 2\u001b[0m \u001b[38;5;28;01mwhile\u001b[39;00m \u001b[38;5;28mabs\u001b[39m(y1\u001b[38;5;241m-\u001b[39my2)\u001b[38;5;241m>\u001b[39m\u001b[38;5;241m1e-5\u001b[39m:\n\u001b[1;32m      3\u001b[0m     \u001b[38;5;241m.\u001b[39m\u001b[38;5;241m.\u001b[39m\u001b[38;5;241m.\u001b[39m\n",
      "\u001b[0;31mNameError\u001b[0m: name 'y2' is not defined"
     ]
    }
   ],
   "source": [
    "y1=1\n",
    "while abs(y1-y2)>1e-5:\n",
    "    ..."
   ]
  },
  {
   "cell_type": "markdown",
   "id": "5518eb56",
   "metadata": {},
   "source": [
    "###  While loop with multiple conditions"
   ]
  },
  {
   "cell_type": "markdown",
   "id": "da03ced7",
   "metadata": {},
   "source": [
    "We can have various conditions in a while statement, and we can use ‘and’ & ‘or’ with these conditions. For example,"
   ]
  },
  {
   "cell_type": "code",
   "execution_count": 52,
   "id": "1eb54256",
   "metadata": {},
   "outputs": [
    {
     "name": "stdout",
     "output_type": "stream",
     "text": [
      "6\n",
      "8\n",
      "10\n",
      "12\n",
      "14\n",
      "16\n",
      "18\n",
      "20\n",
      "22\n",
      "24\n",
      "10\n"
     ]
    }
   ],
   "source": [
    "x = 5\n",
    "count = 0\n",
    "while x <= 100 and count < 10:\n",
    "    if x % 2 == 0:\n",
    "        count += 1\n",
    "        print(x)\n",
    "    x += 1\n",
    "print(count)"
   ]
  },
  {
   "cell_type": "code",
   "execution_count": 54,
   "id": "d403c1a1",
   "metadata": {
    "scrolled": true
   },
   "outputs": [
    {
     "name": "stdout",
     "output_type": "stream",
     "text": [
      "20\n",
      "101\n"
     ]
    }
   ],
   "source": [
    "x = 5\n",
    "count = 0\n",
    "while x <= 100:\n",
    "    if x % 5 == 0:\n",
    "        count += 1\n",
    "        #print(x)\n",
    "    x += 1\n",
    "print(count)\n",
    "print(x)"
   ]
  },
  {
   "cell_type": "markdown",
   "id": "f97c6c6b",
   "metadata": {},
   "source": [
    "### While loop with else"
   ]
  },
  {
   "cell_type": "markdown",
   "id": "6f72f19b",
   "metadata": {},
   "source": [
    "Similar to if…else, we can have while…else in python, i.e., we can have an else block after a while block i.e."
   ]
  },
  {
   "cell_type": "markdown",
   "id": "46c6c634",
   "metadata": {},
   "source": [
    "<pre>\n",
    "while condition:\n",
    "    statement 1\n",
    "    statement 2\n",
    "    statement 3\n",
    "else:\n",
    "    statement 4\n",
    "    statement 5\n",
    "</pre>"
   ]
  },
  {
   "cell_type": "markdown",
   "id": "f79312b2",
   "metadata": {},
   "source": [
    "While loop will execute statements in the white suite multiple times till the condition evaluates to False. As soon as the condition in while statement evaluates to False, control jumps to the else block and executes all the statements in else suite."
   ]
  },
  {
   "cell_type": "code",
   "execution_count": 56,
   "id": "35e36377",
   "metadata": {},
   "outputs": [
    {
     "name": "stdout",
     "output_type": "stream",
     "text": [
      "print values of x: 11\n"
     ]
    }
   ],
   "source": [
    "x = 1\n",
    "while x <= 10:\n",
    "    #print(x)\n",
    "    x = x + 1\n",
    "else:\n",
    "    print('print values of x:', x)"
   ]
  },
  {
   "cell_type": "markdown",
   "id": "a79d289d",
   "metadata": {},
   "source": [
    "## For loop"
   ]
  },
  {
   "cell_type": "markdown",
   "id": "30e0426e",
   "metadata": {},
   "source": [
    "For loop is useful to iterate over a sequence of elements."
   ]
  },
  {
   "cell_type": "markdown",
   "id": "2a6442ca",
   "metadata": {},
   "source": [
    "the syntax of for loop is"
   ]
  },
  {
   "cell_type": "markdown",
   "id": "f6280f00",
   "metadata": {},
   "source": [
    "<pre>\n",
    "for elem in sequence:\n",
    "    statement 1\n",
    "    statement 2\n",
    "    .......\n",
    "    .......\n",
    "    statement n\n",
    "</pre>"
   ]
  },
  {
   "cell_type": "markdown",
   "id": "8a72ead7",
   "metadata": {},
   "source": [
    "Here “for” keyword is followed by a variable, then the “in” keyword, then a sequence, and in last, a colon. After the for statement starts the suite of for loop, i.e., a group of statements with one indent level, it is also called the block of for loop."
   ]
  },
  {
   "cell_type": "markdown",
   "id": "101365c2",
   "metadata": {},
   "source": [
    "### Iterate over the characters of string using for loop"
   ]
  },
  {
   "cell_type": "markdown",
   "id": "cce99846",
   "metadata": {},
   "source": [
    "We used a string as a sequence. Then using a for loop we iterated over all the characters in the string sequence."
   ]
  },
  {
   "cell_type": "code",
   "execution_count": 57,
   "id": "57c8e9b2",
   "metadata": {},
   "outputs": [
    {
     "name": "stdout",
     "output_type": "stream",
     "text": [
      "***\n",
      "Character:  x\n",
      "***\n",
      "Character:  m\n",
      "***\n",
      "Character:  u\n",
      "***\n",
      "Character:   \n",
      "***\n",
      "Character:  u\n",
      "***\n",
      "Character:  n\n",
      "***\n",
      "Character:  i\n",
      "***\n",
      "Character:  v\n",
      "***\n",
      "Character:  e\n",
      "***\n",
      "Character:  r\n",
      "***\n",
      "Character:  s\n",
      "***\n",
      "Character:  i\n",
      "***\n",
      "Character:  t\n",
      "***\n",
      "Character:  y\n"
     ]
    }
   ],
   "source": [
    "# Iterate over the characters of string using for loop\n",
    "for elem in 'xmu university':\n",
    "    print('***')\n",
    "    print('Character: ', elem)"
   ]
  },
  {
   "cell_type": "markdown",
   "id": "d590c108",
   "metadata": {},
   "source": [
    "### Using range() function."
   ]
  },
  {
   "cell_type": "code",
   "execution_count": 58,
   "id": "5a4147cb",
   "metadata": {},
   "outputs": [
    {
     "name": "stdout",
     "output_type": "stream",
     "text": [
      "number: 0\n",
      "number: 1\n",
      "number: 2\n",
      "number: 3\n",
      "number: 4\n",
      "number: 5\n",
      "number: 6\n",
      "number: 7\n",
      "number: 8\n",
      "number: 9\n"
     ]
    }
   ],
   "source": [
    "for i in range(10):\n",
    "    print('number:',i)"
   ]
  },
  {
   "cell_type": "markdown",
   "id": "7f390ec1",
   "metadata": {},
   "source": [
    "If I want to print numbers from 1 to 10, how do I implement it? "
   ]
  },
  {
   "cell_type": "code",
   "execution_count": 40,
   "id": "857720fb",
   "metadata": {},
   "outputs": [
    {
     "name": "stdout",
     "output_type": "stream",
     "text": [
      "Number:  1\n",
      "Number:  3\n",
      "Number:  5\n",
      "Number:  7\n",
      "Number:  9\n",
      "Number:  11\n"
     ]
    }
   ],
   "source": [
    "for i in range(1, 12, 2):\n",
    "    print('Number: ', i)"
   ]
  },
  {
   "cell_type": "code",
   "execution_count": 60,
   "id": "6f90a9a6",
   "metadata": {},
   "outputs": [
    {
     "name": "stdout",
     "output_type": "stream",
     "text": [
      "Number:  11\n",
      "Number:  10\n",
      "Number:  9\n",
      "Number:  8\n",
      "Number:  7\n",
      "Number:  6\n",
      "Number:  5\n",
      "Number:  4\n",
      "Number:  3\n",
      "Number:  2\n"
     ]
    }
   ],
   "source": [
    "for i in range(11, 1, -1):\n",
    "    print('Number: ', i)"
   ]
  },
  {
   "cell_type": "markdown",
   "id": "a4b6d34e",
   "metadata": {},
   "source": [
    "Function range() returns a sequence of numbers from start to (end -1) with the given step size"
   ]
  },
  {
   "cell_type": "code",
   "execution_count": null,
   "id": "f6511760",
   "metadata": {},
   "outputs": [],
   "source": [
    "for i in range(1, 11):\n",
    "    print('Number: ', i)"
   ]
  },
  {
   "cell_type": "code",
   "execution_count": null,
   "id": "86f99a82",
   "metadata": {},
   "outputs": [],
   "source": [
    "for i in range(1, 11, 2):\n",
    "    print('Number: ', i)"
   ]
  },
  {
   "cell_type": "markdown",
   "id": "02974379",
   "metadata": {},
   "source": [
    "How about numbers from 10 to 1?"
   ]
  },
  {
   "cell_type": "code",
   "execution_count": 61,
   "id": "fd8f984e",
   "metadata": {},
   "outputs": [
    {
     "name": "stdout",
     "output_type": "stream",
     "text": [
      "number: 10\n",
      "number: 9\n",
      "number: 8\n",
      "number: 7\n",
      "number: 6\n",
      "number: 5\n",
      "number: 4\n",
      "number: 3\n",
      "number: 2\n",
      "number: 1\n"
     ]
    }
   ],
   "source": [
    "for i in range(10,0,-1):\n",
    "    print(\"number:\",i)"
   ]
  },
  {
   "cell_type": "code",
   "execution_count": 62,
   "id": "0b0806c3",
   "metadata": {},
   "outputs": [
    {
     "name": "stdout",
     "output_type": "stream",
     "text": [
      "number: 10\n",
      "number: 8\n",
      "number: 6\n",
      "number: 4\n",
      "number: 2\n"
     ]
    }
   ],
   "source": [
    "for i in range(10,0,-2):\n",
    "    print(\"number:\",i)"
   ]
  },
  {
   "cell_type": "markdown",
   "id": "ae0c6896",
   "metadata": {},
   "source": [
    "### Use for loop to print elements in a list"
   ]
  },
  {
   "cell_type": "markdown",
   "id": "76fdefb9",
   "metadata": {},
   "source": [
    "We can iterate over all the items in a list easily using for loop,"
   ]
  },
  {
   "cell_type": "code",
   "execution_count": 42,
   "id": "517df240",
   "metadata": {},
   "outputs": [
    {
     "name": "stdout",
     "output_type": "stream",
     "text": [
      "1\n",
      "2\n",
      "3\n",
      "3\n",
      "5\n"
     ]
    }
   ],
   "source": [
    "list_of_numbers = [1, 2, 3, 3, 5]\n",
    "# iterate over all items in list and print them one by one\n",
    "for elem in list_of_numbers:\n",
    "    print(elem)"
   ]
  },
  {
   "cell_type": "markdown",
   "id": "d9eef33c",
   "metadata": {},
   "source": [
    "### For loop with else block"
   ]
  },
  {
   "cell_type": "markdown",
   "id": "1b71b7a8",
   "metadata": {},
   "source": [
    "<pre>\n",
    "for elem in sequence:\n",
    "    statement 1\n",
    "    statement 2\n",
    "    statement 3\n",
    "else:\n",
    "    statement 5\n",
    "    statement 6\n",
    "</pre>"
   ]
  },
  {
   "cell_type": "markdown",
   "id": "5aecc472",
   "metadata": {},
   "source": [
    "Once the for loop finishes executing the statements in the for block, then in last, it runs the statements in the else block. The statements in the else block will execute only in last and that too only for one time."
   ]
  },
  {
   "cell_type": "code",
   "execution_count": 63,
   "id": "35a7010c",
   "metadata": {
    "scrolled": true
   },
   "outputs": [
    {
     "name": "stdout",
     "output_type": "stream",
     "text": [
      "Character:  S\n",
      "Character:  a\n",
      "Character:  m\n",
      "Character:  p\n",
      "Character:  l\n",
      "Character:  e\n",
      "-----------\n",
      "End of Loop\n",
      "-----------\n"
     ]
    }
   ],
   "source": [
    "for elem in 'Sample':\n",
    "    print('Character: ', elem)\n",
    "else:\n",
    "    print('-----------')\n",
    "    print('End of Loop')\n",
    "    print('-----------')"
   ]
  },
  {
   "cell_type": "markdown",
   "id": "c4473070",
   "metadata": {},
   "source": [
    "## break and continue"
   ]
  },
  {
   "cell_type": "markdown",
   "id": "3faa9fee",
   "metadata": {},
   "source": [
    "### keyword \"break\""
   ]
  },
  {
   "cell_type": "markdown",
   "id": "d573a4b2",
   "metadata": {},
   "source": [
    "“break” statement is useful to break the flow of a loop abruptly i.e.,"
   ]
  },
  {
   "cell_type": "markdown",
   "id": "cb9a2132",
   "metadata": {},
   "source": [
    "- It can force a while loop to stop in between, even if the condition in “while statement” is still True.\n",
    "- It can stop a for loop in between even if the sequence in “for loop” is not entirely iterated."
   ]
  },
  {
   "cell_type": "markdown",
   "id": "a320c902",
   "metadata": {},
   "source": [
    "As soon as the interpreter encounters a break statement, it stops the current execution of the loop and jumps directly to the code after the loop block. \n",
    "\n",
    "Let’s understand by some examples\n",
    "\n"
   ]
  },
  {
   "cell_type": "code",
   "execution_count": 64,
   "id": "ba798b4e",
   "metadata": {},
   "outputs": [
    {
     "name": "stdout",
     "output_type": "stream",
     "text": [
      "1\n",
      "2\n",
      "3\n",
      "4\n",
      "5\n",
      "6\n",
      "final value of x: 6\n"
     ]
    }
   ],
   "source": [
    "x = 1\n",
    "# Infinite While Loop\n",
    "while True:\n",
    "    print(x)\n",
    "    # If x is 6, then break the loop\n",
    "    if x == 6:\n",
    "        break\n",
    "    x += 1\n",
    "print(\"final value of x:\",x)"
   ]
  },
  {
   "cell_type": "markdown",
   "id": "d178fcf8",
   "metadata": {},
   "source": [
    "For loop with a break statement"
   ]
  },
  {
   "cell_type": "code",
   "execution_count": 44,
   "id": "64083c66",
   "metadata": {},
   "outputs": [
    {
     "name": "stdout",
     "output_type": "stream",
     "text": [
      "s\n",
      "a\n",
      "m\n",
      "p\n",
      "l\n",
      "final elem: e\n"
     ]
    }
   ],
   "source": [
    "sample_str = 'sample_statement'\n",
    "# Iterate over all the characters in string\n",
    "for elem in sample_str:\n",
    "    # Id char is e then break the loop\n",
    "    if elem == 'e':\n",
    "        break\n",
    "    print(elem)\n",
    "print(\"final elem:\", elem)"
   ]
  },
  {
   "cell_type": "markdown",
   "id": "ec9e20ab",
   "metadata": {},
   "source": [
    "## Keyword \"continue\""
   ]
  },
  {
   "cell_type": "markdown",
   "id": "214adc65",
   "metadata": {},
   "source": [
    "A \"continue\" statement inside a loop can make the control jump back to the starting of the loop. If the interpreter encounters a \"continue\" statement in a loop block, then it skips all the statements or lines after it in the suite and goes back at the beginning of the loop.\n",
    "\n",
    "Let’s understand by some examples,"
   ]
  },
  {
   "cell_type": "markdown",
   "id": "39e20d0a",
   "metadata": {},
   "source": [
    "#### While loop with continue statement"
   ]
  },
  {
   "cell_type": "markdown",
   "id": "c445127e",
   "metadata": {},
   "source": [
    "Calling the continue keyword inside the loop, will make the control jump to the starting of the while loop again. All the lines after the continue keyword will get skipped for that particular iteration."
   ]
  },
  {
   "cell_type": "code",
   "execution_count": 66,
   "id": "0f41a1a3",
   "metadata": {},
   "outputs": [
    {
     "name": "stdout",
     "output_type": "stream",
     "text": [
      "1\n",
      "2\n",
      "3\n",
      "7\n",
      "8\n",
      "9\n",
      "10\n",
      "11\n"
     ]
    }
   ],
   "source": [
    "x = 0\n",
    "# Infinite While Loop\n",
    "while x <= 10:\n",
    "    x += 1\n",
    "    # If x is bw 4 and 6, then skip printing\n",
    "    if 4 <= x <= 6:\n",
    "        continue\n",
    "    print(x)"
   ]
  },
  {
   "cell_type": "code",
   "execution_count": 67,
   "id": "c382def5",
   "metadata": {},
   "outputs": [
    {
     "name": "stdout",
     "output_type": "stream",
     "text": [
      "16\n",
      "25\n",
      "36\n"
     ]
    }
   ],
   "source": [
    "x = 0\n",
    "# Infinite While Loop\n",
    "while x <= 10:\n",
    "    x += 1\n",
    "    # If x is bw 4 and 6, then skip printing\n",
    "    if 4 <= x <= 6:\n",
    "        print(x*x)\n",
    "        continue\n",
    "        print(x)\n",
    "    #print(x)"
   ]
  },
  {
   "cell_type": "markdown",
   "id": "aaed86c8",
   "metadata": {},
   "source": [
    "In this while loop, we are printing numbers from 1 to 10. But inside the loop body, we have a check that if x is between 4 to 6, then execute the continue keyword.\n",
    "\n",
    "So, when the value of x becomes 4, the continue statement gets executed. It forces the control back to the starting of the loop, and the print statement at the end of the loop body gets skipped. Similarly, the print statement in the loop gets skipped when the value of x is between 4 and 6."
   ]
  },
  {
   "cell_type": "markdown",
   "id": "f9ec3155",
   "metadata": {},
   "source": [
    "#### For loop with continue statement"
   ]
  },
  {
   "cell_type": "code",
   "execution_count": 68,
   "id": "8cfdd407",
   "metadata": {},
   "outputs": [
    {
     "name": "stdout",
     "output_type": "stream",
     "text": [
      "a\n",
      "m\n",
      "p\n",
      "l\n",
      "e\n",
      " \n",
      "e\n",
      "x\n",
      "t\n"
     ]
    }
   ],
   "source": [
    "\n",
    "sample_str = 'Sample Text'\n",
    "# Iterate over all the characters in string\n",
    "for elem in sample_str:\n",
    "    # If char is not lower case then skip printing\n",
    "    if elem.isupper() == True:\n",
    "        continue\n",
    "    print(elem)"
   ]
  },
  {
   "cell_type": "code",
   "execution_count": 3,
   "id": "c920b73c",
   "metadata": {},
   "outputs": [
    {
     "name": "stdout",
     "output_type": "stream",
     "text": [
      "Epoch [100/1000], Loss: 0.1211\n",
      "Epoch [200/1000], Loss: 0.0895\n",
      "Epoch [300/1000], Loss: 0.0682\n",
      "Epoch [400/1000], Loss: 0.0525\n",
      "Epoch [500/1000], Loss: 0.0502\n",
      "Epoch [600/1000], Loss: 0.0494\n",
      "Epoch [700/1000], Loss: 0.0486\n",
      "Epoch [800/1000], Loss: 0.0428\n",
      "Epoch [900/1000], Loss: 0.0412\n",
      "Epoch [1000/1000], Loss: 0.0366\n"
     ]
    }
   ],
   "source": []
  },
  {
   "cell_type": "code",
   "execution_count": null,
   "id": "2d6363e8",
   "metadata": {},
   "outputs": [],
   "source": []
  }
 ],
 "metadata": {
  "kernelspec": {
   "display_name": "Python 3 (ipykernel)",
   "language": "python",
   "name": "python3"
  },
  "language_info": {
   "codemirror_mode": {
    "name": "ipython",
    "version": 3
   },
   "file_extension": ".py",
   "mimetype": "text/x-python",
   "name": "python",
   "nbconvert_exporter": "python",
   "pygments_lexer": "ipython3",
   "version": "3.12.4"
  }
 },
 "nbformat": 4,
 "nbformat_minor": 5
}
