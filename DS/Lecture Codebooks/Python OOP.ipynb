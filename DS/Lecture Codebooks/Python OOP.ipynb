{
 "cells": [
  {
   "cell_type": "code",
   "execution_count": 1,
   "metadata": {},
   "outputs": [],
   "source": [
    "#\n",
    "import sys\n",
    "sys.path.append(\"../data\")\n",
    "from mylib import  *\n",
    "import io"
   ]
  },
  {
   "cell_type": "markdown",
   "metadata": {},
   "source": [
    "<h3>Basic rules about OOP in python </h3> "
   ]
  },
  {
   "cell_type": "markdown",
   "metadata": {},
   "source": [
    "<h3> OOP in general</h3>\n",
    "\n",
    "<b>1. Abstraction</b>\n",
    "\n",
    "Abstraction hides the internal functionality of an application from the user. The user could be either the end client or other developers.\n",
    "\n",
    "We can find abstraction in our daily lives. For example, you know how to use your phone, but you probably don’t know exactly what’s happening inside it each time you open an app.\n",
    "\n",
    "Another example is Python itself. You know how to use it to build functional software, and you can do it even if you don’t understand Python’s inner workings.\n",
    "\n",
    "Applying the same to code allows you to collect all the objects in a problem and abstract standard functionality into classes.\n",
    "\n",
    "<b>2. Inheritance</b>\n",
    "\n",
    "Inheritance allows us to define multiple subclasses from an already defined class.\n",
    "\n",
    "The primary purpose of it is to follow the DRY principle. You’ll be able to reuse a lot of code by implementing all the sharing components into superclasses.\n",
    "\n",
    "You can think of it as the real-life concept of genetic inheritance. Children (subclass) are the result of inheritance between two parents (superclasses). They inherit all the physical characteristics (attributes) and some common behaviors (methods).\n",
    "\n",
    "<b>3. Polymorphism</b>\n",
    "\n",
    "Polymorphism lets us slightly modify methods and attributes of the subclasses previously defined in the superclass.\n",
    "\n",
    "The literal meaning is “many forms.” That’s because we build methods with the same name but different functionality.\n",
    "\n",
    "Going back to the previous idea, children are also a perfect example of polymorphism. They can inherit a defined behavior get_hungry() but in a slightly different way, for instance, getting hungry every 4 hours instead of every 6.\n",
    "\n",
    "<b>4. Encapsulation</b>\n",
    "\n",
    "Encapsulation is the process in which we protect the internal integrity of data in a class.\n",
    "\n",
    "Although there isn’t a private statement in Python, you can apply encapsulation by using mangling in Python. There are special methods named $getters$ and $setters$ that allow us to access unique attributes and methods.\n",
    "\n",
    "Let’s imagine a Human class that has a unique attribute named _height. You can modify this attribute only within certain constraints (it’s nearly impossible to be higher than 3 meters).\n"
   ]
  },
  {
   "cell_type": "markdown",
   "metadata": {},
   "source": [
    "<h3>OOP in python</h3>\n",
    "\n",
    "\n",
    "1. <b>self</b> must be the first parameters in the member function definition. The dot notation, when the object member function is called, represent the <b>self</b>. \n",
    "\n",
    "2. Every class variable must be prefixed with 'self.', they are all public unless the variable name start with __ \n",
    "\n",
    "3. Do not access a class field directly, use <b>getter</b> and <b>setter</b> function instead. Te main purpose of using getters and setters in object-oriented programs is to ensure data encapsulation. "
   ]
  },
  {
   "cell_type": "markdown",
   "metadata": {},
   "source": [
    "### Class Definition Syntax"
   ]
  },
  {
   "cell_type": "markdown",
   "metadata": {},
   "source": [
    "class definition looks like\n",
    "<pre>\n",
    "class ClassName:\n",
    "    statement-1\n",
    "    .\n",
    "    .\n",
    "    .\n",
    "    statement-N\n",
    "</pre>"
   ]
  },
  {
   "cell_type": "markdown",
   "metadata": {},
   "source": [
    "Class definitions, like function definitions (def statements) must be executed before they have any effect.\n",
    "\n",
    "In practice, the statements inside a class definition will usually be function definitions, but other statements are allowed, and sometimes usefu"
   ]
  },
  {
   "cell_type": "markdown",
   "metadata": {},
   "source": [
    "$f_{self}(x)$"
   ]
  },
  {
   "cell_type": "code",
   "execution_count": 2,
   "metadata": {},
   "outputs": [],
   "source": [
    "class MyFirstClass():\n",
    "    m = 0\n",
    "    n = []\n",
    "    s = (1,2,3)\n",
    "    def ftn(self):\n",
    "        m=100\n",
    "        return 'XMU'\n",
    "    j = 1000"
   ]
  },
  {
   "cell_type": "code",
   "execution_count": 3,
   "metadata": {},
   "outputs": [
    {
     "name": "stdout",
     "output_type": "stream",
     "text": [
      "[]\n",
      "0\n",
      "10000\n"
     ]
    }
   ],
   "source": [
    "a =  MyFirstClass()\n",
    "print(a.n)\n",
    "print(a.m)\n",
    "a.m = 10000\n",
    "print(a.m)\n",
    "a.n.extend([1,4,5,7])\n",
    "a.n\n",
    "a.ftn()\n",
    "\n",
    "a.s = (4,5)"
   ]
  },
  {
   "cell_type": "code",
   "execution_count": 4,
   "metadata": {},
   "outputs": [
    {
     "name": "stdout",
     "output_type": "stream",
     "text": [
      "[1, 4, 5, 7]\n",
      "0\n",
      "(1, 2, 3)\n"
     ]
    }
   ],
   "source": [
    "b =  MyFirstClass()\n",
    "print(b.n)\n",
    "print(b.m)\n",
    "\n",
    "print(b.s)"
   ]
  },
  {
   "cell_type": "markdown",
   "metadata": {},
   "source": [
    "`n` 是一个可变对象（list）。 在 Python 中，类变量（例如 m 和 n 在这个例子中）是所有实例之间共享的。如果这个类变量是 不可变类型（比如整数、字符串），当你在某个实例中修改它时，Python 会创建一个新的副本，只对该实例生效。但如果是可变类型（如列表），则所有实例共享同一个引用。"
   ]
  },
  {
   "cell_type": "code",
   "execution_count": 5,
   "metadata": {},
   "outputs": [],
   "source": [
    "a.i=100"
   ]
  },
  {
   "cell_type": "code",
   "execution_count": 6,
   "metadata": {},
   "outputs": [],
   "source": [
    "b = MyFirstClass()"
   ]
  },
  {
   "cell_type": "code",
   "execution_count": 17,
   "metadata": {},
   "outputs": [
    {
     "ename": "AttributeError",
     "evalue": "'MyFirstClass' object has no attribute 'i'",
     "output_type": "error",
     "traceback": [
      "\u001b[0;31m---------------------------------------------------------------------------\u001b[0m",
      "\u001b[0;31mAttributeError\u001b[0m                            Traceback (most recent call last)",
      "Cell \u001b[0;32mIn[17], line 1\u001b[0m\n\u001b[0;32m----> 1\u001b[0m b\u001b[38;5;241m.\u001b[39mi\n",
      "\u001b[0;31mAttributeError\u001b[0m: 'MyFirstClass' object has no attribute 'i'"
     ]
    }
   ],
   "source": [
    "b.i  #不能让别的变量引用这个性质"
   ]
  },
  {
   "cell_type": "code",
   "execution_count": 7,
   "metadata": {},
   "outputs": [
    {
     "data": {
      "text/plain": [
       "1000"
      ]
     },
     "execution_count": 7,
     "metadata": {},
     "output_type": "execute_result"
    }
   ],
   "source": [
    "a.j"
   ]
  },
  {
   "cell_type": "code",
   "execution_count": 8,
   "metadata": {},
   "outputs": [
    {
     "data": {
      "text/plain": [
       "[1, 4, 5, 7]"
      ]
     },
     "execution_count": 8,
     "metadata": {},
     "output_type": "execute_result"
    }
   ],
   "source": [
    "a.n = 1\n",
    "b.n"
   ]
  },
  {
   "cell_type": "code",
   "execution_count": null,
   "metadata": {},
   "outputs": [],
   "source": []
  },
  {
   "cell_type": "markdown",
   "metadata": {},
   "source": [
    "Here *MyFirstClass.n* (or *MyFirstClass.j*) and *MyFirstClass.ftn* are valid attribute references, returning an integer and a function object, respectively.\n",
    "\n",
    "Class instantiation uses function notation. Just pretend that the class object is a parameterless function that returns a new instance of the class. For example (assuming the above class):"
   ]
  },
  {
   "cell_type": "code",
   "execution_count": 9,
   "metadata": {},
   "outputs": [
    {
     "name": "stdout",
     "output_type": "stream",
     "text": [
      "[1, 4, 5, 7] 1000\n",
      "XMU\n"
     ]
    },
    {
     "data": {
      "text/plain": [
       "0"
      ]
     },
     "execution_count": 9,
     "metadata": {},
     "output_type": "execute_result"
    }
   ],
   "source": [
    "#creates a new instance of the class and assigns this object to the variable 'a'\n",
    "a = MyFirstClass() \n",
    "print(a.n,a.j)\n",
    "print(a.ftn())\n",
    "a.m"
   ]
  },
  {
   "cell_type": "code",
   "execution_count": 10,
   "metadata": {},
   "outputs": [
    {
     "ename": "AttributeError",
     "evalue": "'MyFirstClass' object has no attribute 'i'",
     "output_type": "error",
     "traceback": [
      "\u001b[0;31m---------------------------------------------------------------------------\u001b[0m",
      "\u001b[0;31mAttributeError\u001b[0m                            Traceback (most recent call last)",
      "Cell \u001b[0;32mIn[10], line 1\u001b[0m\n\u001b[0;32m----> 1\u001b[0m a\u001b[38;5;241m.\u001b[39mi\n",
      "\u001b[0;31mAttributeError\u001b[0m: 'MyFirstClass' object has no attribute 'i'"
     ]
    }
   ],
   "source": [
    "a.i # an error"
   ]
  },
  {
   "cell_type": "code",
   "execution_count": 11,
   "metadata": {},
   "outputs": [
    {
     "name": "stdout",
     "output_type": "stream",
     "text": [
      "100\n"
     ]
    }
   ],
   "source": [
    "a.i = 100\n",
    "print(a.i)"
   ]
  },
  {
   "cell_type": "markdown",
   "metadata": {},
   "source": [
    "The instantiation operation (“calling” a class object) creates an empty object. Many classes like to create objects with instances customized to a specific initial state. Therefore a class may define a special method named $__init__()$, like this:"
   ]
  },
  {
   "cell_type": "code",
   "execution_count": 12,
   "metadata": {},
   "outputs": [],
   "source": [
    "def __init__(self):\n",
    "    self.int = 10"
   ]
  },
  {
   "cell_type": "markdown",
   "metadata": {},
   "source": [
    "When a class defines an $__init__()$ method, class instantiation automatically invokes $__init__()$ for the newly created class instance. So in this example, a new, initialized instance can be obtained by:"
   ]
  },
  {
   "cell_type": "code",
   "execution_count": 13,
   "metadata": {},
   "outputs": [
    {
     "ename": "AttributeError",
     "evalue": "'MyFirstClass' object has no attribute 'int'",
     "output_type": "error",
     "traceback": [
      "\u001b[0;31m---------------------------------------------------------------------------\u001b[0m",
      "\u001b[0;31mAttributeError\u001b[0m                            Traceback (most recent call last)",
      "Cell \u001b[0;32mIn[13], line 1\u001b[0m\n\u001b[0;32m----> 1\u001b[0m a\u001b[38;5;241m.\u001b[39mint\n",
      "\u001b[0;31mAttributeError\u001b[0m: 'MyFirstClass' object has no attribute 'int'"
     ]
    }
   ],
   "source": [
    "a.int"
   ]
  },
  {
   "cell_type": "code",
   "execution_count": 14,
   "metadata": {},
   "outputs": [],
   "source": [
    "__init__(a)"
   ]
  },
  {
   "cell_type": "code",
   "execution_count": 15,
   "metadata": {},
   "outputs": [
    {
     "data": {
      "text/plain": [
       "10"
      ]
     },
     "execution_count": 15,
     "metadata": {},
     "output_type": "execute_result"
    }
   ],
   "source": [
    "a.int"
   ]
  },
  {
   "cell_type": "markdown",
   "metadata": {},
   "source": [
    "the $__init__()$ method may have arguments for greater flexibility. In that case, arguments given to the class instantiation operator are passed on to $__init__()$. For example,"
   ]
  },
  {
   "cell_type": "code",
   "execution_count": 16,
   "metadata": {},
   "outputs": [
    {
     "ename": "NameError",
     "evalue": "name 'Complex' is not defined",
     "output_type": "error",
     "traceback": [
      "\u001b[0;31m---------------------------------------------------------------------------\u001b[0m",
      "\u001b[0;31mNameError\u001b[0m                                 Traceback (most recent call last)",
      "Cell \u001b[0;32mIn[16], line 1\u001b[0m\n\u001b[0;32m----> 1\u001b[0m x \u001b[38;5;241m=\u001b[39m Complex(\u001b[38;5;241m1.0\u001b[39m,\u001b[38;5;241m3.6\u001b[39m)\n\u001b[1;32m      2\u001b[0m \u001b[38;5;28mprint\u001b[39m(x\u001b[38;5;241m.\u001b[39mr,x\u001b[38;5;241m.\u001b[39mi)\n",
      "\u001b[0;31mNameError\u001b[0m: name 'Complex' is not defined"
     ]
    }
   ],
   "source": [
    "x = Complex(1.0,3.6)\n",
    "print(x.r,x.i)"
   ]
  },
  {
   "cell_type": "code",
   "execution_count": 17,
   "metadata": {},
   "outputs": [],
   "source": [
    "class Complex:\n",
    "    def __init__(anyName, realpart, imagpart):\n",
    "        anyName.r = realpart\n",
    "        anyName.i = imagpart\n",
    "    def ftn(anyName,a):\n",
    "        print(a)\n",
    "y = Complex(100.0,30.6)"
   ]
  },
  {
   "cell_type": "code",
   "execution_count": 18,
   "metadata": {},
   "outputs": [
    {
     "name": "stdout",
     "output_type": "stream",
     "text": [
      "1000\n"
     ]
    }
   ],
   "source": [
    "(y.ftn(1000))"
   ]
  },
  {
   "cell_type": "code",
   "execution_count": 19,
   "metadata": {},
   "outputs": [
    {
     "name": "stdout",
     "output_type": "stream",
     "text": [
      "10\n"
     ]
    }
   ],
   "source": [
    "y.ftn(10)"
   ]
  },
  {
   "cell_type": "markdown",
   "metadata": {},
   "source": [
    "#### Method Objects"
   ]
  },
  {
   "cell_type": "markdown",
   "metadata": {},
   "source": [
    "A method is a function that “belongs to” an object."
   ]
  },
  {
   "cell_type": "code",
   "execution_count": null,
   "metadata": {},
   "outputs": [],
   "source": [
    "class MyFirstClass():\n",
    "    n = 100\n",
    "    def ftn(self):\n",
    "        return 'XMU'\n",
    "    j = 1000\n",
    "\n",
    "a = MyFirstClass()"
   ]
  },
  {
   "cell_type": "markdown",
   "metadata": {},
   "source": [
    "Valid method names of an instance object depend on its class. By definition, all attributes of a class that are function objects define corresponding methods of its instances. So in our example, *MyFirstClass.ftn* is a valid method reference, since *MyFirstClass.ftn* is a function, but *a.n* is not, since *MyFirstClass.n* is not. But *a.ftn* is not the same thing as *MyFirstClass.ftn* — it is a method object, not a function object."
   ]
  },
  {
   "cell_type": "markdown",
   "metadata": {},
   "source": [
    "#### Class and Instance Variables"
   ]
  },
  {
   "cell_type": "markdown",
   "metadata": {},
   "source": [
    "Generally speaking, instance variables are for data unique to each instance and class variables are for attributes and methods shared by all instances of the class:"
   ]
  },
  {
   "cell_type": "code",
   "execution_count": 20,
   "metadata": {},
   "outputs": [
    {
     "name": "stdout",
     "output_type": "stream",
     "text": [
      "students Xiamen university\n",
      "students Tsinghua University\n",
      "5000 classroom\n",
      "3500 classroom\n"
     ]
    }
   ],
   "source": [
    "class University:\n",
    "    s = 'students'         # class variable shared by all instances\n",
    "    l = 'lib'\n",
    "    room = \"classroom\"\n",
    "    def __init__(self,name,n):\n",
    "        \n",
    "        self.name = name\n",
    "        self.n = n    # instance variable unique to each instance\n",
    "\n",
    "XMU = University('Xiamen university',5000)\n",
    "THU = University('Tsinghua University',3500)\n",
    "print(XMU.s,XMU.name)                  # shared by all Universities\n",
    "print(THU.s,THU.name)                  # shared by all Universities\n",
    "print(XMU.n,XMU.room)                  # unique to d\n",
    "print(THU.n,THU.room)                  # unique to e"
   ]
  },
  {
   "cell_type": "markdown",
   "metadata": {},
   "source": [
    "Shared data can have possibly surprising effects with involving mutable objects such as lists and dictionaries. For example, the $depart$ list in the following code should not be used as a class variable because just a single list would be shared by all $university$ instances:"
   ]
  },
  {
   "cell_type": "code",
   "execution_count": 26,
   "metadata": {},
   "outputs": [
    {
     "data": {
      "text/plain": [
       "['Department of Statistics and Data Science', 'Center for Statistical Science']"
      ]
     },
     "execution_count": 26,
     "metadata": {},
     "output_type": "execute_result"
    }
   ],
   "source": [
    "class University:\n",
    "    department = []         # class variable shared by all instances\n",
    "    m = 10\n",
    "    def __init__(self, n):\n",
    "        self.n = n    # instance variable unique to each instance\n",
    "    def addDepart(self,newDepartment):\n",
    "        self.department.append(newDepartment)\n",
    "    j = 100\n",
    "XMU = University(5000)\n",
    "THU = University(3500)\n",
    "XMU.addDepart('Department of Statistics and Data Science')\n",
    "THU.addDepart('Center for Statistical Science')\n",
    "XMU.department"
   ]
  },
  {
   "cell_type": "code",
   "execution_count": 28,
   "metadata": {},
   "outputs": [
    {
     "data": {
      "text/plain": [
       "10000"
      ]
     },
     "execution_count": 28,
     "metadata": {},
     "output_type": "execute_result"
    }
   ],
   "source": [
    "XMU.m=10000\n",
    "XMU.m"
   ]
  },
  {
   "cell_type": "markdown",
   "metadata": {},
   "source": [
    "Correct design of the class should use an instance variable instead:"
   ]
  },
  {
   "cell_type": "code",
   "execution_count": 32,
   "metadata": {},
   "outputs": [
    {
     "name": "stdout",
     "output_type": "stream",
     "text": [
      "['Department of Statistics and Data Science']\n",
      "['Center for Statistical Science']\n"
     ]
    }
   ],
   "source": [
    "class University:\n",
    "    def __init__(self,n):\n",
    "        self.n = n    \n",
    "        self.department = []\n",
    "    def addDepart(self,newDepartment):\n",
    "        self.department.append(newDepartment)\n",
    "XMU = University(5000)\n",
    "THU = University(3500)\n",
    "XMU.addDepart('Department of Statistics and Data Science')\n",
    "THU.addDepart('Center for Statistical Science')\n",
    "print(XMU.department)\n",
    "print(THU.department)"
   ]
  },
  {
   "cell_type": "code",
   "execution_count": null,
   "metadata": {},
   "outputs": [],
   "source": [
    "#因为已经初始化了"
   ]
  },
  {
   "cell_type": "markdown",
   "metadata": {},
   "source": [
    "#### Inheritance"
   ]
  },
  {
   "cell_type": "markdown",
   "metadata": {},
   "source": [
    "Benefits of inheritance are:\n",
    "  - It represents real-world relationships well.\n",
    "  - It provides the reusability of a code. We don’t have to write the same code again and again. Also, it allows us to add more features to a class without modifying it.\n",
    "  - It is transitive in nature, which means that if class B inherits from another class A, then all the subclasses of B would automatically inherit from class A."
   ]
  },
  {
   "cell_type": "markdown",
   "metadata": {},
   "source": [
    "Inheritance Syntax\n",
    "<pre>\n",
    "Class BaseClass():\n",
    "    statements\n",
    "Class DerivedClass(BaseClass):\n",
    "    statements\n",
    "</pre>"
   ]
  },
  {
   "cell_type": "code",
   "execution_count": 1,
   "metadata": {},
   "outputs": [],
   "source": [
    "# parent class\n",
    "class UniverLibrary():\n",
    "    def __init__(self,bookName,binary):\n",
    "        self.name = bookName\n",
    "        self.borrowed = binary\n",
    "    def isBorrowed(self):\n",
    "        return \"Is \" + self.name + \" borrowed? \" + self.borrowed +\".\"\n",
    "    def test(self):\n",
    "        return \"This is a test for Parent class\"\n",
    "\n",
    "myLib = UniverLibrary('The Old Man and Sea',\"Yes\")"
   ]
  },
  {
   "cell_type": "code",
   "execution_count": 2,
   "metadata": {},
   "outputs": [
    {
     "data": {
      "text/plain": [
       "'Is The Old Man and Sea borrowed? Yes.'"
      ]
     },
     "execution_count": 2,
     "metadata": {},
     "output_type": "execute_result"
    }
   ],
   "source": [
    "myLib.isBorrowed()    "
   ]
  },
  {
   "cell_type": "code",
   "execution_count": 3,
   "metadata": {},
   "outputs": [],
   "source": [
    "class SchoolLibrary(UniverLibrary):  #把母class传给子class\n",
    "    def __init__(self,bookName,binary,x):\n",
    "        UniverLibrary.__init__(self,bookName,binary) #调用母class初始化\n",
    "        self.x = x\n",
    "    def test(self):\n",
    "        return \"This is a test for Child class\""
   ]
  },
  {
   "cell_type": "code",
   "execution_count": 4,
   "metadata": {},
   "outputs": [
    {
     "data": {
      "text/plain": [
       "'Is Deep Learning borrowed? No.'"
      ]
     },
     "execution_count": 4,
     "metadata": {},
     "output_type": "execute_result"
    }
   ],
   "source": [
    "sLib = SchoolLibrary('Deep Learning','No',100)\n",
    "sLib.isBorrowed()"
   ]
  },
  {
   "cell_type": "code",
   "execution_count": 5,
   "metadata": {},
   "outputs": [
    {
     "data": {
      "text/plain": [
       "'This is a test for Child class'"
      ]
     },
     "execution_count": 5,
     "metadata": {},
     "output_type": "execute_result"
    }
   ],
   "source": [
    "sLib.test()"
   ]
  },
  {
   "cell_type": "markdown",
   "metadata": {},
   "source": [
    "Multiple inheritances: When a child class inherits from multiple parent classes, it is called multiple inheritances. "
   ]
  },
  {
   "cell_type": "code",
   "execution_count": 12,
   "metadata": {},
   "outputs": [
    {
     "name": "stdout",
     "output_type": "stream",
     "text": [
      "-----Base1-------\n",
      "Base2\n"
     ]
    }
   ],
   "source": [
    "class Base1():\n",
    "    def __init__(self):\n",
    "        self.str1 = \"Python one\"\n",
    "        print(\"-----Base1-------\")\n",
    " \n",
    " \n",
    "class Base2():\n",
    "    def __init__(self):\n",
    "        self.str2 = \"Python two\"\n",
    "        print(\"Base2\")\n",
    " \n",
    "ob1 = Base1()\n",
    "ob2 = Base2()"
   ]
  },
  {
   "cell_type": "code",
   "execution_count": null,
   "metadata": {},
   "outputs": [],
   "source": []
  },
  {
   "cell_type": "code",
   "execution_count": 11,
   "metadata": {
    "scrolled": true
   },
   "outputs": [
    {
     "name": "stdout",
     "output_type": "stream",
     "text": [
      "-----Base1-------\n",
      "Base2\n",
      "Derived\n",
      "-----------------------\n",
      "Python one Python two\n"
     ]
    }
   ],
   "source": [
    "class Derived(Base1,Base2):\n",
    "    def __init__(self):\n",
    "        Base1.__init__(self)\n",
    "        Base2.__init__(self)\n",
    "        print(\"Derived\")\n",
    "    def printStrs(self):\n",
    "        print(self.str1, self.str2)\n",
    "ob = Derived()\n",
    "print('-----------------------')\n",
    "ob.printStrs()"
   ]
  },
  {
   "cell_type": "markdown",
   "metadata": {},
   "source": [
    "Multilevel inheritance: When we have a child and grandchild relationship"
   ]
  },
  {
   "cell_type": "code",
   "execution_count": 13,
   "metadata": {},
   "outputs": [
    {
     "name": "stdout",
     "output_type": "stream",
     "text": [
      "Xiao ming 23 Xiamen\n"
     ]
    }
   ],
   "source": [
    "class Base(object): #在py3中，和class Base:同等作用\n",
    "    \n",
    "    def __init__(self, name):\n",
    "        self.name = name\n",
    " \n",
    "    # To get name\n",
    "    def getName(self):\n",
    "        return self.name\n",
    " \n",
    " \n",
    "# Inherited class\n",
    "class Child(Base):\n",
    " \n",
    "    def __init__(self, name, age):\n",
    "        Base.__init__(self, name)\n",
    "        self.age = age\n",
    " \n",
    "    # To get age\n",
    "    def getAge(self):\n",
    "        return self.age\n",
    "    \n",
    "class GrandChild(Child):  #传最近的一个就好\n",
    "\n",
    "    def __init__(self, name, age, address):\n",
    "        Child.__init__(self, name, age)\n",
    "        self.address = address\n",
    " \n",
    "    # To get address\n",
    "    def getAddress(self):\n",
    "        return self.address\n",
    " \n",
    "g = GrandChild(\"Xiao ming\", 23, \"Xiamen\")\n",
    "print(g.getName(), g.getAge(), g.getAddress())"
   ]
  },
  {
   "cell_type": "markdown",
   "metadata": {},
   "source": [
    "**Private members of the parent class**"
   ]
  },
  {
   "cell_type": "markdown",
   "metadata": {},
   "source": [
    "We don’t always want the instance variables of the parent class to be inherited by the child class i.e. we can make some of the instance variables of the parent class private, which won’t be available to the child class. \n",
    "We can make an instance variable private by adding double underscores before its name. For example,"
   ]
  },
  {
   "cell_type": "code",
   "execution_count": 5,
   "metadata": {},
   "outputs": [
    {
     "name": "stdout",
     "output_type": "stream",
     "text": [
      "10\n"
     ]
    },
    {
     "ename": "AttributeError",
     "evalue": "'Base' object has no attribute 'y'",
     "output_type": "error",
     "traceback": [
      "\u001b[0;31m---------------------------------------------------------------------------\u001b[0m",
      "\u001b[0;31mAttributeError\u001b[0m                            Traceback (most recent call last)",
      "Cell \u001b[0;32mIn[5], line 8\u001b[0m\n\u001b[1;32m      6\u001b[0m baseClass \u001b[38;5;241m=\u001b[39m Base(\u001b[38;5;241m10\u001b[39m,\u001b[38;5;241m5\u001b[39m) \u001b[38;5;66;03m#实例化\u001b[39;00m\n\u001b[1;32m      7\u001b[0m \u001b[38;5;28mprint\u001b[39m(baseClass\u001b[38;5;241m.\u001b[39mx)\n\u001b[0;32m----> 8\u001b[0m \u001b[38;5;28mprint\u001b[39m(baseClass\u001b[38;5;241m.\u001b[39my)\n",
      "\u001b[0;31mAttributeError\u001b[0m: 'Base' object has no attribute 'y'"
     ]
    }
   ],
   "source": [
    "class Base():\n",
    "    def __init__(self,a,b):\n",
    "        self.x = a\n",
    "        self.__y = b**2 # y is private instance variable\n",
    "        \n",
    "baseClass = Base(10,5) #实例化\n",
    "print(baseClass.x)\n",
    "print(baseClass.y) #It can’t access outside the class."
   ]
  },
  {
   "cell_type": "code",
   "execution_count": 19,
   "metadata": {},
   "outputs": [
    {
     "data": {
      "text/plain": [
       "25"
      ]
     },
     "execution_count": 19,
     "metadata": {},
     "output_type": "execute_result"
    }
   ],
   "source": [
    "baseClass._Base__y"
   ]
  },
  {
   "cell_type": "code",
   "execution_count": 21,
   "metadata": {},
   "outputs": [
    {
     "name": "stdout",
     "output_type": "stream",
     "text": [
      "value of z: 30\n",
      "25\n"
     ]
    }
   ],
   "source": [
    "class Child(Base):\n",
    "    def __init__(self,a,b,c):\n",
    "        self.z = c\n",
    "        Base.__init__(self,a,b)\n",
    " \n",
    "childClass = Child(10,5,30)\n",
    " \n",
    "# produces an error as d is private instance variable\n",
    "print('value of z:',childClass.z)\n",
    "print('value of y:',childClass.y)# produces an error as 'y' is private instance variable\n",
    "print(childClass._Base__y) #需要.母代的隐私化的才可以"
   ]
  },
  {
   "cell_type": "markdown",
   "metadata": {},
   "source": [
    "quiz:\n",
    "<pre>\n",
    "class Pa():\n",
    "    def __init__(self,n):\n",
    "        self.n = n\n",
    "    def ftn(self,m):\n",
    "        return(self.n + m)\n",
    "    def ftn1(self,j):\n",
    "        return(self.n+j)\n",
    "class Child(University):\n",
    "    def __init__(self,n,k):\n",
    "        Pa.__init__(self,k)\n",
    "        self.n = n\n",
    "    def ftn1(self,l):\n",
    "        print(l)\n",
    "s = Child(100,200)\n",
    "s.n\n",
    "s.ftn(10)\n",
    "s.ftn1(20)\n",
    "</pre>"
   ]
  },
  {
   "cell_type": "code",
   "execution_count": 69,
   "metadata": {},
   "outputs": [
    {
     "name": "stdout",
     "output_type": "stream",
     "text": [
      "1000\n",
      "1010\n",
      "20\n"
     ]
    }
   ],
   "source": [
    "class Pa():\n",
    "    def __init__(self,n):\n",
    "        self.n = n\n",
    "    def ftn(self,m):\n",
    "        return(self.n + m)\n",
    "    def ftn1(self,j):\n",
    "        return(self.n+j)\n",
    "\n",
    "class Child(Pa):\n",
    "    def __init__(self,n,k):\n",
    "        Pa.__init__(self,k)\n",
    "        self.n = n\n",
    "    def ftn1(self,l):\n",
    "        return l\n",
    "    \n",
    "class Grand(Child):\n",
    "    def __init__(self,m,n,k):\n",
    "        Child.__init__(self,n,k)\n",
    "        self.n = n #n受到这一步的影响所以不参与嵌套\n",
    "    def ftn1(self,l):\n",
    "        return l  \n",
    "    \n",
    "s = Grand(1,1000,200)\n",
    "print(s.n)\n",
    "print(s.ftn(10))\n",
    "print(s.ftn1(20))"
   ]
  },
  {
   "cell_type": "markdown",
   "metadata": {},
   "source": [
    "## More examples"
   ]
  },
  {
   "cell_type": "code",
   "execution_count": 8,
   "metadata": {},
   "outputs": [],
   "source": [
    "### some support function ###\n",
    "def list_to_string(data):    \n",
    "    return '  '.join([str(x) for x in data]) #使用两个空格作为分隔符将这些字符串连接起来\n",
    "\n",
    "def Seq(n):\n",
    "    return [i for i in range(n)] \n",
    "\n",
    "def ravel(obj):\n",
    "    return obj if type(obj)==list else obj.data #如果输入的类型是list就返回本身，否则返回.data性质\n"
   ]
  },
  {
   "cell_type": "code",
   "execution_count": 28,
   "metadata": {},
   "outputs": [
    {
     "data": {
      "text/plain": [
       "[0, 1, 2, 3, 4, 5]"
      ]
     },
     "execution_count": 28,
     "metadata": {},
     "output_type": "execute_result"
    }
   ],
   "source": [
    "list_to_string([0,1,2,3])\n",
    "Seq(6)\n",
    "#ravel()"
   ]
  },
  {
   "cell_type": "code",
   "execution_count": 31,
   "metadata": {},
   "outputs": [
    {
     "name": "stdout",
     "output_type": "stream",
     "text": [
      "Array object\n"
     ]
    },
    {
     "data": {
      "text/plain": [
       "<__main__.Array at 0x11b8abd10>"
      ]
     },
     "execution_count": 31,
     "metadata": {},
     "output_type": "execute_result"
    }
   ],
   "source": [
    "class Array(object):\n",
    "    def __init__(self):\n",
    "        print(\"Array object\")\n",
    "        \n",
    "a = Array()\n",
    "a"
   ]
  },
  {
   "cell_type": "code",
   "execution_count": 32,
   "metadata": {},
   "outputs": [
    {
     "data": {
      "text/plain": [
       "array([0, 1, 2, 3, 4])"
      ]
     },
     "execution_count": 32,
     "metadata": {},
     "output_type": "execute_result"
    }
   ],
   "source": [
    "import numpy as np\n",
    "np.array([i for i in range(5)])"
   ]
  },
  {
   "cell_type": "code",
   "execution_count": 10,
   "metadata": {},
   "outputs": [
    {
     "name": "stdout",
     "output_type": "stream",
     "text": [
      "---Array----\n",
      "11  22  33  44  55\n",
      "------------\n",
      "\n",
      "\n",
      "---Array----\n",
      "12  24  36  48  60\n",
      "------------\n",
      "\n",
      "\n"
     ]
    },
    {
     "ename": "AttributeError",
     "evalue": "'str' object has no attribute 'data'",
     "output_type": "error",
     "traceback": [
      "\u001b[0;31m---------------------------------------------------------------------------\u001b[0m",
      "\u001b[0;31mAttributeError\u001b[0m                            Traceback (most recent call last)",
      "Cell \u001b[0;32mIn[10], line 24\u001b[0m\n\u001b[1;32m     20\u001b[0m \u001b[38;5;28mprint\u001b[39m(c\u001b[38;5;241m.\u001b[39mAdd(a))\n\u001b[1;32m     21\u001b[0m \u001b[38;5;66;03m#a = Array([1,2,3,4,5])\u001b[39;00m\n\u001b[1;32m     22\u001b[0m \u001b[38;5;66;03m#b = [10,20,30,40,50]\u001b[39;00m\n\u001b[1;32m     23\u001b[0m \u001b[38;5;66;03m#a.Add(b)\u001b[39;00m\n\u001b[0;32m---> 24\u001b[0m d \u001b[38;5;241m=\u001b[39m Array(\u001b[38;5;124m\"\u001b[39m\u001b[38;5;124m1,2,3\u001b[39m\u001b[38;5;124m\"\u001b[39m)\n",
      "Cell \u001b[0;32mIn[10], line 6\u001b[0m, in \u001b[0;36mArray.__init__\u001b[0;34m(self, lst)\u001b[0m\n\u001b[1;32m      5\u001b[0m \u001b[38;5;28;01mdef\u001b[39;00m \u001b[38;5;21m__init__\u001b[39m(\u001b[38;5;28mself\u001b[39m, lst):\n\u001b[0;32m----> 6\u001b[0m     \u001b[38;5;28mself\u001b[39m\u001b[38;5;241m.\u001b[39mdata \u001b[38;5;241m=\u001b[39m ravel(lst)\n",
      "Cell \u001b[0;32mIn[10], line 2\u001b[0m, in \u001b[0;36mravel\u001b[0;34m(obj)\u001b[0m\n\u001b[1;32m      1\u001b[0m \u001b[38;5;28;01mdef\u001b[39;00m \u001b[38;5;21mravel\u001b[39m(obj):\n\u001b[0;32m----> 2\u001b[0m     \u001b[38;5;28;01mreturn\u001b[39;00m obj \u001b[38;5;28;01mif\u001b[39;00m \u001b[38;5;28mtype\u001b[39m(obj)\u001b[38;5;241m==\u001b[39m\u001b[38;5;28mlist\u001b[39m \u001b[38;5;28;01melse\u001b[39;00m obj\u001b[38;5;241m.\u001b[39mdata\n",
      "\u001b[0;31mAttributeError\u001b[0m: 'str' object has no attribute 'data'"
     ]
    }
   ],
   "source": [
    "def ravel(obj):\n",
    "    return obj if type(obj)==list else obj.data\n",
    "\n",
    "class Array:\n",
    "    def __init__(self, lst):\n",
    "        self.data = ravel(lst)\n",
    "    \n",
    "    def Add(self, aryb):\n",
    "        return Array([x+y for x,y in zip(self.data, ravel(aryb))])\n",
    "    \n",
    "    def __repr__(self):\n",
    "        return \"---Array----\\n\"+list_to_string(self.data)+\"\\n------------\\n\\n\"\n",
    "    \n",
    "a = Array([1,2,3,4,5])\n",
    "b = Array([10,20,30,40,50,60])\n",
    "\n",
    "#print(a.Add(b).data)\n",
    "c = a.Add(b)\n",
    "print(c)\n",
    "print(c.Add(a))\n",
    "#a = Array([1,2,3,4,5])\n",
    "#b = [10,20,30,40,50]\n",
    "#a.Add(b)\n",
    "d = Array(\"1,2,3\")"
   ]
  },
  {
   "cell_type": "code",
   "execution_count": 39,
   "metadata": {},
   "outputs": [
    {
     "name": "stdout",
     "output_type": "stream",
     "text": [
      "---Array----\n",
      "1  2  3  4  5\n",
      "------------\n",
      "\n",
      "\n"
     ]
    },
    {
     "data": {
      "text/plain": [
       "[1, 2, 3, 4, 5]"
      ]
     },
     "execution_count": 39,
     "metadata": {},
     "output_type": "execute_result"
    }
   ],
   "source": [
    "print(a)\n",
    "#在 Python 中，__repr__ 是一个特殊的方法，用于定义对象的“官方”字符串表示。\n",
    "#当你执行 print(a) 时，Python 会调用 a 对象的 __repr__ 方法，并将返回的字符串输出到控制台。\n",
    "\n",
    "d = Array(a)\n",
    "d.data"
   ]
  },
  {
   "cell_type": "code",
   "execution_count": 98,
   "metadata": {},
   "outputs": [
    {
     "data": {
      "text/plain": [
       "---Array----\n",
       "1  2  3  4  5\n",
       "------------\n"
      ]
     },
     "execution_count": 98,
     "metadata": {},
     "output_type": "execute_result"
    }
   ],
   "source": [
    "a"
   ]
  },
  {
   "cell_type": "markdown",
   "metadata": {},
   "source": [
    "Note: $repr()$ is a Python built-in function and when called, it invokes the $__repr__()$ method. We can use it when we want to debug or to know information about an object. It takes one object as its argument and returns a legal string representation of the passed object. see <a href=\"https://www.pythontutorial.net/python-oop/python-__repr__/\"> this for the usage of $__repr__$?</a>"
   ]
  },
  {
   "cell_type": "code",
   "execution_count": 105,
   "metadata": {
    "scrolled": false
   },
   "outputs": [
    {
     "name": "stdout",
     "output_type": "stream",
     "text": [
      "15\n",
      "-------\n",
      "11  13  15  17  19\n",
      "-------\n",
      "\n",
      "\n",
      "-------\n",
      "3  4  5\n",
      "-------\n",
      "\n",
      "\n",
      "5\n",
      "15\n"
     ]
    }
   ],
   "source": [
    "class Array:\n",
    "    def __init__(self, lst):\n",
    "        self.data=ravel(lst)\n",
    "    \n",
    "    def Sum(self):\n",
    "        return sum(self.data)\n",
    "    \n",
    "    def Add(self, aryb):\n",
    "        #assert type(aryb)==Array, 'Invalid type'\n",
    "        aryb=ravel(aryb)\n",
    "        return Array([x+y for x,y in zip(self.data, aryb)])\n",
    "\n",
    "    def Len(self):\n",
    "        return len(self.data)\n",
    "\n",
    "    def __repr__(self):\n",
    "        return \"-------\\n\"+list_to_string(self.data)+\"\\n-------\\n\\n\"\n",
    "    \n",
    "a=Array([1,2,3,4,5])\n",
    "print(a.Sum())\n",
    "b=Array([10,11,12,13,14])\n",
    "print(a.Add(b))  #因为调用Add函数的时候又调用了print(实例化)，所以会调用repr函数\n",
    "print(a.Add([2,2,2]))\n",
    "print(a.Len())\n",
    "print(a.Sum())"
   ]
  },
  {
   "cell_type": "code",
   "execution_count": 116,
   "metadata": {},
   "outputs": [
    {
     "data": {
      "text/plain": [
       "3"
      ]
     },
     "execution_count": 116,
     "metadata": {},
     "output_type": "execute_result"
    }
   ],
   "source": [
    "a = np.array([i for i in range(9)])\n",
    "a[3]\n"
   ]
  },
  {
   "cell_type": "code",
   "execution_count": 11,
   "metadata": {},
   "outputs": [
    {
     "name": "stdout",
     "output_type": "stream",
     "text": [
      "15\n",
      "-------\n",
      "11  13  15  17  19\n",
      "-------\n",
      "\n",
      "\n",
      "-------\n",
      "3  4  5\n",
      "-------\n",
      "\n",
      "\n",
      "5\n",
      "15\n",
      "-------\n",
      "1  2  3  4  5\n",
      "-------\n",
      "\n",
      "\n",
      "-------\n",
      "2  3\n",
      "-------\n",
      "\n",
      "\n"
     ]
    },
    {
     "ename": "AttributeError",
     "evalue": "'int' object has no attribute 'data'",
     "output_type": "error",
     "traceback": [
      "\u001b[0;31m---------------------------------------------------------------------------\u001b[0m",
      "\u001b[0;31mAttributeError\u001b[0m                            Traceback (most recent call last)",
      "Cell \u001b[0;32mIn[11], line 35\u001b[0m\n\u001b[1;32m     33\u001b[0m \u001b[38;5;28mprint\u001b[39m(a\u001b[38;5;241m.\u001b[39msubset(\u001b[38;5;28mslice\u001b[39m(\u001b[38;5;241m1\u001b[39m,\u001b[38;5;241m3\u001b[39m)))\n\u001b[1;32m     34\u001b[0m a[\u001b[38;5;241m1\u001b[39m:\u001b[38;5;241m3\u001b[39m], a[:], a[\u001b[38;5;241m2\u001b[39m:] \n\u001b[0;32m---> 35\u001b[0m a[\u001b[38;5;241m4\u001b[39m] \u001b[38;5;66;03m#非列表报错\u001b[39;00m\n\u001b[1;32m     36\u001b[0m a[[\u001b[38;5;241m1\u001b[39m,\u001b[38;5;241m2\u001b[39m,\u001b[38;5;241m4\u001b[39m]]\n",
      "Cell \u001b[0;32mIn[11], line 20\u001b[0m, in \u001b[0;36mArray.__getitem__\u001b[0;34m(self, sl)\u001b[0m\n\u001b[1;32m     19\u001b[0m \u001b[38;5;28;01mdef\u001b[39;00m \u001b[38;5;21m__getitem__\u001b[39m(\u001b[38;5;28mself\u001b[39m, sl):  \u001b[38;5;66;03m# slice, int\u001b[39;00m\n\u001b[0;32m---> 20\u001b[0m     \u001b[38;5;28;01mreturn\u001b[39;00m Array(\u001b[38;5;28mself\u001b[39m\u001b[38;5;241m.\u001b[39mdata[sl])\n",
      "Cell \u001b[0;32mIn[11], line 3\u001b[0m, in \u001b[0;36mArray.__init__\u001b[0;34m(self, lst)\u001b[0m\n\u001b[1;32m      2\u001b[0m \u001b[38;5;28;01mdef\u001b[39;00m \u001b[38;5;21m__init__\u001b[39m(\u001b[38;5;28mself\u001b[39m, lst):\n\u001b[0;32m----> 3\u001b[0m     \u001b[38;5;28mself\u001b[39m\u001b[38;5;241m.\u001b[39mdata\u001b[38;5;241m=\u001b[39mravel(lst)\n",
      "Cell \u001b[0;32mIn[10], line 2\u001b[0m, in \u001b[0;36mravel\u001b[0;34m(obj)\u001b[0m\n\u001b[1;32m      1\u001b[0m \u001b[38;5;28;01mdef\u001b[39;00m \u001b[38;5;21mravel\u001b[39m(obj):\n\u001b[0;32m----> 2\u001b[0m     \u001b[38;5;28;01mreturn\u001b[39;00m obj \u001b[38;5;28;01mif\u001b[39;00m \u001b[38;5;28mtype\u001b[39m(obj)\u001b[38;5;241m==\u001b[39m\u001b[38;5;28mlist\u001b[39m \u001b[38;5;28;01melse\u001b[39;00m obj\u001b[38;5;241m.\u001b[39mdata\n",
      "\u001b[0;31mAttributeError\u001b[0m: 'int' object has no attribute 'data'"
     ]
    }
   ],
   "source": [
    "class Array:\n",
    "    def __init__(self, lst):\n",
    "        self.data=ravel(lst)\n",
    "    \n",
    "    def Sum(self):\n",
    "        return sum(self.data)\n",
    "    \n",
    "    def Add(self, aryb):\n",
    "        #assert type(aryb)==Array, 'Invalid type'\n",
    "        aryb=ravel(aryb)\n",
    "        return Array([x+y for x,y in zip(self.data, aryb)])\n",
    "\n",
    "    def Len(self):\n",
    "        return len(self.data)\n",
    "\n",
    "    def __repr__(self):\n",
    "        return \"-------\\n\"+list_to_string(self.data)+\"\\n-------\\n\\n\"\n",
    "    \n",
    "    def __getitem__(self, sl):  # slice, int\n",
    "        return Array(self.data[sl])            \n",
    "            \n",
    "    def subset(self, sl):\n",
    "        return Array(self.data[sl])            \n",
    "    \n",
    "a=Array([1,2,3,4,5])\n",
    "print(a.Sum())\n",
    "b=Array([10,11,12,13,14])\n",
    "print(a.Add(b))\n",
    "print(a.Add([2,2,2]))\n",
    "print(a.Len())\n",
    "print(a.Sum())\n",
    "print(a)\n",
    "print(a.subset(slice(1,3)))\n",
    "a[1:3], a[:], a[2:] \n",
    "a[4] #非列表报错\n",
    "a[[1,2,4]]"
   ]
  },
  {
   "cell_type": "markdown",
   "metadata": {},
   "source": [
    "Note: $__getitem__$ takes the list index as an argument and returns the name associated with that index. \n",
    "see <a href=\"https://www.zhihu.com/tardis/zm/art/27661382?source_id=1005\"> this for the usage of $__getitem__$?</a> "
   ]
  },
  {
   "cell_type": "code",
   "execution_count": 126,
   "metadata": {},
   "outputs": [
    {
     "name": "stdout",
     "output_type": "stream",
     "text": [
      "15\n",
      "-------\n",
      "11  13  15  17  19\n",
      "-------\n",
      "\n",
      "\n",
      "-------\n",
      "3  4  5\n",
      "-------\n",
      "\n",
      "\n",
      "5\n",
      "15\n",
      "<class 'slice'>\n",
      "-------\n",
      "2  3  4  5\n",
      "-------\n",
      "\n",
      "\n",
      "<class 'list'>\n",
      "-------\n",
      "4  3\n",
      "-------\n",
      "\n",
      "\n",
      "<class 'int'>\n",
      "-------\n",
      "4\n",
      "-------\n",
      "\n",
      "\n"
     ]
    }
   ],
   "source": [
    "class Array:\n",
    "    def __init__(self, lst):\n",
    "        self.data=ravel(lst)\n",
    "    \n",
    "    def Sum(self):\n",
    "        return sum(self.data)\n",
    "    \n",
    "    def Add(self, aryb):\n",
    "        #assert type(aryb)==Array, 'Invalid type'\n",
    "        aryb=ravel(aryb)\n",
    "        return Array([x+y for x,y in zip(self.data, aryb)])\n",
    "\n",
    "    def Len(self):\n",
    "        return len(self.data)\n",
    "\n",
    "    def __repr__(self):\n",
    "        return \"-------\\n\"+list_to_string(self.data)+\"\\n-------\\n\\n\"\n",
    "    \n",
    "    def __getitem__(self, sl):  # slice, int, or list\n",
    "        print(type(sl))\n",
    "        if type(sl)==slice:\n",
    "            return Array(self.data[sl])            \n",
    "        elif type(sl)==list:\n",
    "            return Array([self.data[i] for i in sl])\n",
    "        elif type(sl)==int:  \n",
    "            return Array([self.data[sl]]) #反正一定要传list给Array\n",
    "        else: \n",
    "            raise TypeError(\"selection by \"+str(sl)+\" is not supported\")\n",
    "            \n",
    "\n",
    "a=Array([1,2,3,4,5])\n",
    "print(a.Sum())\n",
    "b=Array([10,11,12,13,14])\n",
    "print(a.Add(b))\n",
    "print(a.Add([2,2,2]))\n",
    "print(a.Len())\n",
    "print(a.Sum())\n",
    "print(a[1:])\n",
    "print(a[[3,2]])\n",
    "print(a[3])\n",
    "#print(a['3':4])  # invalid\n"
   ]
  },
  {
   "cell_type": "code",
   "execution_count": 113,
   "metadata": {},
   "outputs": [
    {
     "ename": "Exception",
     "evalue": "The number shouldn't be an odd integer",
     "output_type": "error",
     "traceback": [
      "\u001b[0;31m---------------------------------------------------------------------------\u001b[0m",
      "\u001b[0;31mException\u001b[0m                                 Traceback (most recent call last)",
      "\u001b[0;32m/var/folders/tl/g7qyc5l95_ddw_nx7p69wrsh0000gn/T/ipykernel_51014/1659801037.py\u001b[0m in \u001b[0;36m<module>\u001b[0;34m\u001b[0m\n\u001b[1;32m      3\u001b[0m \u001b[0mb\u001b[0m \u001b[0;34m=\u001b[0m \u001b[0;36m3\u001b[0m\u001b[0;34m\u001b[0m\u001b[0;34m\u001b[0m\u001b[0m\n\u001b[1;32m      4\u001b[0m \u001b[0;32mif\u001b[0m \u001b[0mb\u001b[0m \u001b[0;34m%\u001b[0m \u001b[0;36m2\u001b[0m \u001b[0;34m==\u001b[0m \u001b[0;36m1\u001b[0m\u001b[0;34m:\u001b[0m\u001b[0;34m\u001b[0m\u001b[0;34m\u001b[0m\u001b[0m\n\u001b[0;32m----> 5\u001b[0;31m     \u001b[0;32mraise\u001b[0m \u001b[0mException\u001b[0m\u001b[0;34m(\u001b[0m\u001b[0;34m\"The number shouldn't be an odd integer\"\u001b[0m\u001b[0;34m)\u001b[0m\u001b[0;34m\u001b[0m\u001b[0;34m\u001b[0m\u001b[0m\n\u001b[0m",
      "\u001b[0;31mException\u001b[0m: The number shouldn't be an odd integer"
     ]
    }
   ],
   "source": [
    "#Note:\n",
    "#The raise keyword raises an error and stops the control flow of the program. \n",
    "b = 3\n",
    "if b % 2 == 1:\n",
    "    raise Exception(\"The number shouldn't be an odd integer\")"
   ]
  },
  {
   "cell_type": "code",
   "execution_count": 45,
   "metadata": {},
   "outputs": [
    {
     "data": {
      "text/plain": [
       "Index([2, 5, 6], dtype='int64')"
      ]
     },
     "execution_count": 45,
     "metadata": {},
     "output_type": "execute_result"
    }
   ],
   "source": [
    "import pandas as pd\n",
    "p = pd.Series([1,3,4],index=[2,5,6])\n",
    "p.index"
   ]
  },
  {
   "cell_type": "code",
   "execution_count": 47,
   "metadata": {},
   "outputs": [
    {
     "name": "stdout",
     "output_type": "stream",
     "text": [
      "-----\n",
      "4  1\n",
      "6  2\n",
      "8  3\n",
      "1  7\n",
      "2  4\n",
      "5  5\n",
      "-----\n",
      "\n",
      "6\n",
      "22\n",
      "-------\n",
      "1  2  3  7\n",
      "-------\n",
      "\n",
      "\n"
     ]
    },
    {
     "ename": "TypeError",
     "evalue": "list indices must be integers or slices, not list",
     "output_type": "error",
     "traceback": [
      "\u001b[0;31m---------------------------------------------------------------------------\u001b[0m",
      "\u001b[0;31mTypeError\u001b[0m                                 Traceback (most recent call last)",
      "Cell \u001b[0;32mIn[47], line 27\u001b[0m\n\u001b[1;32m     25\u001b[0m \u001b[38;5;28mprint\u001b[39m(s1\u001b[38;5;241m.\u001b[39mSum())\n\u001b[1;32m     26\u001b[0m \u001b[38;5;28mprint\u001b[39m(s1[:\u001b[38;5;241m4\u001b[39m])\n\u001b[0;32m---> 27\u001b[0m \u001b[38;5;28mprint\u001b[39m(s1[[\u001b[38;5;241m2\u001b[39m,\u001b[38;5;241m3\u001b[39m,\u001b[38;5;241m1\u001b[39m]])\n",
      "Cell \u001b[0;32mIn[44], line 20\u001b[0m, in \u001b[0;36mArray.__getitem__\u001b[0;34m(self, sl)\u001b[0m\n\u001b[1;32m     19\u001b[0m \u001b[38;5;28;01mdef\u001b[39;00m \u001b[38;5;21m__getitem__\u001b[39m(\u001b[38;5;28mself\u001b[39m, sl):  \u001b[38;5;66;03m# slice, int\u001b[39;00m\n\u001b[0;32m---> 20\u001b[0m     \u001b[38;5;28;01mreturn\u001b[39;00m Array(\u001b[38;5;28mself\u001b[39m\u001b[38;5;241m.\u001b[39mdata[sl])\n",
      "\u001b[0;31mTypeError\u001b[0m: list indices must be integers or slices, not list"
     ]
    }
   ],
   "source": [
    "class Series(Array):\n",
    "    def __init__(self, lst, Index=None):\n",
    "        self.data=ravel(lst)\n",
    "            \n",
    "        if Index==None:\n",
    "            self.index=[i for i in range(len(lst))] \n",
    "        else:\n",
    "            self.index=ravel(Index)\n",
    "        \n",
    "    def Index(self):\n",
    "        return self.index\n",
    "    \n",
    "    def __repr__(self):\n",
    "        s='-----\\n'\n",
    "        for idx, x in zip(self.index, self.data):\n",
    "            s+= str(idx)+'  '+str(x)+'\\n'\n",
    "        return s+'-----\\n'\n",
    "    \n",
    "    # add  name to series\n",
    "a = [1,2,3,7,4,5]\n",
    "b = [4,6,8,1,2,5]\n",
    "s1 = Series(a,b)\n",
    "print(s1)\n",
    "print(s1.Len())\n",
    "print(s1.Sum())\n",
    "print(s1[:4])\n",
    "print(s1[[2,3,1]])\n"
   ]
  },
  {
   "cell_type": "code",
   "execution_count": 49,
   "metadata": {},
   "outputs": [
    {
     "name": "stdout",
     "output_type": "stream",
     "text": [
      "|1  2  3  4|\n",
      "|5  6  7  8|\n",
      "\n",
      "|1  2|\n",
      "|3  4|\n",
      "|5  6|\n",
      "|7  8|\n",
      "\n",
      "36\n",
      "8\n",
      "-------\n",
      "1  2  3  4  5  6\n",
      "-------\n",
      "\n",
      "\n"
     ]
    }
   ],
   "source": [
    "### homework ## a <- matrix(1:10,ncol=5)\n",
    "class Matrix(Array):\n",
    "    def __init__(self, lst, nrows, ncols):\n",
    "        self.data=ravel(lst)\n",
    "        assert nrows*ncols==len(self.data), \"Unmatched cells and the dimensions\"\n",
    "        self.nrows=nrows\n",
    "        self.ncols=ncols\n",
    "    #assert 条件, \"错误消息\"\n",
    "    #条件：一个表达式，如果其值为 False，则触发断言失败。\n",
    "    #错误消息（可选）：当断言失败时，会抛出一个 AssertionError 并显示该消息。\n",
    "    \n",
    "    #def Cell(self, i,j):\n",
    "     #   return self.data[i*self.ncols+j]\n",
    "    \n",
    "    def __repr__(self):\n",
    "        s=''\n",
    "        for i in range(self.nrows):\n",
    "            s+='|' \n",
    "            s+= list_to_string(self.data[i*self.ncols:(i*self.ncols+self.ncols)])\n",
    "            s+='|\\n'\n",
    "        return s\n",
    "\n",
    "    # def Reshape    # def To_Array\n",
    "    # def MatMultiply\n",
    "    # def I\n",
    "    \n",
    "mx=Matrix([1,2,3,4,5,6,7,8], 2,4)\n",
    "print(mx)\n",
    "\n",
    "mx=Matrix(Array([1,2,3,4,5,6,7,8]), 4,2)\n",
    "print(mx)\n",
    "\n",
    "print(mx.Sum())  #inhrited from the Array\n",
    "print(mx.Len())  #inherited from the Array\n",
    "print(mx[:6])"
   ]
  },
  {
   "cell_type": "code",
   "execution_count": 50,
   "metadata": {},
   "outputs": [
    {
     "name": "stdout",
     "output_type": "stream",
     "text": [
      "range(2, 6)\n",
      "range(2, 10)\n",
      "[3, 2, 1]\n",
      "[2]\n"
     ]
    }
   ],
   "source": [
    "def getIndex(sl, N=-1):\n",
    "    sltype=type(sl)\n",
    "    #print(sltype, sl)\n",
    "    if sltype == slice:\n",
    "        if sl.stop != None: #切片的结束点\n",
    "            return range(sl.stop)[sl]\n",
    "        else:\n",
    "            assert N>0, 'Unknown selection range'\n",
    "            return range(N)[sl]       \n",
    "    elif sltype == list:\n",
    "        return sl\n",
    "    elif sltype == int:  \n",
    "        return [int(sl)]\n",
    "    else: \n",
    "        raise TypeError(\"selection by \"+str(sl)+\" is not supported\")\n",
    "\n",
    "print(getIndex(slice(2, 6, None)))\n",
    "print(getIndex(slice(2, None, None),10))\n",
    "print(getIndex([3,2,1]))\n",
    "print(getIndex(2))"
   ]
  },
  {
   "cell_type": "code",
   "execution_count": 133,
   "metadata": {},
   "outputs": [
    {
     "name": "stdout",
     "output_type": "stream",
     "text": [
      "15\n",
      "-------\n",
      "11  13  15  17  19\n",
      "-------\n",
      "\n",
      "\n",
      "-------\n",
      "3  4  5\n",
      "-------\n",
      "\n",
      "\n",
      "5\n",
      "15\n",
      "-------\n",
      "2  3  4  5\n",
      "-------\n",
      "\n",
      "\n",
      "-------\n",
      "4  3\n",
      "-------\n",
      "\n",
      "\n"
     ]
    }
   ],
   "source": [
    "### modify the __getitem__ with getIndex function\n",
    "class Array:\n",
    "    def __init__(self, lst):\n",
    "        self.data=ravel(lst)\n",
    "    \n",
    "    def Sum(self):\n",
    "        return sum(self.data)\n",
    "    \n",
    "    def Add(self, aryb):\n",
    "        #assert type(aryb)==Array, 'Invalid type'\n",
    "        aryb=ravel(aryb)\n",
    "        return Array([x+y for x,y in zip(self.data, aryb)])\n",
    "    \n",
    "    def Len(self):\n",
    "        return len(self.data)\n",
    "\n",
    "    def Sum(self):\n",
    "        return sum(self.data)\n",
    "\n",
    "    def __repr__(self):\n",
    "        return \"-------\\n\"+list_to_string(self.data)+\"\\n-------\\n\\n\"\n",
    "    \n",
    "    def __getitem__(self, sl):  # slice, int, or list\n",
    "        idx=getIndex(sl, len(self.data))\n",
    "        return Array([self.data[i] for i in idx])\n",
    "\n",
    "\n",
    "a=Array([1,2,3,4,5])\n",
    "print(a.Sum())\n",
    "b=Array([10,11,12,13,14])\n",
    "print(a.Add(b))\n",
    "print(a.Add([2,2,2]))\n",
    "print(a.Len())\n",
    "print(a.Sum())\n",
    "print(a[1:]) #切片调用getitem函数\n",
    "print(a[[3,2]])\n",
    "\n"
   ]
  },
  {
   "cell_type": "code",
   "execution_count": 134,
   "metadata": {},
   "outputs": [
    {
     "name": "stdout",
     "output_type": "stream",
     "text": [
      "|1  2  3  4|\n",
      "|5  6  7  8|\n",
      "|9  8  7  6|\n",
      "\n",
      "|1  2  3|\n",
      "|4  5  6|\n",
      "|7  8  9|\n",
      "|8  7  6|\n",
      "\n",
      "66\n",
      "12\n",
      "|1  3|\n",
      "|7  9|\n",
      "\n"
     ]
    }
   ],
   "source": [
    "### now we are ready to add matrix slicing\n",
    "class Matrix(Array):\n",
    "    def __init__(self, lst, nrows, ncols):\n",
    "        self.data=ravel(lst)\n",
    "        assert nrows*ncols==len(self.data), \"Unmatched cells and the dimensions\"\n",
    "        self.nrows=nrows\n",
    "        self.ncols=ncols\n",
    "        \n",
    "    def Cell(self, i,j):\n",
    "        return self.data[i*self.ncols+j]\n",
    "    \n",
    "    def __repr__(self):\n",
    "        s=''\n",
    "        for i in range(self.nrows):\n",
    "            s+='|' \n",
    "            s+= list_to_string(self.data[i*self.ncols: i*self.ncols+self.ncols])\n",
    "            s+='|\\n'\n",
    "        return s\n",
    "\n",
    "    # def Reshape    # def To_Array\n",
    "    # def MatMultiply\n",
    "    # def I\n",
    "    \n",
    "    def __getitem__(self, sls):  # slice, int, or list\n",
    "        ridx=getIndex(sls[0], self.nrows) #使用之前定义的 getIndex 函数，将行索引 sls[0] 和列索引 sls[1] 转换为标准的整数列表。\n",
    "        cidx=getIndex(sls[1], self.ncols)\n",
    "        data=[]\n",
    "        for i in ridx:\n",
    "            for j in cidx:\n",
    "                data.append(self.data[i*self.ncols+j]) #一个一个添加，构成一个新的Matrix\n",
    "        return Matrix(data, len(ridx), len(cidx))\n",
    "            \n",
    "mx=Matrix([1,2,3,4,5,6,7,8,9,8,7,6], 3,4)\n",
    "print(mx)\n",
    "\n",
    "mx=Matrix(Array([1,2,3,4,5,6,7,8,9,8,7,6]), 4,3)\n",
    "print(mx)\n",
    "\n",
    "print(mx.Sum())  #inhrited from the Array\n",
    "print(mx.Len())  #inherited from the Array\n",
    "print(mx[[0,2],[0,2]])"
   ]
  },
  {
   "cell_type": "code",
   "execution_count": 140,
   "metadata": {},
   "outputs": [
    {
     "name": "stdout",
     "output_type": "stream",
     "text": [
      "-------\n",
      "10  11  12  13  14\n",
      "-------\n",
      "\n",
      "\n",
      "   Col0 Col1 Col2 Col3\n",
      "---------------------------\n",
      "0      1   10   11   2\n",
      "1      2   11   13   4\n",
      "2      3   12   15   6\n",
      "3      4   13   17   8\n",
      "4      5   14   19   10\n",
      "---------------------------\n",
      "\n"
     ]
    }
   ],
   "source": [
    "import io\n",
    "class DataTable(Series):\n",
    "    def __init__(self, SeriesList, rowIndex=None, colIndex=None):\n",
    "        self.data=[]\n",
    "        # need to check the size of each series\n",
    "        len0 = -1\n",
    "        for S in SeriesList:\n",
    "            s=ravel(S)\n",
    "            if len0<0:\n",
    "                len0 = len(s)\n",
    "                if rowIndex==None:\n",
    "                    self.rowIndex=Seq(len0)\n",
    "                else:\n",
    "                    self.rowIndex=ravel(rowIndex)\n",
    "            assert len(s)==len0, \"Column in data table must be the same length\"\n",
    "            if type(S)==Series: assert self.rowIndex==S.index, \"Column must have same index\"\n",
    "            self.data.append(s)\n",
    "\n",
    "        if colIndex==None:\n",
    "            self.colIndex=['Col'+str(i) for i in range(len(SeriesList))]  #手动加一个\n",
    "        else:\n",
    "            self.colIndex=ravel(colIndex)\n",
    "        \n",
    "        self.nrows=len(self.rowIndex)\n",
    "        self.ncols=len(self.colIndex)\n",
    "\n",
    "    @property # https://www.geeksforgeeks.org/python-property-function/\n",
    "    def Shape(self):\n",
    "        return (self.nrows, self.ncols)\n",
    "    \n",
    "    def __repr__(self):\n",
    "        s= '   '+' '.join(self.colIndex)\n",
    "        s+='\\n---------------------------\\n'\n",
    "        for i in range(self.nrows):\n",
    "            s+=str(self.rowIndex[i])+'   '\n",
    "            for j in range(self.ncols):\n",
    "                s+='   '+str(self.data[j][i])\n",
    "            s+='\\n'\n",
    "        s+='---------------------------\\n'\n",
    "        return s\n",
    "     \n",
    "print(b)  \n",
    "a = Array([1,2,3,4,5])\n",
    "dt=DataTable([a,b, a.Add(b), a.Add(a)])\n",
    "print(dt)"
   ]
  },
  {
   "cell_type": "markdown",
   "metadata": {},
   "source": [
    "Note: the $assert$ statement allows you to test for a certain condition. It is widely used to handle problems during Python debugging.\n",
    "https://pythongeeks.org/assertion-in-python/"
   ]
  },
  {
   "cell_type": "code",
   "execution_count": 141,
   "metadata": {},
   "outputs": [],
   "source": [
    "#what will happen if the __repr__ is not defined"
   ]
  },
  {
   "cell_type": "code",
   "execution_count": 142,
   "metadata": {},
   "outputs": [
    {
     "name": "stdout",
     "output_type": "stream",
     "text": [
      "   x y z\n",
      "---------------------------\n",
      "0      1   10   11\n",
      "1      2   11   13\n",
      "2      3   12   15\n",
      "3      4   13   17\n",
      "4      5   14   19\n",
      "---------------------------\n",
      "\n"
     ]
    }
   ],
   "source": [
    "dt=DataTable([a,b, a.Add(b)], colIndex=['x','y','z'])\n",
    "print(dt)"
   ]
  },
  {
   "cell_type": "code",
   "execution_count": 144,
   "metadata": {},
   "outputs": [
    {
     "name": "stdout",
     "output_type": "stream",
     "text": [
      "   x y z\n",
      "---------------------------\n",
      "100      1   4   22\n",
      "200      2   5   33\n",
      "300      3   6   44\n",
      "---------------------------\n",
      "\n"
     ]
    }
   ],
   "source": [
    "dt=DataTable([[1,2,3],[4,5,6], [22,33,44]], colIndex=['x','y','z'], rowIndex=[100,200,300])\n",
    "print(dt)\n",
    "#print(dt.Sum())   ## will be an error"
   ]
  },
  {
   "cell_type": "code",
   "execution_count": null,
   "metadata": {},
   "outputs": [],
   "source": [
    "## try to mimic the iloc[] function\n",
    "class iLoc():\n",
    "    def __init__(self, obj):\n",
    "        self.obj=obj\n",
    "        \n",
    "    def __getitem__(self, slc):\n",
    "        return self.obj.subset(slc)\n",
    "\n",
    "class DataTable(Series):\n",
    "    def __init__(self, SeriesList, rowIndex=None, colIndex=None):\n",
    "        self.iLoc = iLoc(self)\n",
    "        self.data = []\n",
    "        # need to check the size of each series\n",
    "        len0 = -1\n",
    "        for S in SeriesList:\n",
    "            s = ravel(S)\n",
    "            if len0 < 0:\n",
    "                len0 = len(s)\n",
    "                if rowIndex == None:\n",
    "                    self.rowIndex = Seq(len0)\n",
    "                else:\n",
    "                    self.rowIndex = ravel(rowIndex)\n",
    "            assert len(s) == len0, \"Column in data table must be the same length\"\n",
    "            if type(S) == Series: assert self.rowIndex == S.index, \"Column must have same index\"\n",
    "            self.data.append(s)\n",
    "            \n",
    "\n",
    "        if colIndex == None:\n",
    "            self.colIndex=['Col'+str(i) for i in range(len(SeriesList))] \n",
    "        else:\n",
    "            self.colIndex=ravel(colIndex)\n",
    "        \n",
    "        self.nrows=len(self.rowIndex)\n",
    "        self.ncols=len(self.colIndex)\n",
    "        \n",
    "    @property\n",
    "    def Shape(self):\n",
    "        return (self.nrows, self.ncols)\n",
    "    \n",
    "    def __repr__(self):\n",
    "        s= '       '+'   '.join(self.colIndex)\n",
    "        s+='\\n---------------------------\\n'\n",
    "        for i in range(self.nrows):\n",
    "            s+=str(self.rowIndex[i])+'   '\n",
    "            for j in range(self.ncols):\n",
    "                s+='   '+str(self.data[j][i])\n",
    "            s+='\\n'\n",
    "        s+='---------------------------\\n'\n",
    "        return s\n",
    "     \n",
    "    def subset(self, slc):  ## callable from other object\n",
    "        ridx=getIndex(slc[0], self.nrows)\n",
    "        cidx=getIndex(slc[1], self.ncols)\n",
    "        return DataTable([[self.data[j][i] for i in ridx] for j in cidx], \n",
    "                         rowIndex=[self.rowIndex[i] for i in ridx], \n",
    "                         colIndex=[self.colIndex[j] for j in cidx])\n",
    "\n",
    "    def __getitem__(self, slc):\n",
    "        return self.subset(slc)\n",
    "    \n",
    "\n",
    "                \n",
    "dt=DataTable([a, b, a.Add(b), a.Add(a), a.Add(b).Add(b)], colIndex=['A','B','C','D'])\n",
    "print(dt)\n",
    "\n",
    "print(dt[2:,2:])\n",
    "print(dt.iLoc[:,1:])\n",
    "print(dt.iLoc[:2,1:])\n",
    "print(dt.iLoc[1:,2:])"
   ]
  },
  {
   "cell_type": "code",
   "execution_count": null,
   "metadata": {},
   "outputs": [],
   "source": []
  }
 ],
 "metadata": {
  "kernelspec": {
   "display_name": "Python 3 (ipykernel)",
   "language": "python",
   "name": "python3"
  },
  "language_info": {
   "codemirror_mode": {
    "name": "ipython",
    "version": 3
   },
   "file_extension": ".py",
   "mimetype": "text/x-python",
   "name": "python",
   "nbconvert_exporter": "python",
   "pygments_lexer": "ipython3",
   "version": "3.12.4"
  }
 },
 "nbformat": 4,
 "nbformat_minor": 2
}
