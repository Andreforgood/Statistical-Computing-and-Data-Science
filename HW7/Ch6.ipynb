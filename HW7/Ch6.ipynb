{
 "cells": [
  {
   "cell_type": "markdown",
   "id": "0a5c8451-36f5-436f-923f-67eeb8f6833c",
   "metadata": {},
   "source": [
    "## Chapter 6\n",
    "### Author: Ou, Dongwen\n",
    "\n",
    "## Question 1"
   ]
  },
  {
   "cell_type": "code",
   "execution_count": 16,
   "id": "74c558c1-f863-4f57-b250-b47ac1c1ca85",
   "metadata": {},
   "outputs": [
    {
     "name": "stdout",
     "output_type": "stream",
     "text": [
      "Bootstrap estimate of Var(p̂ - p): 0.001900\n"
     ]
    }
   ],
   "source": [
    "import numpy as np\n",
    "import matplotlib.pyplot as plt\n",
    "\n",
    "# raw data：24 '1'，76 '0'\n",
    "data = np.array([1] * 24 + [0] * 76)\n",
    "n = len(data)\n",
    "B = 10000  # bootstrap # of trials\n",
    "\n",
    "# save bootstrap's p_hat\n",
    "bootstrap_phats = np.empty(B)\n",
    "\n",
    "for b in range(B):\n",
    "    sample = np.random.choice(data, size=n, replace=True) # new bootstrap sample, size == n\n",
    "    bootstrap_phats[b] = np.mean(sample)\n",
    "\n",
    "# 1️⃣ Bootstrap variance estimation\n",
    "bootstrap_variance = np.var(bootstrap_phats, ddof=1)\n",
    "print(f\"Bootstrap estimate of Var(p̂ - p): {bootstrap_variance:.6f}\") # var(p_hat-p) = var(p_hat)\n",
    "# •ddof=0 → 使用 n 为分母 → 适用于 总体方差\n",
    "# •ddof=1 → 使用 n - 1 为分母 → 适用于 样本方差"
   ]
  },
  {
   "cell_type": "code",
   "execution_count": 17,
   "id": "f6196a64-bbd6-4d39-b91e-9a60ee885f65",
   "metadata": {},
   "outputs": [
    {
     "name": "stdout",
     "output_type": "stream",
     "text": [
      "95% bootstrap confidence interval for p: (0.160, 0.330)\n"
     ]
    },
    {
     "data": {
      "image/png": "[encoded data removed]",
      "text/plain": [
       "<Figure size 640x480 with 1 Axes>"
      ]
     },
     "metadata": {},
     "output_type": "display_data"
    }
   ],
   "source": [
    "# 2️⃣ Bootstrap CI（Percentile method）\n",
    "lower = np.percentile(bootstrap_phats, 2.5)\n",
    "upper = np.percentile(bootstrap_phats, 97.5)\n",
    "print(f\"95% bootstrap confidence interval for p: ({lower:.3f}, {upper:.3f})\")\n",
    "# can also use (2p_hat-upper,2p_hat-lower) to construct \n",
    "\n",
    "# visualization\n",
    "plt.hist(bootstrap_phats, bins=30, density=True, alpha=0.7, color='skyblue')\n",
    "plt.axvline(lower, color='red', linestyle='--', label='2.5% percentile')\n",
    "plt.axvline(upper, color='red', linestyle='--', label='97.5% percentile')\n",
    "plt.title(\"Bootstrap distribution of p̂\")\n",
    "plt.xlabel(\"p̂\")\n",
    "plt.ylabel(\"Density\")\n",
    "plt.legend()\n",
    "plt.show()"
   ]
  },
  {
   "cell_type": "markdown",
   "id": "f5acae18-1be8-4840-bb84-fe7ec1fc856a",
   "metadata": {},
   "source": [
    "## Question 2\n",
    "\n",
    "We first calculate $\\hat{\\beta}$.\n",
    "Denote $X_{i}=\\left(1,X_{1i},X_{2i}\\right)'$. Then the log-likelihood function is $$L\\left(\\beta\\right)=\\sum_{i=1}^{n}Y_{i}X'_{i}\\beta-\\sum_{i=1}^{n}\\log\\left(1+\\exp\\left(X'_{i}\\beta\\right)\\right).$$\n",
    "\n",
    "So, $$\\nabla L\\left(\\beta\\right)=\\sum_{i=1}^{n}X_{i}Y'_{i}-\\sum_{i=1}^{n}\\frac{\\exp\\left(X'_{i}\\beta\\right)}{1+\\exp\\left(X'_{i}\\beta\\right)}X_{i} =\\sum_{i=1}^{n}(Y_{i}-\\frac{\\exp\\left(X'_{i}\\beta\\right)}{1+\\exp\\left(X'_{i}\\beta\\right)})X_{i},$$and $$\\nabla^{2}L\\left(\\beta\\right)=-\\sum_{i=1}^{n}\\frac{\\exp\\left(X'_{i}\\beta\\right)}{\\left(1+\\exp\\left(X'_{i}\\beta\\right)\\right)^{2}}X_{i}X'_{i}.$$\n",
    "We use Newton method to find $\\hat{\\beta}$.\n",
    "\n",
    "$$\\nabla_\\beta \\ell(\\beta) = \\sum_{i=1}^n (Y_i - \\mu_i) X_i = X^\\top (Y - \\mu)$$\n",
    "\n",
    "Let $\\mu_i = \\frac{e^{X_i^\\top \\beta}}{1 + e^{X_i^\\top \\beta}},$ then we have $$H(\\beta) = -\\sum_{i=1}^n \\mu_i(1 - \\mu_i) X_i X_i^\\top,$$\n",
    "\n",
    "and the matrix form is $$H(\\beta) = -X^\\top W X$$ where $W: W = \\text{diag}(\\mu_1(1 - \\mu_1), \\dots, \\mu_n(1 - \\mu_n)) \\in \\mathbb{R}^{n \\times n}$"
   ]
  },
  {
   "cell_type": "code",
   "execution_count": 34,
   "id": "47b82a2b-adec-48e4-97c9-dbff374c4872",
   "metadata": {},
   "outputs": [
    {
     "name": "stdout",
     "output_type": "stream",
     "text": [
      "   Y     X1     X2\n",
      "0  1  0.393 -0.283\n",
      "1  1  1.302  1.152\n",
      "2  1 -0.594 -1.147\n",
      "3  1  0.436  0.674\n",
      "4  1 -0.504 -0.669\n",
      "(100,) (100, 3)\n"
     ]
    },
    {
     "name": "stderr",
     "output_type": "stream",
     "text": [
      "<>:2: SyntaxWarning: invalid escape sequence '\\s'\n",
      "<>:2: SyntaxWarning: invalid escape sequence '\\s'\n",
      "/var/folders/_v/z97dbq5n0msfsdk6k58jt2380000gn/T/ipykernel_3447/3857409736.py:2: SyntaxWarning: invalid escape sequence '\\s'\n",
      "  data = pd.read_table(\"/Users/dongwenou/Downloads/Statistical Computing/HW_chapter6_2_2025.txt\", sep=\"\\s+\", engine='python')\n"
     ]
    }
   ],
   "source": [
    "import pandas as pd\n",
    "data = pd.read_table(\"/Users/dongwenou/Downloads/Statistical Computing/HW_chapter6_2_2025.txt\", sep=\"\\s+\", engine='python') \n",
    "# 用正则分隔符 \\s+ 表示“任意空格”\n",
    "print(data.head())\n",
    "Y_input = data[\"Y\"].to_numpy()  # 转换为一维数组\n",
    "X_input = data.drop(columns=\"Y\")  # 除去原本的 Y 列\n",
    "X_input.insert(0, \"Intercept\", 1)  # 加上常数项\n",
    "X_input = X_input.to_numpy()  # transform to numpy array\n",
    "\n",
    "print(Y_input.shape, X_input.shape)"
   ]
  },
  {
   "cell_type": "code",
   "execution_count": 42,
   "id": "7701c45a-2273-42ea-bbd0-5d8a61060ced",
   "metadata": {},
   "outputs": [
    {
     "name": "stdout",
     "output_type": "stream",
     "text": [
      "The estimated beta is: [ 1.00573465 -0.96570808  1.20910634]\n"
     ]
    }
   ],
   "source": [
    "def gradient(beta, X, Y):\n",
    "    X_beta = X @ beta\n",
    "    probs = np.exp(X_beta) / (1 + np.exp(X_beta))\n",
    "    return X.T @ (Y - probs) # matrix form, faster than summation.\n",
    "\n",
    "#（Hessian）\n",
    "def hessian(beta, X):\n",
    "    X_beta = X @ beta\n",
    "    probs = np.exp(X_beta) / (1 + np.exp(X_beta))\n",
    "    W = np.diag((probs * (1 - probs)))\n",
    "    return -X.T @ W @ X\n",
    "\n",
    "# Euclidean Norm\n",
    "def norm(vec):\n",
    "    return np.linalg.norm(vec)\n",
    "\n",
    "# Newton\n",
    "def newton_method(X, Y, tol=1e-5, max_iter=100, init_beta=None):\n",
    "    n_features = X.shape[1]\n",
    "    beta = np.zeros(n_features) if init_beta is None else init_beta.copy()\n",
    "    for _ in range(max_iter):\n",
    "        grad = gradient(beta, X, Y)\n",
    "        hess = hessian(beta, X)\n",
    "        delta = np.linalg.solve(hess, grad)  # solve H⁻¹ * grad\n",
    "        beta -= delta\n",
    "        if norm(delta) < tol:\n",
    "            break\n",
    "    return beta\n",
    "\n",
    "# simulation\n",
    "beta_hat = newton_method(X_input, Y_input)\n",
    "print(\"The estimated beta is:\", beta_hat)"
   ]
  },
  {
   "cell_type": "code",
   "execution_count": 65,
   "id": "1e5da812-bd4a-4c9a-b28b-0f3e4dec510a",
   "metadata": {},
   "outputs": [
    {
     "name": "stdout",
     "output_type": "stream",
     "text": [
      "[array([ 1.22789857, -1.33701686,  1.61047071]), array([ 0.78180466, -1.11366854,  1.05419349])]\n",
      "Confidence Interval for beta_0 is : [0.27185783631317584, 1.5012189719323041]\n",
      "Confidence Interval for beta_1 is : [-1.460282373528667, -0.1955126498548947]\n",
      "Confidence Interval for beta_2 is : [0.25439404389126086, 1.7172792920564994]\n"
     ]
    }
   ],
   "source": [
    "# Here we used the parametric bootstrap method:\n",
    "B = 1000\n",
    "result = []\n",
    "for b in range(B):\n",
    "    boots_Y = Y_input\n",
    "    for i in range(len(Y_input)): # num_samples\n",
    "        p = 1 / (1 + np.exp(-X_input[i] @ beta_hat)) # bernoulli p=1\n",
    "        boots_Y[i] = 1 if np.random.uniform(0, 1) < p else 0\n",
    "    boots_beta = newton_method(X_input, boots_Y)\n",
    "    result.append(boots_beta)\n",
    "print(result[:2])\n",
    "\n",
    "for i in range(3):\n",
    "    boots_beta = [item[i] for item in result] # 取对应的参数估计\n",
    "    q_975 = np.quantile(boots_beta, 0.975)\n",
    "    q_025 = np.quantile(boots_beta, 0.025)\n",
    "    print(\"Confidence Interval for beta_{} is : {}\".format(i, [2 * beta_hat[i] - q_975, 2 * beta_hat[i] - q_025]))"
   ]
  },
  {
   "cell_type": "code",
   "execution_count": null,
   "id": "8138331e-406c-4a5f-af11-fbc0d8d9f9ed",
   "metadata": {},
   "outputs": [],
   "source": []
  }
 ],
 "metadata": {
  "kernelspec": {
   "display_name": "Python 3 (ipykernel)",
   "language": "python",
   "name": "python3"
  },
  "language_info": {
   "codemirror_mode": {
    "name": "ipython",
    "version": 3
   },
   "file_extension": ".py",
   "mimetype": "text/x-python",
   "name": "python",
   "nbconvert_exporter": "python",
   "pygments_lexer": "ipython3",
   "version": "3.12.4"
  }
 },
 "nbformat": 4,
 "nbformat_minor": 5
}
