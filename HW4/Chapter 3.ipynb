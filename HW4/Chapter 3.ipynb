{
 "cells": [
  {
   "cell_type": "code",
   "execution_count": 17,
   "id": "c64326a9-b348-4ad2-b2df-aeb24fa4072b",
   "metadata": {},
   "outputs": [],
   "source": [
    "import numpy as np\n",
    "\n",
    "def g(x):\n",
    "    \"\"\" 被积函数 g(x) = 1/x \"\"\"\n",
    "    return 1.0 / x\n",
    "\n",
    "def left_riemann(a, b, n, f):\n",
    "    \"\"\"\n",
    "    左端点 Riemann 求和 R_{1,n}:\n",
    "        R_{1,n} = h_n * sum_{i=0}^{n-1} f(x_i)\n",
    "    其中 x_i = a + i*h_n, h_n = (b - a) / n\n",
    "    \"\"\"\n",
    "    x = np.linspace(a, b, n+1)  # n+1 个网格点\n",
    "    h = (b - a) / n\n",
    "    return h * np.sum(f(x[:-1]))  # 忽略最后一个点，用左端点\n",
    "\n",
    "def mid_riemann(a, b, n, f):\n",
    "    \"\"\"\n",
    "    中点 Riemann 求和 R_{2,n}:\n",
    "        R_{2,n} = h_n * sum_{i=0}^{n-1} f((x_i + x_{i+1}) / 2)\n",
    "    其中 x_i = a + i*h_n\n",
    "    \"\"\"\n",
    "    x = np.linspace(a, b, n+1)\n",
    "    h = (b - a) / n\n",
    "    mid_points = 0.5 * (x[:-1] + x[1:])  # 每个小区间的中点\n",
    "    return h * np.sum(f(mid_points))\n",
    "\n",
    "def trapezoid(a, b, n, f):\n",
    "    \"\"\"\n",
    "    梯形求和 T_n:\n",
    "        T_n = h_n/2 * [ f(x_0) + 2*sum_{i=1}^{n-1} f(x_i) + f(x_n) ]\n",
    "    \"\"\"\n",
    "    x = np.linspace(a, b, n+1)\n",
    "    h = (b - a) / n\n",
    "    y = f(x)\n",
    "    return (h / 2) * (y[0] + 2*np.sum(y[1:-1]) + y[-1])\n",
    "\n",
    "def simpson(a, b, n, f):\n",
    "    \"\"\"\n",
    "    使用给定的“第二行”Simpson公式来近似\n",
    "    公式:\n",
    "      S_n = (h/6) * g(x_0)\n",
    "            + (h/3) * sum_{i=1}^{n-1} g(x_i)\n",
    "            + (2h/3)* sum_{i=0}^{n-1} g((x_i + x_{i+1})/2)\n",
    "            + (h/6) * g(x_n)\n",
    "            \n",
    "    其中 x_i = a + i*h, h = (b - a)/n.\n",
    "    \"\"\"\n",
    "    x = np.linspace(a, b, n+1)  # x_0, x_1, ..., x_n\n",
    "    h = (b - a) / n\n",
    "    \n",
    "    # sum_{i=1}^{n-1} g(x_i)\n",
    "    sum_interior = sum(f(x[i]) for i in range(1, n))\n",
    "    \n",
    "    # sum_{i=0}^{n-1} g((x_i + x_{i+1})/2)\n",
    "    sum_mid = sum(f(0.5*(x[i] + x[i+1])) for i in range(n))\n",
    "    \n",
    "    # 按照公式拼起来\n",
    "    S_n = (h/6) * f(x[0]) + (h/3) * sum_interior + (2*h/3) * sum_mid + (h/6) * f(x[n])\n",
    "    \n",
    "    return S_n\n",
    "\n"
   ]
  },
  {
   "cell_type": "code",
   "execution_count": 19,
   "id": "5ec2943c-e450-4e02-9946-578ac7594527",
   "metadata": {},
   "outputs": [
    {
     "name": "stdout",
     "output_type": "stream",
     "text": [
      "Exact integral = ln(3) ≈ 1.0986122886681098\n",
      " n |   R1_n (left)   R2_n (mid)    T_n (trap)     S_n (simpson)\n",
      "---------------------------------------------------------------\n",
      " 4 |     1.283333     1.089755     1.116667     1.098725\n",
      " 8 |     1.186544     1.096325     1.103211     1.098620\n",
      "16 |     1.141434     1.098035     1.099768     1.098613\n",
      "32 |     1.119735     1.098468     1.098902     1.098612\n",
      "64 |     1.109101     1.098576     1.098685     1.098612\n"
     ]
    }
   ],
   "source": [
    "#---------------------------\n",
    "# 主程序：对比不同 n 时各方法结果\n",
    "#---------------------------\n",
    "a, b = 1.0, 3.0\n",
    "exact_value = np.log(3.0)  # 真实值\n",
    "\n",
    "print(\"Exact integral = ln(3) ≈\", exact_value)\n",
    "print(\" n |   R1_n (left)   R2_n (mid)    T_n (trap)     S_n (simpson)\")\n",
    "print(\"---------------------------------------------------------------\")\n",
    "\n",
    "for n in [4, 8, 16, 32, 64]:\n",
    "    r1n = left_riemann(a, b, n, g)\n",
    "    r2n = mid_riemann(a, b, n, g)\n",
    "    tn  = trapezoid(a, b, n, g)\n",
    "    sn  = simpson(a, b, n, g)\n",
    "    print(f\"{n:2d} | {r1n:12.6f} {r2n:12.6f} {tn:12.6f} {sn:12.6f}\")"
   ]
  },
  {
   "cell_type": "code",
   "execution_count": null,
   "id": "3000f125-0086-4517-a5d1-d8440e1a752f",
   "metadata": {},
   "outputs": [],
   "source": []
  },
  {
   "cell_type": "code",
   "execution_count": null,
   "id": "242f9b0a-a941-4095-8d8a-c6b6fae5892d",
   "metadata": {},
   "outputs": [],
   "source": []
  }
 ],
 "metadata": {
  "kernelspec": {
   "display_name": "Python 3 (ipykernel)",
   "language": "python",
   "name": "python3"
  },
  "language_info": {
   "codemirror_mode": {
    "name": "ipython",
    "version": 3
   },
   "file_extension": ".py",
   "mimetype": "text/x-python",
   "name": "python",
   "nbconvert_exporter": "python",
   "pygments_lexer": "ipython3",
   "version": "3.12.4"
  }
 },
 "nbformat": 4,
 "nbformat_minor": 5
}
